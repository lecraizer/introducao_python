{
 "cells": [
  {
   "cell_type": "markdown",
   "id": "1738a399-99ee-4fb1-a44b-bcfa40abfdaa",
   "metadata": {},
   "source": [
    "# Projetinho 1 - Gerenciador de Biblioteca\n",
    "\n",
    "Neste projeto você vai criar um pequeno sistema para gerenciar livros de uma biblioteca usando Python. O programa deve permitir **adicionar livros**, **listar todos os livros disponíveis** e **buscar livros** tanto pelo título quanto pelo autor.  \n",
    "\n",
    "Cada livro deve ter exatamente dois atributos: **título** e **autor**. O programa terá um menu interativo no terminal, rodando em loop até o usuário escolher sair.\n",
    "\n",
    "Você deverá implementar as seguintes funções:\n",
    "\n",
    "- `adicionar_livro(...)` → adiciona um novo livro.  \n",
    "- `listar_livros(...)` → mostra todos os livros disponíveis.  \n",
    "- `buscar_livro(...)` → busca e mostra informações de um livro pelo título.  \n",
    "- `buscar_autor(...)` → busca e mostra os livros de um determinado autor.  \n",
    "- `menu(...)` → exibe o menu e chama as funções acima de acordo com a escolha do usuário.  \n"
   ]
  },
  {
   "cell_type": "code",
   "execution_count": 22,
   "id": "a37a23be-a7da-4813-8b57-eb1aa316a4d9",
   "metadata": {},
   "outputs": [
    {
     "name": "stdout",
     "output_type": "stream",
     "text": [
      "\n",
      "Menu:\n",
      "1. Adicionar livro\n",
      "2. Listas livros\n",
      "3. Buscar livro\n",
      "4. Buscar autor\n",
      "0. Sair\n"
     ]
    },
    {
     "name": "stdin",
     "output_type": "stream",
     "text": [
      "Escolha um número de (1-4) ou 0 para sair do menu:  1\n",
      "Digite o título do livro:  Senhora\n",
      "Digite o autor do livro:  José de Alencar\n"
     ]
    },
    {
     "name": "stdout",
     "output_type": "stream",
     "text": [
      "Livro \"Senhora\" adicionado com sucesso!\n",
      "\n",
      "Menu:\n",
      "1. Adicionar livro\n",
      "2. Listas livros\n",
      "3. Buscar livro\n",
      "4. Buscar autor\n",
      "0. Sair\n"
     ]
    },
    {
     "name": "stdin",
     "output_type": "stream",
     "text": [
      "Escolha um número de (1-4) ou 0 para sair do menu:  1\n",
      "Digite o título do livro:  Tudo é rio\n",
      "Digite o autor do livro:  Carla Madero\n"
     ]
    },
    {
     "name": "stdout",
     "output_type": "stream",
     "text": [
      "Livro \"Tudo é rio\" adicionado com sucesso!\n",
      "\n",
      "Menu:\n",
      "1. Adicionar livro\n",
      "2. Listas livros\n",
      "3. Buscar livro\n",
      "4. Buscar autor\n",
      "0. Sair\n"
     ]
    },
    {
     "name": "stdin",
     "output_type": "stream",
     "text": [
      "Escolha um número de (1-4) ou 0 para sair do menu:  1\n",
      "Digite o título do livro:  1808\n",
      "Digite o autor do livro:  Laurentino Gomes\n"
     ]
    },
    {
     "name": "stdout",
     "output_type": "stream",
     "text": [
      "Livro \"1808\" adicionado com sucesso!\n",
      "\n",
      "Menu:\n",
      "1. Adicionar livro\n",
      "2. Listas livros\n",
      "3. Buscar livro\n",
      "4. Buscar autor\n",
      "0. Sair\n"
     ]
    },
    {
     "name": "stdin",
     "output_type": "stream",
     "text": [
      "Escolha um número de (1-4) ou 0 para sair do menu:  2\n"
     ]
    },
    {
     "name": "stdout",
     "output_type": "stream",
     "text": [
      "Livro: Senhora, autor: José De Alencar\n",
      "Livro: Tudo É Rio, autor: Carla Madero\n",
      "Livro: 1808, autor: Laurentino Gomes\n",
      "\n",
      "Menu:\n",
      "1. Adicionar livro\n",
      "2. Listas livros\n",
      "3. Buscar livro\n",
      "4. Buscar autor\n",
      "0. Sair\n"
     ]
    },
    {
     "name": "stdin",
     "output_type": "stream",
     "text": [
      "Escolha um número de (1-4) ou 0 para sair do menu:  3\n",
      "Digite o título do livro:  1808\n"
     ]
    },
    {
     "name": "stdout",
     "output_type": "stream",
     "text": [
      "Livro encontrado. Autor: Laurentino Gomes\n",
      "\n",
      "Menu:\n",
      "1. Adicionar livro\n",
      "2. Listas livros\n",
      "3. Buscar livro\n",
      "4. Buscar autor\n",
      "0. Sair\n"
     ]
    },
    {
     "name": "stdin",
     "output_type": "stream",
     "text": [
      "Escolha um número de (1-4) ou 0 para sair do menu:  3\n",
      "Digite o título do livro:  Teste\n"
     ]
    },
    {
     "name": "stdout",
     "output_type": "stream",
     "text": [
      "\n",
      "Menu:\n",
      "1. Adicionar livro\n",
      "2. Listas livros\n",
      "3. Buscar livro\n",
      "4. Buscar autor\n",
      "0. Sair\n"
     ]
    },
    {
     "name": "stdin",
     "output_type": "stream",
     "text": [
      "Escolha um número de (1-4) ou 0 para sair do menu:  4\n",
      "Digite o autor do livro:  laurentino gomes\n"
     ]
    },
    {
     "name": "stdout",
     "output_type": "stream",
     "text": [
      "Autor encontrado. Autor: 1808\n",
      "\n",
      "Menu:\n",
      "1. Adicionar livro\n",
      "2. Listas livros\n",
      "3. Buscar livro\n",
      "4. Buscar autor\n",
      "0. Sair\n"
     ]
    },
    {
     "name": "stdin",
     "output_type": "stream",
     "text": [
      "Escolha um número de (1-4) ou 0 para sair do menu:  4\n",
      "Digite o autor do livro:  0\n"
     ]
    },
    {
     "name": "stdout",
     "output_type": "stream",
     "text": [
      "\n",
      "Menu:\n",
      "1. Adicionar livro\n",
      "2. Listas livros\n",
      "3. Buscar livro\n",
      "4. Buscar autor\n",
      "0. Sair\n"
     ]
    },
    {
     "name": "stdin",
     "output_type": "stream",
     "text": [
      "Escolha um número de (1-4) ou 0 para sair do menu:  0\n"
     ]
    }
   ],
   "source": [
    "def adicionar_livro(livros, titulo, autor):\n",
    "    '''\n",
    "    Adiciona um novo livro, que inclui obra e autor\n",
    "    '''\n",
    "    livros.append({'título': titulo, 'autor': autor})\n",
    "    print(f'Livro \"{titulo}\" adicionado com sucesso!')\n",
    "                  \n",
    "    \n",
    "def listar_livros(livros):\n",
    "    '''\n",
    "    Lista todos os livros disponíveis na biblioteca\n",
    "    '''\n",
    "    for livro in livros:\n",
    "        print(f'Livro: {livro[\"título\"].title()}, autor: {livro[\"autor\"].title()}')\n",
    "\n",
    "def buscar_livro(livros, titulo):\n",
    "    '''\n",
    "    Busca um livro específico pelo título da obra\n",
    "    '''\n",
    "    encontrado = False\n",
    "    for livro in livros:\n",
    "        if livro['título'].lower() == titulo.lower():\n",
    "            print(f'Livro encontrado. Autor: {livro[\"autor\"]}')\n",
    "            encontrado = True\n",
    "            \n",
    "    if not encontrado:\n",
    "        return 'Livro não encontrado'\n",
    "\n",
    "def buscar_autor(livros, autor):\n",
    "    '''\n",
    "    Busca um livro específico pelo autor da obra\n",
    "    '''\n",
    "    encontrado = False\n",
    "    for livro in livros:\n",
    "        if livro['autor'].lower(). == autor.lower():\n",
    "            print(f'Autor encontrado. Autor: {livro[\"título\"]}')\n",
    "            encontrado = True\n",
    "            \n",
    "    if not encontrado:\n",
    "        return 'Autor não encontrado'\n",
    "\n",
    "def menu():\n",
    "    '''\n",
    "    Exibe o menu principal e lida com as opções do usuário\n",
    "    '''\n",
    "    livros = []\n",
    "    while True:\n",
    "        print('\\nMenu:')\n",
    "        print('1. Adicionar livro')\n",
    "        print('2. Listas livros')\n",
    "        print('3. Buscar livro')\n",
    "        print('4. Buscar autor')\n",
    "        print('0. Sair')\n",
    "\n",
    "        escolha = input('Escolha um número de (1-4) ou 0 para sair do menu: ')\n",
    "\n",
    "        match escolha:\n",
    "            case '0':\n",
    "                break\n",
    "            case '1':\n",
    "                titulo = input('Digite o título do livro: ')\n",
    "                autor = input('Digite o autor do livro: ')\n",
    "                adicionar_livro(livros, titulo, autor)\n",
    "            case '2':\n",
    "                listar_livros(livros)\n",
    "            case '3':\n",
    "                titulo = input('Digite o título do livro: ')\n",
    "                buscar_livro(livros, titulo)\n",
    "            case '4':\n",
    "                autor = input('Digite o autor do livro: ')\n",
    "                buscar_autor(livros, autor)\n",
    "            case _:\n",
    "                print('Digite uma opção válida')\n",
    "                \n",
    "menu()"
   ]
  },
  {
   "cell_type": "code",
   "execution_count": null,
   "id": "34f35967-8093-4ff0-9d73-dedea1b45cc5",
   "metadata": {},
   "outputs": [],
   "source": []
  }
 ],
 "metadata": {
  "kernelspec": {
   "display_name": "Python 3 (ipykernel)",
   "language": "python",
   "name": "python3"
  },
  "language_info": {
   "codemirror_mode": {
    "name": "ipython",
    "version": 3
   },
   "file_extension": ".py",
   "mimetype": "text/x-python",
   "name": "python",
   "nbconvert_exporter": "python",
   "pygments_lexer": "ipython3",
   "version": "3.11.7"
  }
 },
 "nbformat": 4,
 "nbformat_minor": 5
}
