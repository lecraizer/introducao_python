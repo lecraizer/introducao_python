{
 "cells": [
  {
   "cell_type": "markdown",
   "id": "8a16cf26-6e20-41f8-a92b-35cb88398304",
   "metadata": {},
   "source": [
    "# Projetinho 2 - Gerenciador de Inventário\n",
    "\n",
    "Neste projeto você vai criar um sistema para gerenciar o inventário de produtos de uma loja usando Python. O programa deve permitir **adicionar produtos**, **listar os produtos cadastrados**, **buscar produtos pelo nome**, além de oferecer opções de **remoção**, **atualização de estoque** e **cálculo do valor total em estoque**.  \n",
    "\n",
    "Cada produto deve ter três atributos: **nome**, **quantidade** e **preço**. O programa terá um menu interativo no terminal, rodando em loop até o usuário escolher sair.\n",
    "\n",
    "Você deverá implementar as seguintes funções:\n",
    "\n",
    "- `adicionar_produto(...)` → adiciona um novo produto.  \n",
    "- `listar_produtos(...)` → mostra todos os produtos cadastrados.  \n",
    "- `buscar_produto(...)` → busca e mostra informações de um produto pelo nome.  \n",
    "- `remover_produto(...)` → remove um produto do inventário.  \n",
    "- `atualizar_estoque(...)` → altera a quantidade de um produto existente.  \n",
    "- `mostrar_produtos_esgotados(...)` → lista todos os produtos com quantidade igual a zero.  \n",
    "- `calcular_valor_total(...)` → calcula e exibe o valor total em estoque.  \n",
    "- `main(...)` → exibe o menu e chama as funções acima de acordo com a escolha do usuário.  \n"
   ]
  },
  {
   "cell_type": "code",
   "execution_count": null,
   "id": "c0c15cad-2b77-484b-989e-8bc4fce39e6c",
   "metadata": {},
   "outputs": [],
   "source": []
  }
 ],
 "metadata": {
  "kernelspec": {
   "display_name": "Python 3 (ipykernel)",
   "language": "python",
   "name": "python3"
  },
  "language_info": {
   "codemirror_mode": {
    "name": "ipython",
    "version": 3
   },
   "file_extension": ".py",
   "mimetype": "text/x-python",
   "name": "python",
   "nbconvert_exporter": "python",
   "pygments_lexer": "ipython3",
   "version": "3.11.7"
  }
 },
 "nbformat": 4,
 "nbformat_minor": 5
}
