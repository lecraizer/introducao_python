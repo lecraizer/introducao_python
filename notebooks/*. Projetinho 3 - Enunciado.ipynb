{
 "cells": [
  {
   "cell_type": "markdown",
   "id": "1738a399-99ee-4fb1-a44b-bcfa40abfdaa",
   "metadata": {},
   "source": [
    "# Projetinho 3 - Gerenciador de Receitas\n",
    "\n",
    "Neste projeto você vai criar um sistema para gerenciar receitas usando Python. O programa deve permitir **adicionar receitas**, **listar todas as receitas cadastradas**, **buscar receitas por ingrediente ou categoria**, além de oferecer opções para **ordenar receitas** e **transformar nomes para maiúsculas**.  \n",
    "\n",
    "Cada receita deve ter três atributos: **nome**, **ingredientes** e **categoria**. O programa terá um menu interativo no terminal, rodando em loop até o usuário escolher sair.\n",
    "\n",
    "Você deverá implementar as seguintes funções:\n",
    "\n",
    "- `adicionar_receita(...)` → adiciona uma nova receita.  \n",
    "- `listar_receitas(...)` → mostra todas as receitas cadastradas.  \n",
    "- `todas_tem_ingrediente(...)` → verifica se todas as receitas possuem um ingrediente específico.  \n",
    "- `alguma_tem_ingrediente(...)` → verifica se pelo menos uma receita contém um ingrediente específico.  \n",
    "- `filtrar_por_categoria(...)` → lista as receitas de uma categoria escolhida.  \n",
    "- `ordernar_receitas(...)` → ordena as receitas por nome ou por quantidade de ingredientes.  \n",
    "- `transformar_nomes_maisculos(...)` → exibe os nomes de todas as receitas em letras maiúsculas.  \n",
    "- `menu(...)` → exibe o menu e chama as funções acima de acordo com a escolha do usuário.  \n"
   ]
  },
  {
   "cell_type": "code",
   "execution_count": null,
   "id": "a37a23be-a7da-4813-8b57-eb1aa316a4d9",
   "metadata": {},
   "outputs": [],
   "source": []
  }
 ],
 "metadata": {
  "kernelspec": {
   "display_name": "Python 3 (ipykernel)",
   "language": "python",
   "name": "python3"
  },
  "language_info": {
   "codemirror_mode": {
    "name": "ipython",
    "version": 3
   },
   "file_extension": ".py",
   "mimetype": "text/x-python",
   "name": "python",
   "nbconvert_exporter": "python",
   "pygments_lexer": "ipython3",
   "version": "3.11.7"
  }
 },
 "nbformat": 4,
 "nbformat_minor": 5
}
