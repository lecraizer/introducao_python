{
 "cells": [
  {
   "cell_type": "markdown",
   "id": "097288df",
   "metadata": {},
   "source": [
    "# Fundamentos do Python\n",
    "\n",
    "Nesta aula, vamos conhecer a base da linguagem Python: variáveis, tipos, comentários, estrutura do código e boas práticas iniciais. A ideia é se familiarizar com a linguagem **antes** de explorar lógica, condicionais ou estruturas de repetição."
   ]
  },
  {
   "cell_type": "markdown",
   "id": "814a3a0d-025b-4e30-bc48-da8aafb8f22b",
   "metadata": {},
   "source": [
    "## Sobre o python\n",
    "\n",
    "Python é uma linguagem de programação de **alto nível**, criada por **Guido van Rossum** e lançada em 1991. Desde então, ela se tornou uma das linguagens mais populares do mundo, utilizada em áreas como ciência de dados, desenvolvimento web, automação, inteligência artificial, finanças, educação, entre muitas outras.\n",
    "\n",
    "## Características principais\n",
    "\n",
    "- **Simplicidade e legibilidade**: A sintaxe do Python é clara e direta, o que facilita a leitura e escrita do código, mesmo para iniciantes.\n",
    "- **Interpretada**: Diferente de linguagens compiladas como C ou Java, o código Python é executado linha a linha por um interpretador, o que facilita testes rápidos e prototipagem.\n",
    "- **Tipagem dinâmica**: Não é necessário declarar tipos de variáveis. O Python infere o tipo automaticamente:\n",
    "  ```python\n",
    "  x = 10        # inteiro\n",
    "  x = \"texto\"   # agora é string"
   ]
  },
  {
   "cell_type": "markdown",
   "id": "6e759100",
   "metadata": {},
   "source": [
    "## O que é uma variável?\n",
    "\n",
    "Uma variável guarda um valor em memória. É como uma \"etiqueta\" para um dado."
   ]
  },
  {
   "cell_type": "code",
   "execution_count": 2,
   "id": "b81a10f5",
   "metadata": {},
   "outputs": [],
   "source": [
    "nome = \"Maria\"\n",
    "idade = 25\n",
    "altura = 1.68"
   ]
  },
  {
   "cell_type": "markdown",
   "id": "462047db",
   "metadata": {},
   "source": [
    "## Tipos básicos (`int`, `float`, `str`, `bool`)"
   ]
  },
  {
   "cell_type": "code",
   "execution_count": 3,
   "id": "62e92510",
   "metadata": {},
   "outputs": [
    {
     "name": "stdout",
     "output_type": "stream",
     "text": [
      "<class 'int'>\n",
      "<class 'float'>\n",
      "<class 'str'>\n",
      "<class 'bool'>\n"
     ]
    }
   ],
   "source": [
    "a = 10\n",
    "b = 3.14\n",
    "c = \"Olá, mundo!\"\n",
    "d = True\n",
    "\n",
    "print(type(a))  # int\n",
    "print(type(b))  # float\n",
    "print(type(c))  # str\n",
    "print(type(d))  # bool"
   ]
  },
  {
   "cell_type": "markdown",
   "id": "d74eb5fb",
   "metadata": {},
   "source": [
    "## Reatribuição e tipagem dinâmica\n",
    "Em Python, uma variável pode mudar de tipo ao longo do tempo:"
   ]
  },
  {
   "cell_type": "code",
   "execution_count": 4,
   "id": "155d6c68",
   "metadata": {},
   "outputs": [
    {
     "name": "stdout",
     "output_type": "stream",
     "text": [
      "cinco\n"
     ]
    }
   ],
   "source": [
    "x = 5\n",
    "x = \"cinco\"\n",
    "print(x)"
   ]
  },
  {
   "cell_type": "markdown",
   "id": "efc4e35b",
   "metadata": {},
   "source": [
    "## Comentários\n",
    "Comentários são ignorados pelo Python, mas importantes para explicar o código:"
   ]
  },
  {
   "cell_type": "code",
   "execution_count": 5,
   "id": "2f4d0ad4",
   "metadata": {},
   "outputs": [
    {
     "name": "stdout",
     "output_type": "stream",
     "text": [
      "Olá!\n"
     ]
    }
   ],
   "source": [
    "# Isso é um comentário\n",
    "mensagem = \"Olá!\"  # Comentário ao lado\n",
    "print(mensagem)"
   ]
  },
  {
   "cell_type": "markdown",
   "id": "2150f41c",
   "metadata": {},
   "source": [
    "## Nomes de variáveis\n",
    "Variáveis devem começar com letra ou `_` e não podem ter espaços ou símbolos:"
   ]
  },
  {
   "cell_type": "code",
   "execution_count": 6,
   "id": "71885e0b",
   "metadata": {},
   "outputs": [],
   "source": [
    "nome = \"Carlos\"\n",
    "_nome = \"Valéria\"\n",
    "idade1 = 21"
   ]
  },
  {
   "cell_type": "markdown",
   "id": "f422a98b",
   "metadata": {},
   "source": [
    "## Indentação obrigatória\n",
    "Espaços e tabulação fazem parte da linguagem em Python!"
   ]
  },
  {
   "cell_type": "code",
   "execution_count": 7,
   "id": "822dbb8a",
   "metadata": {},
   "outputs": [
    {
     "name": "stdout",
     "output_type": "stream",
     "text": [
      "Indentado corretamente\n"
     ]
    }
   ],
   "source": [
    "# Exemplo correto\n",
    "if True:\n",
    "    print(\"Indentado corretamente\")"
   ]
  },
  {
   "cell_type": "markdown",
   "id": "c6a0d756",
   "metadata": {},
   "source": [
    "## Erros comuns\n",
    "Alguns erros típicos de iniciantes:"
   ]
  },
  {
   "cell_type": "code",
   "execution_count": 8,
   "id": "2550639b",
   "metadata": {},
   "outputs": [],
   "source": [
    "# print(x)  # NameError se x não foi definido\n",
    "# 2numero = 10  # SyntaxError: nome inválido\n",
    "# \"texto\" + 5  # TypeError: tipos incompatíveis"
   ]
  },
  {
   "cell_type": "code",
   "execution_count": null,
   "id": "f54912e4-4d31-40fd-a14d-0db649362277",
   "metadata": {},
   "outputs": [],
   "source": []
  }
 ],
 "metadata": {
  "kernelspec": {
   "display_name": "Python 3 (ipykernel)",
   "language": "python",
   "name": "python3"
  },
  "language_info": {
   "codemirror_mode": {
    "name": "ipython",
    "version": 3
   },
   "file_extension": ".py",
   "mimetype": "text/x-python",
   "name": "python",
   "nbconvert_exporter": "python",
   "pygments_lexer": "ipython3",
   "version": "3.11.7"
  }
 },
 "nbformat": 4,
 "nbformat_minor": 5
}
