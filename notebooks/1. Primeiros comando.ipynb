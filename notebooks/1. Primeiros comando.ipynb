{
 "cells": [
  {
   "cell_type": "markdown",
   "id": "776ea976-557d-4bc8-a300-fce705ec3d76",
   "metadata": {},
   "source": [
    "# Conhecendo a Linguagem\n",
    "\n",
    "Neste notebook, vamos dar os primeiros passos com a linguagem Python, explorando conceitos fundamentais como variáveis, tipos de dados, operações matemáticas e manipulação de textos.\n",
    "A ideia é se familiarizar com a sintaxe da linguagem e entender como escrever comandos simples que o computador pode executar.  "
   ]
  },
  {
   "cell_type": "markdown",
   "id": "0f850850-d17f-43dc-b96c-9a1456fabd46",
   "metadata": {},
   "source": [
    "#### Comando Print"
   ]
  },
  {
   "cell_type": "code",
   "execution_count": 1,
   "id": "21f4b4ba-57b7-49c5-ae3d-2783f8285f65",
   "metadata": {},
   "outputs": [
    {
     "name": "stdout",
     "output_type": "stream",
     "text": [
      "Olá, mundo!\n",
      "Esse é meu primeiro programa.\n"
     ]
    }
   ],
   "source": [
    "print(\"Olá, mundo!\")\n",
    "print(\"Esse é meu primeiro programa.\")"
   ]
  },
  {
   "cell_type": "code",
   "execution_count": 34,
   "id": "54a13c6a-65d6-441a-a503-23e90b832417",
   "metadata": {},
   "outputs": [
    {
     "name": "stdout",
     "output_type": "stream",
     "text": [
      "Ana 20 1.65\n"
     ]
    }
   ],
   "source": [
    "nome = \"Ana\"\n",
    "idade = 20\n",
    "altura = 1.65\n",
    "print(nome, idade, altura)"
   ]
  },
  {
   "cell_type": "markdown",
   "id": "d04c1949-daeb-48dd-a96a-c87527f25dc1",
   "metadata": {},
   "source": [
    "#### Operações matemáticas"
   ]
  },
  {
   "cell_type": "code",
   "execution_count": 41,
   "id": "b7b68505-0daa-4050-9487-17b8dffb2fe3",
   "metadata": {},
   "outputs": [
    {
     "name": "stdout",
     "output_type": "stream",
     "text": [
      "8 2 15 1.6666666666666667\n"
     ]
    }
   ],
   "source": [
    "a = 5\n",
    "b = 3\n",
    "print(a + b, a - b, a * b, a / b)"
   ]
  },
  {
   "cell_type": "code",
   "execution_count": 42,
   "id": "55b64764-bb16-4f27-af3a-b41329969c0e",
   "metadata": {},
   "outputs": [
    {
     "data": {
      "text/plain": [
       "10"
      ]
     },
     "execution_count": 42,
     "metadata": {},
     "output_type": "execute_result"
    }
   ],
   "source": [
    "a = a + 5\n",
    "a"
   ]
  },
  {
   "cell_type": "code",
   "execution_count": 43,
   "id": "d54451d8-2f3d-46d0-855e-1b0bb843a72c",
   "metadata": {},
   "outputs": [
    {
     "data": {
      "text/plain": [
       "16"
      ]
     },
     "execution_count": 43,
     "metadata": {},
     "output_type": "execute_result"
    }
   ],
   "source": [
    "a += 6\n",
    "a"
   ]
  },
  {
   "cell_type": "code",
   "execution_count": 44,
   "id": "5b192360-f096-4667-a422-fd177cc62692",
   "metadata": {},
   "outputs": [
    {
     "data": {
      "text/plain": [
       "32"
      ]
     },
     "execution_count": 44,
     "metadata": {},
     "output_type": "execute_result"
    }
   ],
   "source": [
    "a *= 2\n",
    "a"
   ]
  },
  {
   "cell_type": "code",
   "execution_count": 5,
   "id": "8d5bb5d3-e19d-46a4-a732-977dc1212dd4",
   "metadata": {},
   "outputs": [
    {
     "name": "stdout",
     "output_type": "stream",
     "text": [
      "Soma: 13\n",
      "Multiplicação: 30\n",
      "Divisão: 3.3333333333333335\n",
      "Divisão inteira: 3\n",
      "Resto: 1\n",
      "Potência: 1000\n"
     ]
    }
   ],
   "source": [
    "a = 10\n",
    "b = 3\n",
    "\n",
    "print(\"Soma:\", a + b)\n",
    "print(\"Multiplicação:\", a * b)\n",
    "print(\"Divisão:\", a / b)\n",
    "print(\"Divisão inteira:\", a // b)\n",
    "print(\"Resto:\", a % b)\n",
    "print(\"Potência:\", a ** b)"
   ]
  },
  {
   "cell_type": "markdown",
   "id": "53c1d465-a107-437c-81d1-36436c9d0e84",
   "metadata": {},
   "source": [
    "#### Exemplo: transformar valor em horas:minutos"
   ]
  },
  {
   "cell_type": "code",
   "execution_count": 35,
   "id": "c934ebc1-ffcb-4603-85fb-3d0d446203e9",
   "metadata": {},
   "outputs": [
    {
     "name": "stdout",
     "output_type": "stream",
     "text": [
      "Tempo: 2 h 10 min\n"
     ]
    }
   ],
   "source": [
    "total_min = 130\n",
    "horas = total_min // 60\n",
    "minutos = total_min % 60\n",
    "print(\"Tempo:\", horas, \"h\", minutos, \"min\")  # 2h10min"
   ]
  },
  {
   "cell_type": "code",
   "execution_count": 6,
   "id": "a1a65b4a-e79c-49c9-833f-4a7364cb9af6",
   "metadata": {},
   "outputs": [
    {
     "name": "stdout",
     "output_type": "stream",
     "text": [
      "Olá, meu nome é Luis, estou no 3º período e gosto de Python!\n"
     ]
    }
   ],
   "source": [
    "nome = \"Luis\"\n",
    "periodo = 3\n",
    "linguagem_favorita = \"Python\"\n",
    "print(f\"Olá, meu nome é {nome}, estou no {periodo}º período e gosto de {linguagem_favorita}!\")"
   ]
  },
  {
   "cell_type": "code",
   "execution_count": 7,
   "id": "6627ca29-fcc4-4c93-8849-46e1e65d78b9",
   "metadata": {},
   "outputs": [
    {
     "name": "stdout",
     "output_type": "stream",
     "text": [
      "a: 5\n",
      "b: 10\n"
     ]
    }
   ],
   "source": [
    "a = 10\n",
    "b = 5\n",
    "\n",
    "# Trocar os valores de a e b\n",
    "a, b = b, a\n",
    "\n",
    "print(\"a:\", a)\n",
    "print(\"b:\", b)"
   ]
  },
  {
   "cell_type": "code",
   "execution_count": 8,
   "id": "3b49df0f-af24-4f89-8db6-f4e89f51f06a",
   "metadata": {},
   "outputs": [
    {
     "name": "stdout",
     "output_type": "stream",
     "text": [
      "<class 'str'>\n",
      "<class 'int'>\n",
      "<class 'float'>\n",
      "<class 'bool'>\n"
     ]
    }
   ],
   "source": [
    "print(type(\"texto\"))\n",
    "print(type(42))\n",
    "print(type(3.14))\n",
    "print(type(True))"
   ]
  },
  {
   "cell_type": "markdown",
   "id": "e21440a5-7a03-41d2-a609-8c4d03b9a7e1",
   "metadata": {},
   "source": [
    "#### Comando Length"
   ]
  },
  {
   "cell_type": "code",
   "execution_count": 11,
   "id": "bbe05367-1de6-4833-82fc-7a33d6b39ccf",
   "metadata": {},
   "outputs": [
    {
     "name": "stdout",
     "output_type": "stream",
     "text": [
      "7\n"
     ]
    }
   ],
   "source": [
    "nome = \"Roberta\"\n",
    "print(len(nome))"
   ]
  },
  {
   "cell_type": "code",
   "execution_count": 12,
   "id": "ba67fe33-9643-4d03-bec4-c738f560c32e",
   "metadata": {},
   "outputs": [
    {
     "name": "stdout",
     "output_type": "stream",
     "text": [
      "Total de caracteres (incluindo espaços): 15\n"
     ]
    }
   ],
   "source": [
    "texto = \"Aprender Python\"\n",
    "print(\"Total de caracteres (incluindo espaços):\", len(texto))"
   ]
  },
  {
   "cell_type": "code",
   "execution_count": 13,
   "id": "c96bd388-0f41-418f-8920-5ef488912239",
   "metadata": {},
   "outputs": [
    {
     "name": "stdout",
     "output_type": "stream",
     "text": [
      "Seu prato favorito tem 19 caracteres!\n"
     ]
    }
   ],
   "source": [
    "prato = \"Lasanha à bolonhesa\"\n",
    "print(\"Seu prato favorito tem\", len(prato), \"caracteres!\")"
   ]
  },
  {
   "cell_type": "markdown",
   "id": "3c9fc091-10a4-4552-93c5-50d4071dec36",
   "metadata": {},
   "source": [
    "#### Fatiamento (Slicing) de Strings\n",
    "\n",
    "Strings em Python funcionam como sequências — você pode acessar partes específicas usando **colchetes `[]`**.  \n",
    "A contagem começa em **0**, e também aceita índices negativos."
   ]
  },
  {
   "cell_type": "code",
   "execution_count": 17,
   "id": "41210779-4502-49b6-be62-5d4f8d4d1257",
   "metadata": {},
   "outputs": [
    {
     "name": "stdout",
     "output_type": "stream",
     "text": [
      "p\n",
      "g\n",
      "r\n",
      "o\n",
      "progr\n",
      "amador\n",
      "program\n"
     ]
    }
   ],
   "source": [
    "texto = \"programador\"\n",
    "\n",
    "# Acessando letras específicas\n",
    "print(texto[0])   # p\n",
    "print(texto[3])   # g\n",
    "\n",
    "# Usando índices negativos\n",
    "print(texto[-1])  # r (última letra)\n",
    "print(texto[-2])  # o (penúltima)\n",
    "\n",
    "# Fatiando pedaços\n",
    "print(texto[0:5])   # 'progr'\n",
    "print(texto[5:])    # 'amador'\n",
    "print(texto[:7])    # 'program'"
   ]
  },
  {
   "cell_type": "markdown",
   "id": "e3a52be0-f77e-4e4a-b113-4852478915c5",
   "metadata": {},
   "source": [
    "#### Exemplo 1: mostre 3 primeiras letra de 'abacaxi'"
   ]
  },
  {
   "cell_type": "code",
   "execution_count": 20,
   "id": "3a499a45-7021-41e2-9c55-93687f988977",
   "metadata": {},
   "outputs": [
    {
     "data": {
      "text/plain": [
       "'aba'"
      ]
     },
     "execution_count": 20,
     "metadata": {},
     "output_type": "execute_result"
    }
   ],
   "source": [
    "palavra = \"abacaxi\"\n",
    "palavra[:3]"
   ]
  },
  {
   "cell_type": "markdown",
   "id": "831e352d-df04-4f2f-af3c-8ae15850d4e9",
   "metadata": {},
   "source": [
    "#### Exemplo 2: mostre os 4 últimos caracteres da palavra 'computador'"
   ]
  },
  {
   "cell_type": "code",
   "execution_count": 21,
   "id": "408c06f5-6190-4bd3-819c-858469eb6401",
   "metadata": {},
   "outputs": [
    {
     "name": "stdout",
     "output_type": "stream",
     "text": [
      "ador\n"
     ]
    }
   ],
   "source": [
    "palavra = \"computador\"\n",
    "print(palavra[-4:])"
   ]
  },
  {
   "cell_type": "markdown",
   "id": "22b96cd9-2af2-4619-a454-71942d8768a4",
   "metadata": {},
   "source": [
    "### Exercícios"
   ]
  },
  {
   "cell_type": "markdown",
   "id": "ed928750-79c5-4935-a367-c685f25e858c",
   "metadata": {},
   "source": [
    "#### 1. Calcule a média de três notas (7.5, 8.0, 6.5)"
   ]
  },
  {
   "cell_type": "code",
   "execution_count": null,
   "id": "896d2895-96d5-4c5a-a8c6-8c244b743e78",
   "metadata": {},
   "outputs": [],
   "source": [
    "nota1 = 7.5\n",
    "nota2 = 8.0\n",
    "nota3 = 6.5\n",
    "media = (nota1 + nota2 + nota3) / 3\n",
    "print(\"Média:\", media)"
   ]
  },
  {
   "cell_type": "markdown",
   "id": "3c76ff42-1d60-4189-9012-fdb48b713641",
   "metadata": {},
   "source": [
    "#### 2. Mostrar a palavra 'programa' sem a primeira e a última letra"
   ]
  },
  {
   "cell_type": "code",
   "execution_count": 24,
   "id": "cf0b6a50-7a29-48fc-af77-ce202b38a285",
   "metadata": {},
   "outputs": [
    {
     "name": "stdout",
     "output_type": "stream",
     "text": [
      "rogram\n"
     ]
    }
   ],
   "source": [
    "palavra = \"programa\"\n",
    "print(palavra[1:-1])"
   ]
  },
  {
   "cell_type": "markdown",
   "id": "794cb44d-d0f0-4db6-9669-9bf27cc4974b",
   "metadata": {},
   "source": [
    "#### 3. Concatenar partes de uma string \"abcdefghij\"\n",
    "- 3 primeiras letras\n",
    "- 2 últimas letras"
   ]
  },
  {
   "cell_type": "code",
   "execution_count": 25,
   "id": "1240cf08-5498-42af-93d7-2cd405408a25",
   "metadata": {},
   "outputs": [
    {
     "name": "stdout",
     "output_type": "stream",
     "text": [
      "abcij\n"
     ]
    }
   ],
   "source": [
    "texto = \"abcdefghij\"\n",
    "parte1 = texto[:3]\n",
    "parte2 = texto[-2:]\n",
    "resultado = parte1 + parte2\n",
    "print(resultado)"
   ]
  },
  {
   "cell_type": "markdown",
   "id": "ba7f04d2-dc61-49d5-bb9b-bc5d48e9fc8c",
   "metadata": {},
   "source": [
    "#### 4. Mostrar o nome completo juntando nome e sobrenome\n",
    "- Nome: Ana\n",
    "- Sobrenome: Silva"
   ]
  },
  {
   "cell_type": "code",
   "execution_count": 26,
   "id": "4cf1096d-3363-41db-942a-d04004ccd981",
   "metadata": {},
   "outputs": [
    {
     "name": "stdout",
     "output_type": "stream",
     "text": [
      "Ana Silva\n"
     ]
    }
   ],
   "source": [
    "nome = \"Ana\"\n",
    "sobrenome = \"Silva\"\n",
    "nome_completo = nome + \" \" + sobrenome\n",
    "print(nome_completo)"
   ]
  },
  {
   "cell_type": "markdown",
   "id": "25d2b623-6edf-41c7-95bd-871830c50fbb",
   "metadata": {},
   "source": [
    "#### 5. Simule censura de parte da frase com asteriscos\n",
    "- frase = \"Esse conteúdo é secreto\"\n",
    "- Trocar \"conteúdo\" por \"*\" por exemplo"
   ]
  },
  {
   "cell_type": "code",
   "execution_count": 28,
   "id": "f391e590-65fa-405c-85e3-61bd0a0ff851",
   "metadata": {},
   "outputs": [
    {
     "name": "stdout",
     "output_type": "stream",
     "text": [
      "Esse ******** é secreto\n"
     ]
    }
   ],
   "source": [
    "frase = \"Esse conteúdo é secreto\"\n",
    "censurado = frase[:5] + \"*\" * 8 + frase[13:]\n",
    "print(censurado)"
   ]
  },
  {
   "cell_type": "markdown",
   "id": "837167cf-59f6-4fb8-b4f3-71c7273c62d1",
   "metadata": {},
   "source": [
    "#### 6. Crie um padrão alternando fatias diferentes\n",
    "a = \"abcd\"  \n",
    "b = \"1234\"  \n",
    "Saída esperada: \"a1b2c3d4\""
   ]
  },
  {
   "cell_type": "code",
   "execution_count": 29,
   "id": "283d19e1-0a19-4472-ae2e-d94375f25889",
   "metadata": {},
   "outputs": [
    {
     "name": "stdout",
     "output_type": "stream",
     "text": [
      "a1b2c3\n"
     ]
    }
   ],
   "source": [
    "a = \"abcdef\"\n",
    "b = \"123456\"\n",
    "\n",
    "resultado = a[0] + b[0] + a[1] + b[1] + a[2] + b[2]\n",
    "print(resultado)"
   ]
  },
  {
   "cell_type": "markdown",
   "id": "3dd14e45-6fcf-4a0a-9ea2-27944d2e5444",
   "metadata": {},
   "source": [
    "#### 7. Média ponderada de 3 notas (notas: [7.0, 8.5, 6.0], pesos: [2, 3, 1] respectivamente)"
   ]
  },
  {
   "cell_type": "code",
   "execution_count": 30,
   "id": "4edd3738-bc64-4404-8940-71e85eda69be",
   "metadata": {},
   "outputs": [
    {
     "name": "stdout",
     "output_type": "stream",
     "text": [
      "Média ponderada: 7.583333333333333\n"
     ]
    }
   ],
   "source": [
    "nota1 = 7.0\n",
    "nota2 = 8.5\n",
    "nota3 = 6.0\n",
    "peso1 = 2\n",
    "peso2 = 3\n",
    "peso3 = 1\n",
    "\n",
    "media_ponderada = (nota1*peso1 + nota2*peso2 + nota3*peso3) / (peso1 + peso2 + peso3)\n",
    "print(\"Média ponderada:\", media_ponderada) "
   ]
  },
  {
   "cell_type": "markdown",
   "id": "96885a9b-bb35-4efc-a7eb-11bbcca71141",
   "metadata": {},
   "source": [
    "#### 8. Soma dos dígitos do número 347 (só com operações matemáticas)"
   ]
  },
  {
   "cell_type": "code",
   "execution_count": 31,
   "id": "e21f40e9-3662-48aa-a972-668d2e090d53",
   "metadata": {},
   "outputs": [
    {
     "name": "stdout",
     "output_type": "stream",
     "text": [
      "Soma dos dígitos: 14\n"
     ]
    }
   ],
   "source": [
    "numero = 347\n",
    "\n",
    "centena = numero // 100\n",
    "dezena = (numero // 10) % 10\n",
    "unidade = numero % 10\n",
    "\n",
    "soma = centena + dezena + unidade\n",
    "print(\"Soma dos dígitos:\", soma)"
   ]
  },
  {
   "cell_type": "markdown",
   "id": "7c3e62a2-8091-4529-8255-7c6bdaccc5a6",
   "metadata": {},
   "source": [
    "#### 9. Verificar se a soma de dois números é par\n",
    "a = 8  \n",
    "b = 4"
   ]
  },
  {
   "cell_type": "code",
   "execution_count": null,
   "id": "63895e17-2a90-4bc7-9693-81bcfafd5a75",
   "metadata": {},
   "outputs": [],
   "source": [
    "a = 8\n",
    "b = 4\n",
    "soma = a + b\n",
    "print(\"Soma:\", soma)\n",
    "print(\"Resto da divisão por 2:\", soma % 2)"
   ]
  }
 ],
 "metadata": {
  "kernelspec": {
   "display_name": "Python 3 (ipykernel)",
   "language": "python",
   "name": "python3"
  },
  "language_info": {
   "codemirror_mode": {
    "name": "ipython",
    "version": 3
   },
   "file_extension": ".py",
   "mimetype": "text/x-python",
   "name": "python",
   "nbconvert_exporter": "python",
   "pygments_lexer": "ipython3",
   "version": "3.11.7"
  }
 },
 "nbformat": 4,
 "nbformat_minor": 5
}
