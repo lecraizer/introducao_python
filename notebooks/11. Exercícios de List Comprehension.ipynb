{
 "cells": [
  {
   "cell_type": "markdown",
   "id": "f10acbdd",
   "metadata": {},
   "source": [
    "## Exercício 1 – Quadrados de Números Pares\n",
    "\n",
    "Crie uma lista com os **quadrados de todos os números pares de 0 a 20**, utilizando list comprehension.\n",
    "\n",
    "> Um número par é divisível por 2. O quadrado de um número `x` é `x * x`.  \n",
    "> Ao final, imprima a lista resultante."
   ]
  },
  {
   "cell_type": "code",
   "execution_count": null,
   "id": "18125cdd",
   "metadata": {},
   "outputs": [],
   "source": [
    "pares_quadrados = [x**2 for x in range(21) if x % 2 == 0]\n",
    "print(pares_quadrados)"
   ]
  },
  {
   "cell_type": "markdown",
   "id": "9d98550c",
   "metadata": {},
   "source": [
    "## Exercício 2 – Filtrar Palavras por Tamanho\n",
    "\n",
    "Dada uma lista de palavras, use list comprehension para gerar uma nova lista que contenha **apenas as palavras com 4 letras ou mais**.\n",
    "\n",
    "> Essa filtragem serve, por exemplo, para limpar uma lista de termos curtos demais para análise de texto."
   ]
  },
  {
   "cell_type": "code",
   "execution_count": null,
   "id": "2f0b2bcd",
   "metadata": {},
   "outputs": [],
   "source": [
    "palavras = [\"sol\", \"lua\", \"estrela\", \"mar\", \"vento\", \"ar\"]\n",
    "palavras_filtradas = [p for p in palavras if len(p) >= 4]\n",
    "print(palavras_filtradas)"
   ]
  },
  {
   "cell_type": "markdown",
   "id": "2839739a",
   "metadata": {},
   "source": [
    "## Exercício 3 – Matriz Identidade com List Comprehension\n",
    "\n",
    "Use list comprehension aninhada para criar uma **matriz identidade 4x4**.  \n",
    "A matriz identidade é uma matriz quadrada com `1`s na diagonal principal (de cima à esquerda para baixo à direita) e `0`s nos demais lugares.\n",
    "\n",
    "> Cada elemento na posição `[i][j]` da matriz deve ser `1` se `i == j`, caso contrário, `0`."
   ]
  },
  {
   "cell_type": "code",
   "execution_count": null,
   "id": "96427ab9",
   "metadata": {},
   "outputs": [],
   "source": [
    "matriz_identidade = [[1 if i == j else 0 for j in range(4)] for i in range(4)]\n",
    "for linha in matriz_identidade:\n",
    "    print(linha)"
   ]
  },
  {
   "cell_type": "markdown",
   "id": "28bc9da4",
   "metadata": {},
   "source": [
    "## Exercício 4 – Gerar Tabuada com List Comprehension\n",
    "\n",
    "Utilize list comprehension para criar uma lista com os resultados da **tabuada do número 7**, de 1 até 10.  \n",
    "Cada item da lista deve ser uma **string no formato “7 x i = resultado”**."
   ]
  },
  {
   "cell_type": "code",
   "execution_count": null,
   "id": "bdf91558",
   "metadata": {},
   "outputs": [],
   "source": [
    "tabuada_7 = [f\"7 x {i} = {7*i}\" for i in range(1, 11)]\n",
    "for linha in tabuada_7:\n",
    "    print(linha)"
   ]
  },
  {
   "cell_type": "markdown",
   "id": "01954b97",
   "metadata": {},
   "source": [
    "## Exercício 5 – Contar Vogais em Palavras\n",
    "\n",
    "Dada uma lista de palavras, use list comprehension para gerar uma nova lista de **tuplas** no formato `(palavra, número de vogais)`.\n",
    "\n",
    "> Considere como vogais as letras: a, e, i, o, u."
   ]
  },
  {
   "cell_type": "code",
   "execution_count": null,
   "id": "936eb827",
   "metadata": {},
   "outputs": [],
   "source": [
    "palavras = [\"banana\", \"abacate\", \"uva\", \"melancia\"]\n",
    "vogais = 'aeiou'\n",
    "resultado = [(p, sum(1 for letra in p if letra in vogais)) for p in palavras]\n",
    "print(resultado)"
   ]
  },
  {
   "cell_type": "markdown",
   "id": "595144e4",
   "metadata": {},
   "source": [
    "## Exercício 6 – Somar Listas Posição a Posição\n",
    "\n",
    "Dadas duas listas de números inteiros `a` e `b`, use list comprehension para somar os elementos **posição a posição**, ou seja, `a[i] + b[i]`.\n",
    "\n",
    "> O resultado deve ser uma nova lista contendo essas somas."
   ]
  },
  {
   "cell_type": "code",
   "execution_count": null,
   "id": "ac624a24",
   "metadata": {},
   "outputs": [],
   "source": [
    "a = [1, 2, 3, 4]\n",
    "b = [10, 20, 30, 40]\n",
    "soma = [a[i] + b[i] for i in range(len(a))]\n",
    "print(soma)"
   ]
  },
  {
   "cell_type": "markdown",
   "id": "0751590b",
   "metadata": {},
   "source": [
    "## Exercício 7 – Substituir Vogais por '*' em Lista de Palavras\n",
    "\n",
    "Dada uma lista de palavras, utilize list comprehension para gerar uma nova lista onde **todas as vogais são substituídas por `*`** em cada palavra.\n",
    "\n",
    "> Exemplo: `\"banana\"` vira `\"b*n*n*\"`."
   ]
  },
  {
   "cell_type": "code",
   "execution_count": null,
   "id": "7c39e9d0",
   "metadata": {},
   "outputs": [],
   "source": [
    "palavras = [\"python\", \"banana\", \"uva\", \"melancia\"]\n",
    "vogais = 'aeiou'\n",
    "\n",
    "transformadas = [''.join(['*' if letra in vogais else letra for letra in palavra]) for palavra in palavras]\n",
    "print(transformadas)"
   ]
  },
  {
   "cell_type": "markdown",
   "id": "07263eb5",
   "metadata": {},
   "source": [
    "## Exercício 8 – Matriz de Produto de Índices\n",
    "\n",
    "Use list comprehension para criar uma **matriz 5x5** em que cada posição `[i][j]` contém o valor do produto `i * j`.\n",
    "\n",
    "> Exemplo: a linha de índice 3 seria `[0, 3, 6, 9, 12]`."
   ]
  },
  {
   "cell_type": "code",
   "execution_count": null,
   "id": "924aae8d",
   "metadata": {},
   "outputs": [],
   "source": [
    "matriz = [[i * j for j in range(5)] for i in range(5)]\n",
    "for linha in matriz:\n",
    "    print(linha)"
   ]
  }
 ],
 "metadata": {
  "kernelspec": {
   "display_name": "Python 3 (ipykernel)",
   "language": "python",
   "name": "python3"
  },
  "language_info": {
   "codemirror_mode": {
    "name": "ipython",
    "version": 3
   },
   "file_extension": ".py",
   "mimetype": "text/x-python",
   "name": "python",
   "nbconvert_exporter": "python",
   "pygments_lexer": "ipython3",
   "version": "3.11.7"
  }
 },
 "nbformat": 4,
 "nbformat_minor": 5
}
