{
 "cells": [
  {
   "cell_type": "markdown",
   "id": "9c3a0327-8d2a-447b-b1fe-5c95824a7497",
   "metadata": {},
   "source": [
    "### Por que Usar Funções em Python?\n",
    "\n",
    "As funções em Python são super úteis e trazem várias vantagens:\n",
    "\n",
    "1. **Reutilização de Código**: Com funções, você escreve um pedaço de código uma vez e pode usá-lo várias vezes. Isso evita que você tenha que repetir a mesma lógica em diferentes partes do seu programa. Menos repetição, mais eficiência!\n",
    "\n",
    "2. **Organização**: Elas ajudam a deixar o código mais organizado. Ao dividir seu programa em partes menores, fica mais fácil de ler e entender o que cada parte faz. Um código mais limpo é sempre mais fácil de manter.\n",
    "\n",
    "3. **Argumentos e Flexibilidade**: Funções podem receber dados através de argumentos. Assim, você pode passar diferentes entradas e obter resultados variados. Além disso, pode definir valores padrão para os parâmetros, tornando suas funções ainda mais flexíveis.\n",
    "\n",
    "4. **Retornos**: Funções podem devolver resultados, o que permite usar esses valores em outros lugares do seu código. É uma forma prática de trabalhar com dados.\n",
    "\n",
    "5. **Debugging**: Se algo der errado, ter o código dividido em funções facilita encontrar o problema. É muito mais fácil testar uma função específica do que revisar um grande bloco de código.\n",
    "\n",
    "Em resumo, usar funções em Python não só melhora a qualidade do seu código, mas também torna seu trabalho mais fácil e divertido!\n"
   ]
  },
  {
   "cell_type": "markdown",
   "id": "f19475ec-d13a-4361-9666-3b7ccd4a6232",
   "metadata": {},
   "source": [
    "#### Do exemplo mais básico\n",
    "Função que retorna o quadrado de um número"
   ]
  },
  {
   "cell_type": "code",
   "execution_count": 1,
   "id": "fc2190c4-103b-4e84-8468-27623d74bebe",
   "metadata": {},
   "outputs": [
    {
     "data": {
      "text/plain": [
       "25"
      ]
     },
     "execution_count": 1,
     "metadata": {},
     "output_type": "execute_result"
    }
   ],
   "source": [
    "def f(x):\n",
    "    return x**2\n",
    "\n",
    "f(5)"
   ]
  },
  {
   "cell_type": "markdown",
   "id": "66e33540-cde8-4811-85a0-3f4f87beb169",
   "metadata": {},
   "source": [
    "#### Outro exemplo:\n",
    "Função que imprime uma mensagem e uma lista de alunos dados como input "
   ]
  },
  {
   "cell_type": "code",
   "execution_count": 2,
   "id": "a7f5105a-1c35-40d1-b4c9-fc96fa764093",
   "metadata": {},
   "outputs": [
    {
     "name": "stdout",
     "output_type": "stream",
     "text": [
      "Os estudantes são:\n",
      "- Bernice\n",
      "- Aaron\n",
      "- Cody\n"
     ]
    }
   ],
   "source": [
    "def lista_alunos(estudantes, mensagem):\n",
    "    print(mensagem)\n",
    "    for estudante in estudantes:\n",
    "        print(\"- \" + estudante.title())\n",
    "\n",
    "alunos = ['bernice', 'aaron', 'cody']\n",
    "msg = \"Os estudantes são:\"\n",
    "\n",
    "lista_alunos(alunos, msg)"
   ]
  },
  {
   "cell_type": "markdown",
   "id": "5446b293-eb1b-43a0-8713-05d3b6eacf1c",
   "metadata": {},
   "source": [
    "#### Outro exemplo: \n",
    "Função que padroniza texto"
   ]
  },
  {
   "cell_type": "code",
   "execution_count": 3,
   "id": "fed2a403-9b51-4c19-bbed-89c7c31b29b6",
   "metadata": {},
   "outputs": [],
   "source": [
    "def padronizar_texto(texto):\n",
    "    texto = texto.upper()\n",
    "    texto = texto.strip()\n",
    "    return texto"
   ]
  },
  {
   "cell_type": "code",
   "execution_count": 4,
   "id": "7dc62f46-6940-4fd5-a00c-47f356f905e4",
   "metadata": {},
   "outputs": [
    {
     "name": "stdout",
     "output_type": "stream",
     "text": [
      "['ABC123', 'DEF456', 'EGT632', 'VFE253']\n"
     ]
    }
   ],
   "source": [
    "produtos = ['ABC123', 'def456    ', 'EGT632', 'vFe253 ']\n",
    "for i, produto in enumerate(produtos):\n",
    "    produtos[i] = padronizar_texto(produto)\n",
    "\n",
    "print(produtos)"
   ]
  },
  {
   "cell_type": "markdown",
   "id": "26b34f19-747f-4c73-8cc2-1d4c1e8e9e75",
   "metadata": {},
   "source": [
    "Função para inverter lista"
   ]
  },
  {
   "cell_type": "markdown",
   "id": "94b5e14c-b2e8-44d4-b81c-396b5bc193ac",
   "metadata": {},
   "source": [
    "#### Outros exemplos"
   ]
  },
  {
   "cell_type": "code",
   "execution_count": 5,
   "id": "f63f71aa-cd49-4ec1-a4b1-b0b963d7832f",
   "metadata": {},
   "outputs": [
    {
     "name": "stdout",
     "output_type": "stream",
     "text": [
      "0 Desculpe, não conheço este número\n",
      "1 Um\n",
      "2 Dois\n",
      "3 Três\n",
      "4 Desculpe, não conheço este número\n"
     ]
    }
   ],
   "source": [
    "def converte_numero_em_texto(numero):\n",
    "    if numero == 1:\n",
    "        return 'Um'\n",
    "    elif numero == 2:\n",
    "        return 'Dois'\n",
    "    elif numero == 3:\n",
    "        return 'Três'\n",
    "    else:\n",
    "        return \"Desculpe, não conheço este número\"\n",
    "    \n",
    "for num in range(0,5):\n",
    "    num_texto = converte_numero_em_texto(num)\n",
    "    print(num, num_texto)"
   ]
  },
  {
   "cell_type": "code",
   "execution_count": 6,
   "id": "1e0b5351-e64e-4f41-8561-966bd0e0b3e3",
   "metadata": {},
   "outputs": [
    {
     "name": "stdout",
     "output_type": "stream",
     "text": [
      "Lista original: [1, 2, 3, 4, 5]\n",
      "Lista invertida: [5, 4, 3, 2, 1]\n"
     ]
    }
   ],
   "source": [
    "def inverter_lista(lista):\n",
    "    return lista[::-1]  # Usa slicing para inverter a lista\n",
    "\n",
    "# Exemplo de uso\n",
    "lista_original = [1, 2, 3, 4, 5]\n",
    "lista_invertida = inverter_lista(lista_original)\n",
    "\n",
    "print(f'Lista original: {lista_original}')\n",
    "print(f'Lista invertida: {lista_invertida}')"
   ]
  },
  {
   "cell_type": "code",
   "execution_count": 7,
   "id": "3acb7f19-adf2-440b-abed-c609789637f3",
   "metadata": {},
   "outputs": [
    {
     "name": "stdout",
     "output_type": "stream",
     "text": [
      "Essa função não faz nada\n"
     ]
    }
   ],
   "source": [
    "def sem_argumento():\n",
    "    print('Essa função não faz nada')\n",
    "\n",
    "sem_argumento()"
   ]
  },
  {
   "cell_type": "code",
   "execution_count": 8,
   "id": "b9f8ad25-ffc0-4c99-bac0-adef611beca9",
   "metadata": {},
   "outputs": [
    {
     "data": {
      "text/plain": [
       "'Nada'"
      ]
     },
     "execution_count": 8,
     "metadata": {},
     "output_type": "execute_result"
    }
   ],
   "source": [
    "def sem_argumento2():\n",
    "    return 'Nada'\n",
    "\n",
    "sem_argumento2()"
   ]
  },
  {
   "cell_type": "code",
   "execution_count": 9,
   "id": "8c9ac1ee-5f87-453d-9dd8-025d687de309",
   "metadata": {},
   "outputs": [
    {
     "name": "stdout",
     "output_type": "stream",
     "text": [
      "Algo\n"
     ]
    }
   ],
   "source": [
    "def imprime_algo():\n",
    "    print('Algo')\n",
    "\n",
    "imprime_algo()"
   ]
  },
  {
   "cell_type": "markdown",
   "id": "e0019583-f4ab-4552-bc02-dd954c01296e",
   "metadata": {},
   "source": [
    "#### Funções com argumentos opcionais"
   ]
  },
  {
   "cell_type": "code",
   "execution_count": 10,
   "id": "79943bf7-1c7c-40ac-98d8-016ad4d8a906",
   "metadata": {},
   "outputs": [
    {
     "name": "stdout",
     "output_type": "stream",
     "text": [
      "Primeiro nome: João\n",
      "Último nome: Almeida\n",
      "Age: 26\n",
      "\n",
      "Primeiro nome: Laura\n",
      "Último nome: Santos\n",
      "Age: 68\n",
      "\n",
      "Primeiro nome: Carol\n",
      "Último nome: Lima\n",
      "Age: 45\n",
      "\n"
     ]
    }
   ],
   "source": [
    "def descreve_pessoa(nome, sobrenome, idade, linguagem_favorita):\n",
    "    print(\"Primeiro nome: %s\" % nome.title())\n",
    "    print(\"Último nome: %s\" % sobrenome.title())\n",
    "    print(\"Age: %d\\n\" % idade)\n",
    "\n",
    "descreve_pessoa(idade=26, nome='João', sobrenome='Almeida', linguagem_favorita='C')\n",
    "descreve_pessoa(idade=68, nome='Laura', sobrenome='Santos', linguagem_favorita='Python')\n",
    "descreve_pessoa(idade=45, nome='Carol', sobrenome='Lima', linguagem_favorita='Java')"
   ]
  },
  {
   "cell_type": "code",
   "execution_count": 11,
   "id": "cf4e2f7b-ec2e-4996-9689-673def7ccdaf",
   "metadata": {},
   "outputs": [
    {
     "name": "stdout",
     "output_type": "stream",
     "text": [
      "Primeiro nome: João\n",
      "Último nome: Almeia\n",
      "Linguagem favorita: C\n",
      "\n",
      "\n",
      "Primeiro nome: Laura\n",
      "Último nome: Santos\n",
      "Idade: 68\n",
      "Linguagem favorita: Python\n",
      "\n",
      "\n",
      "Primeiro nome: Carol\n",
      "Último nome: Lima\n",
      "Idade: 45\n",
      "\n",
      "\n"
     ]
    }
   ],
   "source": [
    "def descreve_pessoa(nome, sobrenome, idade=None, linguagem_favorita=None):    \n",
    "    print(\"Primeiro nome: %s\" % nome.title())\n",
    "    print(\"Último nome: %s\" % sobrenome.title())\n",
    "    \n",
    "    if idade:\n",
    "        print(\"Idade: %d\" % idade)\n",
    "    if linguagem_favorita:\n",
    "        print(\"Linguagem favorita: %s\" % linguagem_favorita)\n",
    "    print(\"\\n\")\n",
    "\n",
    "descreve_pessoa('João', 'Almeia', linguagem_favorita='C')\n",
    "descreve_pessoa('Laura', 'Santos', idade=68, linguagem_favorita='Python')\n",
    "descreve_pessoa('Carol', 'Lima', idade=45)"
   ]
  },
  {
   "cell_type": "markdown",
   "id": "4a788d24-10ba-4981-8845-e8f2f7d1a62b",
   "metadata": {},
   "source": [
    "Aqui, **idade** \"Não informada\" e **linguagem favorita** \"Python\" são os argumentos _default_ da função. <br>\n",
    "Ou seja, se esses argumentos não forem passados à função, ela assume esses valores padrão."
   ]
  },
  {
   "cell_type": "code",
   "execution_count": 14,
   "id": "844aabee-5dff-4e1e-8e29-011bb4e4498f",
   "metadata": {},
   "outputs": [
    {
     "name": "stdout",
     "output_type": "stream",
     "text": [
      "Primeiro nome: João\n",
      "Último nome: Almeia\n",
      "Idade: Não informada\n",
      "Linguagem favorita: C\n",
      "\n",
      "\n",
      "Primeiro nome: Laura\n",
      "Último nome: Santos\n",
      "Idade: 68\n",
      "Linguagem favorita: Python\n",
      "\n",
      "\n",
      "Primeiro nome: Carol\n",
      "Último nome: Lima\n",
      "Idade: 45\n",
      "Linguagem favorita: Python\n",
      "\n",
      "\n"
     ]
    }
   ],
   "source": [
    "def descreve_pessoa(nome, sobrenome, idade='Não informada', linguagem_favorita='Python'):    \n",
    "    print(\"Primeiro nome: %s\" % nome.title())\n",
    "    print(\"Último nome: %s\" % sobrenome.title())\n",
    "    \n",
    "    if idade:\n",
    "        print(\"Idade:\", idade)\n",
    "    if linguagem_favorita:\n",
    "        print(\"Linguagem favorita:\", linguagem_favorita)\n",
    "    print(\"\\n\")\n",
    "\n",
    "descreve_pessoa('João', 'Almeia', linguagem_favorita='C')\n",
    "descreve_pessoa('Laura', 'Santos', idade=68, linguagem_favorita='Python')\n",
    "descreve_pessoa('Carol', 'Lima', idade=45)"
   ]
  },
  {
   "cell_type": "markdown",
   "id": "2376a125-521f-4e84-9b67-89d3738bc1cb",
   "metadata": {},
   "source": [
    "#### ```*args``` — argumentos posicionais variáveis  \n",
    "Permite que a função receba qualquer quantidade de argumentos posicionais e empacota tudo em uma **tupla**."
   ]
  },
  {
   "cell_type": "code",
   "execution_count": 15,
   "id": "25d4348f-cf0f-42e5-a46b-c490effa633e",
   "metadata": {},
   "outputs": [
    {
     "name": "stdout",
     "output_type": "stream",
     "text": [
      "A soma dos números é 6.\n"
     ]
    }
   ],
   "source": [
    "def soma(*nums):\n",
    "    print(\"A soma dos números é %d.\" % sum(nums))\n",
    "    \n",
    "soma(1, 2, 3)"
   ]
  },
  {
   "cell_type": "code",
   "execution_count": 16,
   "id": "cf91a8f2-97d4-49a3-bf69-b0d3bfe61976",
   "metadata": {},
   "outputs": [
    {
     "name": "stdout",
     "output_type": "stream",
     "text": [
      "\n",
      "arg_1: 1\n",
      "arg_2: 2\n",
      "arg_3: ()\n",
      "\n",
      "arg_1: 1\n",
      "arg_2: 2\n",
      "arg_3: (3,)\n",
      "\n",
      "arg_1: 1\n",
      "arg_2: 2\n",
      "arg_3: (3, 4)\n",
      "\n",
      "arg_1: 1\n",
      "arg_2: 2\n",
      "arg_3: (3, 4, 5)\n"
     ]
    }
   ],
   "source": [
    "def funcao_exemplo(arg_1, arg_2, *arg_3):\n",
    "    print('\\narg_1:', arg_1)\n",
    "    print('arg_2:', arg_2)\n",
    "    print('arg_3:', arg_3)\n",
    "    \n",
    "funcao_exemplo(1, 2)\n",
    "funcao_exemplo(1, 2, 3)\n",
    "funcao_exemplo(1, 2, 3, 4)\n",
    "funcao_exemplo(1, 2, 3, 4, 5)"
   ]
  },
  {
   "cell_type": "markdown",
   "id": "b701a7bc-a5f3-4a9a-8e4e-7f15b63e6307",
   "metadata": {},
   "source": [
    "#### ```**kwargs``` — argumentos nomeados variáveis\n",
    "Permite receber qualquer quantidade de argumentos nomeados, empacotando-os em um **dicionário**."
   ]
  },
  {
   "cell_type": "code",
   "execution_count": 30,
   "id": "5eac4b6b-9348-44e7-97ca-0fa09fee5d06",
   "metadata": {},
   "outputs": [
    {
     "name": "stdout",
     "output_type": "stream",
     "text": [
      "{'nome': 'Luis', 'idade': 30, 'cidade': 'Rio'}\n",
      "nome = Luis\n",
      "idade = 30\n",
      "cidade = Rio\n"
     ]
    }
   ],
   "source": [
    "def mostrar(**kwargs):\n",
    "    print(kwargs)  # dict\n",
    "    for chave, valor in kwargs.items():\n",
    "        print(f\"{chave} = {valor}\")\n",
    "\n",
    "mostrar(nome=\"Luis\", idade=30, cidade=\"Rio\")"
   ]
  },
  {
   "cell_type": "code",
   "execution_count": 31,
   "id": "5964e793-02ca-4ae3-9f85-b88b8fd562f4",
   "metadata": {},
   "outputs": [
    {
     "name": "stdout",
     "output_type": "stream",
     "text": [
      "{'key': 'value'}\n",
      "key = value\n"
     ]
    }
   ],
   "source": [
    "mostrar(**{'key': 'value'})"
   ]
  },
  {
   "cell_type": "markdown",
   "id": "6b9832d4-857c-45b2-9dda-49ef9f3b7390",
   "metadata": {},
   "source": [
    "#### Usando juntos"
   ]
  },
  {
   "cell_type": "code",
   "execution_count": null,
   "id": "8d1a6cd2-e3ff-451f-9991-d9a1d53e50f8",
   "metadata": {},
   "outputs": [],
   "source": [
    "def misto(fixo, *args, **kwargs):\n",
    "    print(f\"fixo: {fixo}\")\n",
    "    print(f\"args: {args}\")\n",
    "    print(f\"kwargs: {kwargs}\")\n",
    "\n",
    "misto(10, 20, 30, nome=\"Ana\", ativo=True)\n",
    "# fixo: 10\n",
    "# args: (20, 30)\n",
    "# kwargs: {'nome': 'Ana', 'ativo': True}\n"
   ]
  },
  {
   "cell_type": "markdown",
   "id": "95358505-66aa-4b5a-8489-6d5f2e4181b6",
   "metadata": {},
   "source": [
    "#### Mais exemplos gerais de funções"
   ]
  },
  {
   "cell_type": "code",
   "execution_count": 19,
   "id": "8b6f48c4-9afc-4a38-b6cc-13e5dcb69e2e",
   "metadata": {},
   "outputs": [
    {
     "name": "stdout",
     "output_type": "stream",
     "text": [
      "19\n",
      "5\n"
     ]
    }
   ],
   "source": [
    "def custom_length(elem):\n",
    "    count = 0\n",
    "    for i in elem:\n",
    "        count += 1\n",
    "    return count\n",
    "\n",
    "string = 'uma string qualquer'\n",
    "print(custom_length(string))\n",
    "\n",
    "uma_lista = ['cachorro', 'gato', 'galinha', 'cavalo', 'tartaruga']\n",
    "print(custom_length(uma_lista))"
   ]
  },
  {
   "cell_type": "code",
   "execution_count": 24,
   "id": "1ea332d8-be50-4950-b870-38be7112d7f0",
   "metadata": {},
   "outputs": [
    {
     "data": {
      "text/plain": [
       "['abacate', 'alface', 'tomate', 'milho']"
      ]
     },
     "execution_count": 24,
     "metadata": {},
     "output_type": "execute_result"
    }
   ],
   "source": [
    "def comma_split(texto):\n",
    "    '''\n",
    "    Cria um divisor de strings por vírgula ('comma', em inglês)\n",
    "    '''\n",
    "    lista = []\n",
    "    k = 0\n",
    "    for i, c in enumerate(texto):\n",
    "        if c == ',':\n",
    "            lista.append(texto[k:i])\n",
    "            k = i+1\n",
    "            while texto[k] == ' ':\n",
    "                k += 1\n",
    "    lista.append(texto[k:])\n",
    "    return lista\n",
    "\n",
    "\n",
    "texto = 'abacate,alface, tomate, milho'\n",
    "comma_split(texto)"
   ]
  },
  {
   "cell_type": "markdown",
   "id": "f4189bca-a4b3-41e4-a7d2-dac74b782d63",
   "metadata": {},
   "source": [
    "### Exercícios"
   ]
  },
  {
   "cell_type": "markdown",
   "id": "af7d0365-8ed1-4a0c-96cc-7c51213bb8e9",
   "metadata": {},
   "source": [
    "#### 1. Crie uma função chamada jogar_dados que simula o lançamento de dois dados. A função deve retornar a soma dos valores dos dados."
   ]
  },
  {
   "cell_type": "code",
   "execution_count": 25,
   "id": "b6412b33-a70d-469a-92fe-41650167ea47",
   "metadata": {},
   "outputs": [
    {
     "name": "stdout",
     "output_type": "stream",
     "text": [
      "A soma dos dados é: 7\n"
     ]
    }
   ],
   "source": [
    "import random\n",
    "\n",
    "def jogar_dados():\n",
    "    dado1 = random.randint(1, 6)  # Lança o primeiro dado\n",
    "    dado2 = random.randint(1, 6)  # Lança o segundo dado\n",
    "    soma = dado1 + dado2\n",
    "    return soma\n",
    "\n",
    "# Exemplo de uso\n",
    "resultado = jogar_dados()\n",
    "print(f'A soma dos dados é: {resultado}')"
   ]
  },
  {
   "cell_type": "markdown",
   "id": "0f6fcb56-5d64-43b2-a670-a8463d310185",
   "metadata": {},
   "source": [
    "#### 2. Escreva uma função chamada filtrar_pares que recebe uma lista de números e retorna uma nova lista contendo apenas os números pares."
   ]
  },
  {
   "cell_type": "code",
   "execution_count": 26,
   "id": "0931944d-04d3-4721-818c-f983144fc0ea",
   "metadata": {},
   "outputs": [
    {
     "name": "stdout",
     "output_type": "stream",
     "text": [
      "Os números pares são: [2, 4, 6, 8, 10]\n"
     ]
    }
   ],
   "source": [
    "def filtrar_pares(numeros):\n",
    "    pares = [num for num in numeros if num % 2 == 0]  # List comprehension para filtrar pares\n",
    "    return pares\n",
    "\n",
    "# Exemplo de uso\n",
    "lista_numeros = [1, 2, 3, 4, 5, 6, 7, 8, 9, 10]\n",
    "numeros_pares = filtrar_pares(lista_numeros)\n",
    "print(f'Os números pares são: {numeros_pares}')"
   ]
  },
  {
   "cell_type": "markdown",
   "id": "f1899e21-305d-4d0b-9075-949137072a17",
   "metadata": {},
   "source": [
    "#### 3. Crie a função split igual à função pronta do python `.split()`"
   ]
  },
  {
   "cell_type": "code",
   "execution_count": 27,
   "id": "902286a3-f188-481f-8dcb-62e3d265029c",
   "metadata": {},
   "outputs": [],
   "source": [
    "def custom_split(string, sep=' '):\n",
    "    lista = []\n",
    "    k = 0\n",
    "    for i, c in enumerate(string):\n",
    "        if c == sep:\n",
    "            if i != k:\n",
    "                lista.append(string[k:i])\n",
    "                k = i+1\n",
    "    lista.append(string[k:])\n",
    "    return lista"
   ]
  },
  {
   "cell_type": "code",
   "execution_count": 30,
   "id": "c05de96e-d777-4491-9376-7c1edfac5422",
   "metadata": {},
   "outputs": [
    {
     "data": {
      "text/plain": [
       "['hoje fui à feira', ' logo mais vou ao mercado', ' de noite tem jogo']"
      ]
     },
     "execution_count": 30,
     "metadata": {},
     "output_type": "execute_result"
    }
   ],
   "source": [
    "texto = 'abacate,    alface, tomate, milho'\n",
    "texto2 = 'hoje fui à feira. logo mais vou ao mercado. de noite tem jogo'\n",
    "custom_split(texto2, sep='.') # teste com um separador de ponto final"
   ]
  },
  {
   "cell_type": "markdown",
   "id": "bfa59ad6-671d-4e66-bac6-23a6c3db7f5a",
   "metadata": {},
   "source": [
    "#### 4. Escreva uma função chamada contar_letras que recebe uma string e retorna um dicionário com a contagem de cada letra\n",
    "Ignorar espaços e diferenciar maiúsculas de minúsculas."
   ]
  },
  {
   "cell_type": "code",
   "execution_count": 31,
   "id": "5f16f37d-daa5-4270-856c-74541e7173a0",
   "metadata": {},
   "outputs": [
    {
     "name": "stdout",
     "output_type": "stream",
     "text": [
      "Contagem de letras: {'o': 2, 'l': 1, 'á': 1, 'm': 1, 'u': 1, 'n': 1, 'd': 1}\n"
     ]
    }
   ],
   "source": [
    "def contar_letras(texto):\n",
    "    contagem = {}\n",
    "    for letra in texto:\n",
    "        if letra.isalpha():  # Verifica se o caractere é uma letra\n",
    "            letra = letra.lower()  # Converte para minúscula\n",
    "            if letra in contagem:\n",
    "                contagem[letra] += 1  # Incrementa a contagem da letra\n",
    "            else:\n",
    "                contagem[letra] = 1  # Inicializa a contagem da letra\n",
    "    return contagem\n",
    "\n",
    "# Exemplo de uso\n",
    "frase = \"Olá Mundo\"\n",
    "resultado = contar_letras(frase)\n",
    "print(f'Contagem de letras: {resultado}')"
   ]
  },
  {
   "cell_type": "markdown",
   "id": "78f5707f-d231-4d57-bf35-3507058c11c7",
   "metadata": {},
   "source": [
    "#### 5. Implemente a função de `pop`\n",
    "Retornar a lista transformada (não o elemento removida)"
   ]
  },
  {
   "cell_type": "code",
   "execution_count": 33,
   "id": "ce5edf7a-5517-4cf0-9e1d-09d45a846db4",
   "metadata": {},
   "outputs": [
    {
     "data": {
      "text/plain": [
       "[10, 6, 1, 4, 3]"
      ]
     },
     "execution_count": 33,
     "metadata": {},
     "output_type": "execute_result"
    }
   ],
   "source": [
    "def pop_lista(lista, idx=-1):\n",
    "    if idx == -1:\n",
    "        idx = len(lista) - 1\n",
    "    nova_lista = []\n",
    "    for i, elem in enumerate(lista):\n",
    "        if i != idx:\n",
    "            nova_lista.append(elem)\n",
    "    return nova_lista\n",
    "\n",
    "L = [10, 6, 7, 1, 4, 3]\n",
    "pop_lista(L, 2)"
   ]
  },
  {
   "cell_type": "markdown",
   "id": "dc50fa79-ecf0-4227-9d11-f988de954999",
   "metadata": {},
   "source": [
    "#### 6. Implementar a função `enumerate`"
   ]
  },
  {
   "cell_type": "code",
   "execution_count": 38,
   "id": "3f884f6d-d6b4-4079-a614-140dea7a549c",
   "metadata": {},
   "outputs": [
    {
     "name": "stdout",
     "output_type": "stream",
     "text": [
      "0 flamengo\n",
      "1 botafogo\n",
      "2 vasco\n",
      "3 fluminense\n"
     ]
    }
   ],
   "source": [
    "def my_enumerate(iterable):\n",
    "    index = 0\n",
    "    result = []\n",
    "    for item in iterable:\n",
    "        result.append((index, item))\n",
    "        index += 1\n",
    "    return result\n",
    "\n",
    "times = ['flamengo', 'botafogo', 'vasco', 'fluminense']\n",
    "for k, time in my_enumerate(times):\n",
    "    print(k, time)"
   ]
  },
  {
   "cell_type": "markdown",
   "id": "631d6990-f117-44f0-a37b-5abe44d055fb",
   "metadata": {},
   "source": [
    "#### 7. Implementar a função `join`"
   ]
  },
  {
   "cell_type": "code",
   "execution_count": 46,
   "id": "f18d1175-7c5f-4198-8b97-67602198bd6e",
   "metadata": {},
   "outputs": [
    {
     "data": {
      "text/plain": [
       "'flamengo, botafogo, vasco, fluminense'"
      ]
     },
     "execution_count": 46,
     "metadata": {},
     "output_type": "execute_result"
    }
   ],
   "source": [
    "def my_join(separator, iterable):\n",
    "    \"\"\"\n",
    "    Junta elementos de um iterável em uma única string, separados pelo delimitador especificado.\n",
    "\n",
    "    Parâmetros:\n",
    "    separator (str): A string usada como separador entre os elementos.\n",
    "    iterable (iterable): Coleção de itens a serem unidos, cada um será convertido em uma string.\n",
    "\n",
    "    Retorna:\n",
    "    str: Uma única string com todos os itens unidos pelo separador.\n",
    "    \"\"\"\n",
    "    result = \"\"\n",
    "    for i, item in enumerate(iterable):\n",
    "        # Adiciona o separador antes de cada elemento, exceto o primeiro\n",
    "        if i > 0:\n",
    "            result += separator\n",
    "        result += str(item)  # Converte o item para string e adiciona ao resultado\n",
    "    return result\n",
    "\n",
    "my_join(', ', times)"
   ]
  },
  {
   "cell_type": "code",
   "execution_count": null,
   "id": "117e91eb-8614-47eb-9e8a-1747b9bbd5df",
   "metadata": {},
   "outputs": [],
   "source": []
  }
 ],
 "metadata": {
  "kernelspec": {
   "display_name": "Python 3 (ipykernel)",
   "language": "python",
   "name": "python3"
  },
  "language_info": {
   "codemirror_mode": {
    "name": "ipython",
    "version": 3
   },
   "file_extension": ".py",
   "mimetype": "text/x-python",
   "name": "python",
   "nbconvert_exporter": "python",
   "pygments_lexer": "ipython3",
   "version": "3.11.7"
  }
 },
 "nbformat": 4,
 "nbformat_minor": 5
}
