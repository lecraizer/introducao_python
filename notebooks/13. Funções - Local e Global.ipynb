{
 "cells": [
  {
   "cell_type": "markdown",
   "id": "b25586fe-511c-47dc-9af5-d7342cd3dedc",
   "metadata": {},
   "source": [
    "# Variáveis Locais e Globais em Funções Python\n",
    "\n",
    "## Escopo de variáveis\n",
    "O **escopo** determina onde uma variável pode ser acessada no código.\n",
    "\n",
    "- **Global** → definida fora de qualquer função; visível em todo o arquivo (módulo).\n",
    "- **Local** → criada dentro de uma função; só existe enquanto a função está em execução.\n",
    "\n",
    "---"
   ]
  },
  {
   "cell_type": "markdown",
   "id": "9cca6761-495d-4a7b-946f-ee1e4c4963b6",
   "metadata": {},
   "source": [
    "##### Exemplo 1"
   ]
  },
  {
   "cell_type": "code",
   "execution_count": 1,
   "id": "f3110057-ca90-4f8b-a89e-52b27a33832a",
   "metadata": {},
   "outputs": [
    {
     "name": "stdout",
     "output_type": "stream",
     "text": [
      "Python is awesome\n"
     ]
    }
   ],
   "source": [
    "x = 'awesome' # global, pode ser usado em qq lugar do código\n",
    "\n",
    "def myfunc():\n",
    "    print('Python is ' + x)\n",
    "\n",
    "myfunc()"
   ]
  },
  {
   "cell_type": "markdown",
   "id": "100e26dc-fbd9-4d91-b2f9-626d76e39969",
   "metadata": {},
   "source": [
    "##### Exemplo 2"
   ]
  },
  {
   "cell_type": "code",
   "execution_count": 2,
   "id": "6f77d254-fbba-4885-ba5f-11dbf72023f5",
   "metadata": {},
   "outputs": [
    {
     "name": "stdout",
     "output_type": "stream",
     "text": [
      "Python is fantastic\n",
      "awesome\n"
     ]
    }
   ],
   "source": [
    "x = 'awesome'\n",
    "\n",
    "def myfunc():\n",
    "    x = 'fantastic'\n",
    "    print('Python is ' + x)\n",
    "\n",
    "myfunc()\n",
    "print(x)"
   ]
  },
  {
   "cell_type": "markdown",
   "id": "2fb3eb70-3bb1-4b89-ac2a-f10f3661462e",
   "metadata": {},
   "source": [
    "##### Exemplo 3"
   ]
  },
  {
   "cell_type": "code",
   "execution_count": 3,
   "id": "3239334f-96d3-41a5-b1b2-30921012b853",
   "metadata": {},
   "outputs": [
    {
     "name": "stdout",
     "output_type": "stream",
     "text": [
      "Python is fantastic\n"
     ]
    }
   ],
   "source": [
    "# x = 'awesome'\n",
    "\n",
    "def myfunc():\n",
    "    global x\n",
    "    x = 'fantastic'\n",
    "\n",
    "myfunc()\n",
    "print('Python is ' + x)"
   ]
  },
  {
   "cell_type": "markdown",
   "id": "4f9a4278-3eec-4a0d-9bfc-5ca0e512023b",
   "metadata": {},
   "source": [
    "### Objetos mutáveis x imutáveis em Python\n",
    "\n",
    "- **Imutáveis**: `int`, `float`, `str`, `tuple`, `bool`  \n",
    "  - Não podem ser alterados depois de criados.  \n",
    "  - Reatribuição cria um **novo objeto**.  \n",
    "  - Para mudar uma variável global, é preciso usar `global`.\n",
    "\n",
    "- **Mutáveis**: `list`, `dict`, `set`  \n",
    "  - Podem ter seu conteúdo alterado **sem recriar o objeto**.  \n",
    "  - Operações como `append`, `update` ou `add` modificam o objeto original.  \n",
    "  - `global` só é necessário se for trocar a **referência** (ex: `lista = [...]`).\n"
   ]
  },
  {
   "cell_type": "markdown",
   "id": "4abe5a35-0a98-4260-aab9-ff286476e04b",
   "metadata": {},
   "source": [
    "##### Exemplo 1"
   ]
  },
  {
   "cell_type": "code",
   "execution_count": 4,
   "id": "eb32ada6-aaaa-45be-82a7-70ed2498b5ea",
   "metadata": {},
   "outputs": [
    {
     "name": "stdout",
     "output_type": "stream",
     "text": [
      "1\n"
     ]
    }
   ],
   "source": [
    "contador = 0\n",
    "\n",
    "def incrementar():\n",
    "    global contador # sem essa linha, dá erro\n",
    "    contador += 1\n",
    "\n",
    "incrementar()\n",
    "print(contador)  # 1"
   ]
  },
  {
   "cell_type": "markdown",
   "id": "5c44a66b-f8bf-4834-a547-0f6ae84fd364",
   "metadata": {},
   "source": [
    "##### Exemplo 2"
   ]
  },
  {
   "cell_type": "code",
   "execution_count": 5,
   "id": "b245c240-ef0a-42a3-8907-a2a9efcb8d0a",
   "metadata": {},
   "outputs": [
    {
     "name": "stdout",
     "output_type": "stream",
     "text": [
      "[1, 2, 3, 5]\n",
      "[1, 2, 3, 5]\n"
     ]
    }
   ],
   "source": [
    "lista = [1,2,3]\n",
    "\n",
    "def f():\n",
    "    lista.append(5)\n",
    "    print(lista)\n",
    "\n",
    "f()\n",
    "print(lista)"
   ]
  },
  {
   "cell_type": "markdown",
   "id": "93802e9a-240e-4a81-9c66-6614115d817f",
   "metadata": {},
   "source": [
    "##### Exemplo 3"
   ]
  },
  {
   "cell_type": "code",
   "execution_count": 6,
   "id": "1665568d-a5b6-4e08-985c-91cca668bf70",
   "metadata": {},
   "outputs": [
    {
     "name": "stdout",
     "output_type": "stream",
     "text": [
      "[10, 20, 30]\n",
      "[1, 2, 3]\n"
     ]
    }
   ],
   "source": [
    "lista = [1, 2, 3]\n",
    "\n",
    "def f():\n",
    "    lista = [10, 20, 30] # Cria uma variável local, não muda a global!\n",
    "    print(lista)\n",
    "\n",
    "f()\n",
    "print(lista)"
   ]
  },
  {
   "cell_type": "markdown",
   "id": "fdc1dcd9-0d82-4e4b-8bde-42ef6e55a7ab",
   "metadata": {},
   "source": [
    "##### Exemplo 4"
   ]
  },
  {
   "cell_type": "code",
   "execution_count": 7,
   "id": "fe5dcbdc-4712-4b73-889f-dd01367895d0",
   "metadata": {},
   "outputs": [
    {
     "name": "stdout",
     "output_type": "stream",
     "text": [
      "[10, 20, 30]\n"
     ]
    }
   ],
   "source": [
    "lista = [1, 2, 3]\n",
    "\n",
    "def f():\n",
    "    global lista\n",
    "    lista = [10, 20, 30]\n",
    "\n",
    "f()\n",
    "print(lista)"
   ]
  },
  {
   "cell_type": "markdown",
   "id": "b2cc59ee-34d5-4b49-9f5d-908424c1f3bb",
   "metadata": {},
   "source": [
    "##### Exemplo 5"
   ]
  },
  {
   "cell_type": "code",
   "execution_count": 8,
   "id": "971d5def-aad9-47e9-8d9f-0912d29dc0c9",
   "metadata": {},
   "outputs": [
    {
     "name": "stdout",
     "output_type": "stream",
     "text": [
      "{'a': 1, 'b': 2, 'c': 3}\n",
      "{'a': 1, 'b': 2, 'c': 3}\n"
     ]
    }
   ],
   "source": [
    "d = {\"a\": 1, \"b\": 2}\n",
    "\n",
    "def f():\n",
    "    d[\"c\"] = 3  # modifica o dicionário global\n",
    "    print(d)\n",
    "\n",
    "f()\n",
    "print(d)"
   ]
  },
  {
   "cell_type": "markdown",
   "id": "e57fd52e-4040-40d4-892b-955469d7b778",
   "metadata": {},
   "source": [
    "##### Exemplo 6"
   ]
  },
  {
   "cell_type": "code",
   "execution_count": 9,
   "id": "13a7a15e-b775-4ba6-a0f0-dc2a5b4f6347",
   "metadata": {},
   "outputs": [
    {
     "name": "stdout",
     "output_type": "stream",
     "text": [
      "{'x': 10}\n",
      "{'a': 1, 'b': 2}\n"
     ]
    }
   ],
   "source": [
    "d = {\"a\": 1, \"b\": 2}\n",
    "\n",
    "def f():\n",
    "    d = {\"x\": 10}  # cria um dicionário local, não muda o global\n",
    "    print(d)\n",
    "\n",
    "f()\n",
    "print(d)"
   ]
  },
  {
   "cell_type": "markdown",
   "id": "df21e645-fcbf-4f9c-a42a-5dd53369994c",
   "metadata": {},
   "source": [
    "##### Exemplo 7"
   ]
  },
  {
   "cell_type": "code",
   "execution_count": 10,
   "id": "bfe1ffc6-9653-4b21-8d93-901346e76693",
   "metadata": {},
   "outputs": [
    {
     "name": "stdout",
     "output_type": "stream",
     "text": [
      "{'x': 10}\n"
     ]
    }
   ],
   "source": [
    "d = {\"a\": 1, \"b\": 2}\n",
    "\n",
    "def f():\n",
    "    global d\n",
    "    d = {\"x\": 10}  # agora muda a referência global\n",
    "\n",
    "f()\n",
    "print(d)"
   ]
  },
  {
   "cell_type": "markdown",
   "id": "1c8f9b1b-e4c6-4094-861b-9d2b988c67e6",
   "metadata": {},
   "source": [
    "##### Exemplo 8"
   ]
  },
  {
   "cell_type": "code",
   "execution_count": 11,
   "id": "bc37976f-320a-4530-a8f9-652a7ac3eab6",
   "metadata": {},
   "outputs": [
    {
     "name": "stdout",
     "output_type": "stream",
     "text": [
      "{'nome': 'Fulano de Almeida', 'idade': 46, 'cpf': '12054712330'}\n",
      "{'nome': 'Fulano de Almeida', 'idade': 46, 'cpf': '12054712330'}\n"
     ]
    }
   ],
   "source": [
    "cadastro = {'nome': 'Fulano de Almeida',\n",
    "           'idade': 45,\n",
    "            'cpf': '12054712330'\n",
    "           }\n",
    "\n",
    "def f():\n",
    "    cadastro['idade'] += 1 \n",
    "    print(cadastro)\n",
    "\n",
    "f()\n",
    "print(cadastro)"
   ]
  },
  {
   "cell_type": "markdown",
   "id": "4238db00-a3f6-432e-b17b-27c0526636fa",
   "metadata": {},
   "source": [
    "##### Exemplo 9"
   ]
  },
  {
   "cell_type": "code",
   "execution_count": 12,
   "id": "df21687c-7650-47b4-a213-a4e08b85c21e",
   "metadata": {},
   "outputs": [
    {
     "name": "stdout",
     "output_type": "stream",
     "text": [
      "(1, 2, 3)\n"
     ]
    }
   ],
   "source": [
    "t = (1, 2, 3)\n",
    "\n",
    "def f():\n",
    "    t[0] = 99   # ERRO! tuplas são imutáveis\n",
    "\n",
    "# f()\n",
    "print(t)"
   ]
  },
  {
   "cell_type": "markdown",
   "id": "670e702d-d7f7-42e6-91a6-5def939e7ea5",
   "metadata": {},
   "source": [
    "##### Exemplo 10"
   ]
  },
  {
   "cell_type": "code",
   "execution_count": 13,
   "id": "372b54cd-ffc1-41cf-962d-f777da106d08",
   "metadata": {},
   "outputs": [
    {
     "name": "stdout",
     "output_type": "stream",
     "text": [
      "(99, 100)\n"
     ]
    }
   ],
   "source": [
    "t = (1, 2, 3)\n",
    "\n",
    "def f():\n",
    "    global t\n",
    "    t = (99, 100)\n",
    "\n",
    "f()\n",
    "print(t)   # (99, 100)"
   ]
  }
 ],
 "metadata": {
  "kernelspec": {
   "display_name": "Python 3 (ipykernel)",
   "language": "python",
   "name": "python3"
  },
  "language_info": {
   "codemirror_mode": {
    "name": "ipython",
    "version": 3
   },
   "file_extension": ".py",
   "mimetype": "text/x-python",
   "name": "python",
   "nbconvert_exporter": "python",
   "pygments_lexer": "ipython3",
   "version": "3.11.7"
  }
 },
 "nbformat": 4,
 "nbformat_minor": 5
}
