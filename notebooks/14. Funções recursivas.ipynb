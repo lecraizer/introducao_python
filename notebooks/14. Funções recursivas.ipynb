{
 "cells": [
  {
   "cell_type": "markdown",
   "id": "c351f759-ac8b-4f28-8033-29450cbb693e",
   "metadata": {},
   "source": [
    "## Funções Recursivas em Python"
   ]
  },
  {
   "cell_type": "markdown",
   "id": "baa1e0db-8d08-4faf-ad3c-b3ac2085fdbf",
   "metadata": {},
   "source": [
    "### O que é Recursão?\n",
    "\n",
    "Em programação, **recursão** é uma técnica em que uma função chama a si mesma para resolver um problema. Uma função recursiva se repete até que atinja uma condição de parada, chamada de **caso base**. Recursão é útil para resolver problemas que podem ser divididos em subproblemas menores de estrutura semelhante ao problema original.\n",
    "\n",
    "### Estrutura Básica de uma Função Recursiva\n",
    "\n",
    "1. **Caso Base**: Condição que interrompe a chamada recursiva, evitando um loop infinito.\n",
    "2. **Chamada Recursiva**: A função chama a si mesma com argumentos modificados para se aproximar do caso base.\n",
    "\n",
    "Exemplo de Estrutura:\n",
    "```python\n",
    "def funcao_recursiva(parametro):\n",
    "    if caso_base:\n",
    "        return resultado_base\n",
    "    else:\n",
    "        # Chamada recursiva com um novo valor de parâmetro\n",
    "        return funcao_recursiva(novo_parametro)"
   ]
  },
  {
   "cell_type": "markdown",
   "id": "9b0a6f7d-2853-4fce-ab27-a40866efa557",
   "metadata": {
    "jp-MarkdownHeadingCollapsed": true
   },
   "source": [
    "#### Vantagens e Desvantagens da Recursão\n",
    "- Vantagens: Simplicidade e clareza em problemas que têm uma solução naturalmente recursiva, como estruturas em árvore ou sequências numéricas.\n",
    "- Desvantagens: Pode ser menos eficiente e consumir mais memória que soluções iterativas, pois cada chamada recursiva adiciona uma camada na pilha de chamadas."
   ]
  },
  {
   "cell_type": "markdown",
   "id": "d170c5f7-9cd0-4ad3-a632-479226d65b6f",
   "metadata": {},
   "source": [
    "#### Exemplo 0: Contagem Regressiva\n",
    "\n",
    "Esse exemplo mostra uma contagem regressiva, que ilustra a recursão de forma direta e simples. A função `contagem_regressiva` imprime cada número até chegar a zero e, então, exibe uma mensagem final."
   ]
  },
  {
   "cell_type": "code",
   "execution_count": 12,
   "id": "45ed0d94-b941-428c-93e4-66dcdeaf09eb",
   "metadata": {},
   "outputs": [
    {
     "name": "stdout",
     "output_type": "stream",
     "text": [
      "5\n",
      "4\n",
      "3\n",
      "2\n",
      "1\n",
      "Fim!\n"
     ]
    }
   ],
   "source": [
    "def contagem_regressiva(n):\n",
    "    if n <= 0:\n",
    "        print(\"Fim!\")\n",
    "    else:\n",
    "        print(n)\n",
    "        contagem_regressiva(n - 1)\n",
    "\n",
    "contagem_regressiva(5)"
   ]
  },
  {
   "cell_type": "markdown",
   "id": "85b6fe2f-fb36-4ae1-9b00-7da4338d806e",
   "metadata": {},
   "source": [
    "#### Exemplo 1: Cálculo de Fatorial com Recursão\n",
    "O fatorial de um número _n_ (escrito como **n!**) é o produto de todos os números inteiros positivos menores ou iguais a _n_. <br>\n",
    "Ex: 5! = 5 * 4 * 3 * 2 * 1 = 120"
   ]
  },
  {
   "cell_type": "code",
   "execution_count": 13,
   "id": "c9eeb1eb-a4dc-4f04-a99e-165feabe4475",
   "metadata": {},
   "outputs": [
    {
     "name": "stdout",
     "output_type": "stream",
     "text": [
      "120\n"
     ]
    }
   ],
   "source": [
    "def fatorial(n):\n",
    "    if n <= 1:\n",
    "        return 1  # Caso base: 0! e 1! são 1\n",
    "    else:\n",
    "        return n * fatorial(n - 1)  # Chamada recursiva\n",
    "\n",
    "print(fatorial(5))"
   ]
  },
  {
   "cell_type": "markdown",
   "id": "83995278-4adb-4d26-9c39-d6c22db77bd3",
   "metadata": {},
   "source": [
    "#### Exemplo 2: Sequência de Fibonacci com Recursão\n",
    "A **Sequência de Fibonacci** é uma sequência onde cada número é a soma dos dois anteriores: <br>\n",
    "Ex: 0, 1, 1, 2, 3, 5, 8, 13, ..."
   ]
  },
  {
   "cell_type": "code",
   "execution_count": 4,
   "id": "ba7de6d3-e6a6-4228-a4cb-cec7a9118a30",
   "metadata": {},
   "outputs": [
    {
     "name": "stdout",
     "output_type": "stream",
     "text": [
      "8\n"
     ]
    }
   ],
   "source": [
    "def fibonacci(n):\n",
    "    '''\n",
    "    Pega o n-ésimo termo de Fibonacci\n",
    "    '''\n",
    "    if n <= 0:\n",
    "        return 0  # Caso base 1: Fibonacci(0) é 0\n",
    "    elif n == 1:\n",
    "        return 1  # Caso base 2: Fibonacci(1) é 1\n",
    "    else:\n",
    "        return fibonacci(n - 1) + fibonacci(n - 2)  # Chamada recursiva\n",
    "\n",
    "print(fibonacci(6))"
   ]
  },
  {
   "cell_type": "markdown",
   "id": "fe619b74-7a47-43c2-8428-3b2ff0451af0",
   "metadata": {},
   "source": [
    "### Exercícios"
   ]
  },
  {
   "cell_type": "markdown",
   "id": "fa982e20-2215-45f9-a80a-90e9ed4db71a",
   "metadata": {},
   "source": [
    "#### Exercício 1: Contagem de Elementos em uma Lista\n",
    "Escreva uma função recursiva para contar quantos elementos existem em uma lista. A função deve retornar o número de elementos, sem usar a função `len()`. A ideia é ir removendo um elemento da lista a cada chamada recursiva até que a lista esteja vazia."
   ]
  },
  {
   "cell_type": "code",
   "execution_count": 15,
   "id": "4c72cd0b-48b2-4a6b-bc36-c58755e904bc",
   "metadata": {},
   "outputs": [
    {
     "name": "stdout",
     "output_type": "stream",
     "text": [
      "5\n",
      "3\n",
      "0\n"
     ]
    }
   ],
   "source": [
    "def contar_elementos(lista):\n",
    "    # Caso base: lista vazia\n",
    "    if not lista:\n",
    "        return 0\n",
    "    else:\n",
    "        # Passo recursivo: conta 1 e chama a função para o resto da lista\n",
    "        return 1 + contar_elementos(lista[1:])\n",
    "i\n",
    "# Testes\n",
    "print(contar_elementos([1, 2, 3, 4, 5]))\n",
    "print(contar_elementos([10, 20, 30]))\n",
    "print(contar_elementos([]))   "
   ]
  },
  {
   "cell_type": "markdown",
   "id": "eaad861c-f402-4dda-877a-bc895d007a40",
   "metadata": {},
   "source": [
    "#### Exercício 2: Inverter uma Lista\n",
    "Escreva uma função recursiva para inverter uma lista. A função deve retornar uma nova lista, onde os elementos estão na ordem inversa da lista original."
   ]
  },
  {
   "cell_type": "code",
   "execution_count": 16,
   "id": "11d4d1e3-7a14-4677-94e0-f19522646096",
   "metadata": {},
   "outputs": [
    {
     "name": "stdout",
     "output_type": "stream",
     "text": [
      "[5, 4, 3, 2, 1]\n",
      "[30, 20, 10]\n",
      "[]\n"
     ]
    }
   ],
   "source": [
    "def inverter_lista(lista):\n",
    "    # Caso base: lista vazia\n",
    "    if not lista:\n",
    "        return []\n",
    "    else:\n",
    "        # Passo recursivo: inverte o restante da lista e coloca o primeiro elemento no final\n",
    "        return inverter_lista(lista[1:]) + [lista[0]]\n",
    "\n",
    "# Testes\n",
    "print(inverter_lista([1, 2, 3, 4, 5]))  # Saída esperada: [5, 4, 3, 2, 1]\n",
    "print(inverter_lista([10, 20, 30]))     # Saída esperada: [30, 20, 10]\n",
    "print(inverter_lista([]))   "
   ]
  },
  {
   "cell_type": "markdown",
   "id": "92cc0e91-55df-4362-be6a-1d79691a6a09",
   "metadata": {},
   "source": [
    "#### Exercício 3: Somar Elementos de uma Lista\n",
    "Escreva uma função recursiva para somar todos os elementos de uma lista de números. A função deve retornar a soma dos elementos da lista. \n",
    "<br>OBS: Não vale usar o comando `sum()`."
   ]
  },
  {
   "cell_type": "code",
   "execution_count": 17,
   "id": "b2a0d202-4135-44c1-9712-94a936adacf5",
   "metadata": {},
   "outputs": [
    {
     "name": "stdout",
     "output_type": "stream",
     "text": [
      "15\n",
      "60\n",
      "0\n"
     ]
    }
   ],
   "source": [
    "def somar_elementos(lista):\n",
    "    # Caso base: lista vazia\n",
    "    if not lista:\n",
    "        return 0\n",
    "    else:\n",
    "        # Passo recursivo: soma o primeiro elemento e chama a função para o restante da lista\n",
    "        return lista[0] + somar_elementos(lista[1:])\n",
    "\n",
    "# Testes\n",
    "print(somar_elementos([1, 2, 3, 4, 5]))  # Saída esperada: 15\n",
    "print(somar_elementos([10, 20, 30]))     # Saída esperada: 60\n",
    "print(somar_elementos([]))               # Saída esperada: 0"
   ]
  },
  {
   "cell_type": "code",
   "execution_count": null,
   "id": "1c61790a-8ae0-4e40-8d43-771c928e1943",
   "metadata": {},
   "outputs": [],
   "source": []
  }
 ],
 "metadata": {
  "kernelspec": {
   "display_name": "Python 3 (ipykernel)",
   "language": "python",
   "name": "python3"
  },
  "language_info": {
   "codemirror_mode": {
    "name": "ipython",
    "version": 3
   },
   "file_extension": ".py",
   "mimetype": "text/x-python",
   "name": "python",
   "nbconvert_exporter": "python",
   "pygments_lexer": "ipython3",
   "version": "3.11.7"
  }
 },
 "nbformat": 4,
 "nbformat_minor": 5
}
