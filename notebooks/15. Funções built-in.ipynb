{
 "cells": [
  {
   "cell_type": "markdown",
   "id": "b23e33ca-952d-470d-b09a-ced4423b53b0",
   "metadata": {},
   "source": [
    "## O que são?\n",
    "   Funções built-in são funções que já estão disponíveis na linguagem de programação, sem a necessidade de serem definidas ou importadas pelo programador. No Python, elas fazem parte da biblioteca padrão da linguagem e são carregadas automaticamente quando o interpretador Python é iniciado. Isso significa que você pode usar essas funções diretamente, sem precisar se preocupar em implementá-las ou instalar pacotes externos.\n",
    "   \n",
    "### 1. Funções Built-in para Listas\n",
    " - `len()`: Retorna o comprimento da lista.\n",
    " - `append()`: Adiciona um elemento ao final da lista.\n",
    " - `extend()`: Adiciona todos os elementos de outra lista ao final da lista original.\n",
    " - `pop()`: Remove e retorna o último item da lista.\n",
    " - `remove()`: Remove o primeiro item com o valor especificado.\n",
    " - `sort()`: Ordena os elementos da lista.\n",
    " - `reverse()`: Inverte a ordem dos elementos na lista.\n",
    " - `sum()`: Retorna a soma de todos os itens da lista (útil para listas numéricas).\n",
    "\n",
    "### 2. Funções Built-in para Strings\n",
    " - `len()`: Retorna o comprimento da string.\n",
    " - `upper()`: Converte a string para maiúsculas.\n",
    " - `lower()`: Converte a string para minúsculas.\n",
    " - `replace()`: Substitui partes da string por outra.\n",
    " - `split()`: Divide uma string em uma lista de substrings.\n",
    " - `join()`: Junta uma lista de strings em uma única string.\n",
    " - `strip()`: Remove espaços em branco no início e no final da string.\n",
    " - `find()`: Retorna o índice da primeira ocorrência de um valor na string.\n",
    "\n",
    "### 3. Funções Built-in para Dicionários\n",
    " - `len()`: Retorna o número de itens no dicionário.\n",
    " - `get()`: Retorna o valor associado a uma chave (evita erro se a chave não existir).\n",
    " - `keys()`: Retorna todas as chaves do dicionário.\n",
    " - `values()`: Retorna todos os valores do dicionário.\n",
    " - `items()`: Retorna uma lista de tuplas (chave, valor).\n",
    " - `pop()`: Remove o item com a chave especificada."
   ]
  },
  {
   "cell_type": "markdown",
   "id": "93ae95ed-9c64-4e07-937d-ea5ba54a8be7",
   "metadata": {},
   "source": [
    "----"
   ]
  },
  {
   "cell_type": "markdown",
   "id": "d3fcc01e-525f-431c-997e-ef7a9dfc2708",
   "metadata": {},
   "source": [
    "### Funções Built-in Mais Sofisticadas em Python\n",
    "\n",
    "Python oferece algumas funções built-in que são especialmente úteis para aplicar transformações e operações em coleções de dados de maneira funcional. Elas podem ser vistas como \"funções de ordem superior\", ou seja, funções que operam sobre outras funções. Essas funções são bastante poderosas e podem facilitar a programação ao lidar com coleções de dados de maneira concisa e eficiente. Elas são essenciais para quem deseja trabalhar de forma mais funcional e declarativa no Python, evitando a necessidade de loops explícitos e melhorando a legibilidade e performance do código. Abaixo estão algumas dessas funções sofisticadas e seu uso."
   ]
  },
  {
   "cell_type": "markdown",
   "id": "da4d9177-b884-4fe7-ab0d-543094e7e5ae",
   "metadata": {},
   "source": [
    "- **`map()`**:\n",
    "   - A função `map()` aplica uma função a cada item de um iterável (como uma lista ou tupla) e retorna um iterador com os resultados. A função passada a `map()` deve ser capaz de processar cada item do iterável individualmente.\n",
    "   - **Sintaxe**:\n",
    "     ```python\n",
    "     map(função, iterável)\n",
    "     ```"
   ]
  },
  {
   "cell_type": "code",
   "execution_count": 50,
   "id": "8d2dca23-ebb8-4a37-a501-0d3ce8753cd2",
   "metadata": {},
   "outputs": [
    {
     "name": "stdout",
     "output_type": "stream",
     "text": [
      "[2, 4, 6, 8]\n"
     ]
    }
   ],
   "source": [
    "lista = [1, 2, 3, 4]\n",
    "resultado = map(lambda x: x * 2, lista)  # Multiplica cada elemento por 2\n",
    "print(list(resultado))"
   ]
  },
  {
   "cell_type": "markdown",
   "id": "0d4e6c18-66d4-4771-9cb0-5ffcf5496cb6",
   "metadata": {},
   "source": [
    "- **`filter()`**:\n",
    "   - A função `filter()` é usada para filtrar elementos de um iterável com base em uma condição especificada por uma função. Ela retorna apenas os elementos para os quais a função retornou `True`.\n",
    "   - **Sintaxe**:\n",
    "     ```python\n",
    "     filter(função, iterável)\n",
    "     ```"
   ]
  },
  {
   "cell_type": "code",
   "execution_count": 53,
   "id": "e84559a5-eb03-4ec3-bf43-6ce1d9a7ddaf",
   "metadata": {},
   "outputs": [
    {
     "name": "stdout",
     "output_type": "stream",
     "text": [
      "[2, 4]\n"
     ]
    }
   ],
   "source": [
    "lista = [1, 2, 3, 4, 5]\n",
    "resultado = filter(lambda x: x % 2 == 0, lista)  # Filtra números pares\n",
    "print(list(resultado))"
   ]
  },
  {
   "cell_type": "markdown",
   "id": "4f6342d5-c854-4792-888e-26ce5a3c5547",
   "metadata": {},
   "source": [
    "- **`zip()`**:\n",
    "   - A função `zip()` combina vários iteráveis (como listas ou tuplas) em um único iterável, criando pares de elementos correspondentes de cada iterável. O resultado é um iterador de tuplas.\n",
    "   - **Sintaxe**:\n",
    "     ```python\n",
    "     zip(iterável1, iterável2, ...)\n",
    "     ```"
   ]
  },
  {
   "cell_type": "code",
   "execution_count": 61,
   "id": "4afdd63b-c3f6-4cb9-b12a-0d6d58326690",
   "metadata": {},
   "outputs": [
    {
     "name": "stdout",
     "output_type": "stream",
     "text": [
      "[(1, 'a'), (2, 'b'), (3, 'c')]\n"
     ]
    }
   ],
   "source": [
    "lista1 = [1, 2, 3]\n",
    "lista2 = ['a', 'b', 'c']\n",
    "resultado = zip(lista1, lista2)\n",
    "print(list(resultado))"
   ]
  },
  {
   "cell_type": "code",
   "execution_count": 58,
   "id": "3c19bb97-ce5c-4155-8b05-ca7652a049d1",
   "metadata": {},
   "outputs": [
    {
     "name": "stdout",
     "output_type": "stream",
     "text": [
      "1 a\n",
      "2 b\n",
      "3 c\n"
     ]
    }
   ],
   "source": [
    "for i, j in zip(lista1, lista2):\n",
    "    print(i, j)"
   ]
  },
  {
   "cell_type": "markdown",
   "id": "cc317af6-1323-49fc-8d43-e8fbc22396da",
   "metadata": {},
   "source": [
    "- **`any()`**:\n",
    "   - A função `any()` verifica se **algum** dos elementos de um iterável é verdadeiro. Retorna `True` se algum elemento for verdadeiro (ou se o iterável não estiver vazio), caso contrário, retorna `False`.\n",
    "   - **Sintaxe**:\n",
    "     ```python\n",
    "     any(iterável)\n",
    "     ```"
   ]
  },
  {
   "cell_type": "code",
   "execution_count": 62,
   "id": "932c6e11-c162-4249-836e-c4e69b06e4c8",
   "metadata": {},
   "outputs": [
    {
     "name": "stdout",
     "output_type": "stream",
     "text": [
      "True\n"
     ]
    }
   ],
   "source": [
    "lista = [0, 1, 2]\n",
    "\n",
    "lista = [True, False, False]\n",
    "print(any(lista))  # Saída: True, pois há elementos não-zero"
   ]
  },
  {
   "cell_type": "markdown",
   "id": "01f63fde-1507-4dff-8ec0-ca937d3379f8",
   "metadata": {},
   "source": [
    "- **`all()`**:\n",
    "   - A função `all()` verifica se **todos** os elementos de um iterável são verdadeiros. Retorna `True` se todos os elementos forem verdadeiros, e `False` caso contrário.\n",
    "   - **Sintaxe**:\n",
    "     ```python\n",
    "     all(iterável)\n",
    "     ```"
   ]
  },
  {
   "cell_type": "code",
   "execution_count": 63,
   "id": "96febcb1-4d87-43de-9497-97baaf5207a5",
   "metadata": {},
   "outputs": [
    {
     "name": "stdout",
     "output_type": "stream",
     "text": [
      "False\n"
     ]
    }
   ],
   "source": [
    "lista = [1, 2, 3]\n",
    "\n",
    "lista = [False, True, True]\n",
    "print(all(lista))"
   ]
  },
  {
   "cell_type": "markdown",
   "id": "f1b855f6-9759-4e91-8f60-c7372d611839",
   "metadata": {},
   "source": [
    "- **`sorted()`**:\n",
    "   - A função `sorted()` retorna uma lista ordenada dos itens em um iterável (não modifica o iterável original). Você pode definir a ordem de classificação e se a ordenação será crescente ou decrescente com os parâmetros `key` e `reverse`.\n",
    "   - **Sintaxe**:\n",
    "     ```python\n",
    "     sorted(iterável, key=função, reverse=bool)\n",
    "     ```"
   ]
  },
  {
   "cell_type": "code",
   "execution_count": 67,
   "id": "2be5b33a-88be-4ce8-9ccc-11b592cad416",
   "metadata": {},
   "outputs": [
    {
     "name": "stdout",
     "output_type": "stream",
     "text": [
      "[1, 2, 3]\n"
     ]
    }
   ],
   "source": [
    "lista = [3, 1, 2]\n",
    "print(sorted(lista))"
   ]
  },
  {
   "cell_type": "markdown",
   "id": "c703cfb3-0565-45fd-86a3-ebedc25e785e",
   "metadata": {},
   "source": [
    "- **`reversed()`**:\n",
    "   - A função `reversed()` retorna um iterador que acessa os elementos de um iterável na ordem inversa.\n",
    "   - **Sintaxe**:\n",
    "     ```python\n",
    "     reversed(iterável)\n",
    "     ```"
   ]
  },
  {
   "cell_type": "code",
   "execution_count": 52,
   "id": "cff972e2-1341-4008-a47b-1092801cf2bc",
   "metadata": {},
   "outputs": [
    {
     "name": "stdout",
     "output_type": "stream",
     "text": [
      "[2, 1, 3]\n"
     ]
    }
   ],
   "source": [
    "lista = [3, 1, 2]\n",
    "print(list(reversed(lista)))"
   ]
  },
  {
   "cell_type": "markdown",
   "id": "3cde767e-5d26-4c8c-999b-1ca3cf00db04",
   "metadata": {},
   "source": [
    "- **`enumerate()`**:\n",
    "   - A função `enumerate()` é usada para adicionar um contador aos itens de um iterável, retornando um objeto enumerado. Cada item do iterável é retornado como uma tupla, contendo o índice e o valor.\n",
    "   - **Sintaxe**:\n",
    "     ```python\n",
    "     enumerate(iterável, start=0)\n",
    "     ```"
   ]
  },
  {
   "cell_type": "code",
   "execution_count": 25,
   "id": "03d34650-0a45-4c7a-bd53-13d126b48317",
   "metadata": {},
   "outputs": [
    {
     "name": "stdout",
     "output_type": "stream",
     "text": [
      "0 a\n",
      "1 b\n",
      "2 c\n"
     ]
    }
   ],
   "source": [
    "lista = ['a', 'b', 'c']\n",
    "for index, value in enumerate(lista):\n",
    "    print(index, value)"
   ]
  },
  {
   "cell_type": "markdown",
   "id": "52951f0f-a68c-48a9-b5d4-8090df39daf5",
   "metadata": {},
   "source": [
    "- **`isinstance()`**:\n",
    "    - A função `isinstance()` verifica se um objeto é uma instância de uma classe ou de uma tupla de classes. Pode ser útil para validação de tipos de dados.\n",
    "    - **Sintaxe**:\n",
    "      ```python\n",
    "      isinstance(obj, classe)\n",
    "      ```"
   ]
  },
  {
   "cell_type": "code",
   "execution_count": 70,
   "id": "6a64baa9-c808-4fb3-9559-441abfb0420a",
   "metadata": {},
   "outputs": [
    {
     "name": "stdout",
     "output_type": "stream",
     "text": [
      "True\n"
     ]
    }
   ],
   "source": [
    "x = 10.0\n",
    "print(isinstance(x, float))"
   ]
  },
  {
   "cell_type": "markdown",
   "id": "dae33970-489f-4978-8670-87dd75c6cfc4",
   "metadata": {},
   "source": [
    "### Exemplos mais sofisticados"
   ]
  },
  {
   "cell_type": "markdown",
   "id": "230a2467-d8c0-4970-a417-cf64988753be",
   "metadata": {},
   "source": [
    "- `any`"
   ]
  },
  {
   "cell_type": "code",
   "execution_count": 75,
   "id": "cdba968e-e680-4c17-9e22-38b003cebae4",
   "metadata": {},
   "outputs": [
    {
     "name": "stdout",
     "output_type": "stream",
     "text": [
      "True\n"
     ]
    }
   ],
   "source": [
    "usuarios = [\n",
    "    {\"nome\": \"João\", \"ativo\": False, \"admin\": False},\n",
    "    {\"nome\": \"Maria\", \"ativo\": False, \"admin\": True},\n",
    "    {\"nome\": \"Carlos\", \"ativo\": True, \"admin\": False},\n",
    "]\n",
    "\n",
    "# Verificando se algum usuário está ativo ou é administrador\n",
    "# resultado = any(usuario[\"ativo\"] or usuario[\"admin\"] for usuario in usuarios)\n",
    "resultado = any(usuario[\"ativo\"] for usuario in usuarios)\n",
    "print(resultado)"
   ]
  },
  {
   "cell_type": "markdown",
   "id": "7748d40c-b3a6-48ae-b991-c4f954946686",
   "metadata": {},
   "source": [
    "- `all`"
   ]
  },
  {
   "cell_type": "code",
   "execution_count": 82,
   "id": "77fae7f5-9fcd-433a-a979-92baff6b593c",
   "metadata": {},
   "outputs": [
    {
     "name": "stdout",
     "output_type": "stream",
     "text": [
      "False\n"
     ]
    }
   ],
   "source": [
    "transacoes = [\n",
    "    {\"id\": 1, \"valor\": 100, \"status\": \"completa\"},\n",
    "    {\"id\": 2, \"valor\": 50, \"status\": \"completa\"},\n",
    "    {\"id\": 3, \"valor\": 25, \"status\": \"incompleta\"},\n",
    "]\n",
    "\n",
    "# Verificando se todas as transações têm valor positivo e estão completas\n",
    "resultado = all(transacao[\"valor\"] > 0 and transacao[\"status\"] == \"completa\" for transacao in transacoes)\n",
    "print(resultado)"
   ]
  },
  {
   "cell_type": "markdown",
   "id": "715375a7-519f-4694-97dd-572c3eae2df5",
   "metadata": {},
   "source": [
    "- `zip`"
   ]
  },
  {
   "cell_type": "code",
   "execution_count": 36,
   "id": "2f18a3b9-858b-41a2-98d1-c2ba97df9358",
   "metadata": {},
   "outputs": [
    {
     "data": {
      "text/plain": [
       "{'Ana': 23, 'Carlos': 34, 'Maria': 19}"
      ]
     },
     "execution_count": 36,
     "metadata": {},
     "output_type": "execute_result"
    }
   ],
   "source": [
    "nomes = [\"Ana\", \"Carlos\", \"Maria\"]\n",
    "idades = [23, 34, 19]\n",
    "\n",
    "# Combinando nomes com idades em um dicionário\n",
    "dict(zip(nomes, idades))"
   ]
  },
  {
   "cell_type": "markdown",
   "id": "e3982419-d02b-4d9e-b6cb-01b5cd9541a6",
   "metadata": {},
   "source": [
    "- `sorted`"
   ]
  },
  {
   "cell_type": "code",
   "execution_count": 3,
   "id": "5d46c561-6b72-4b6a-b3e5-8abcd50dbb03",
   "metadata": {},
   "outputs": [
    {
     "name": "stdout",
     "output_type": "stream",
     "text": [
      "[1, 2, 3, 4, 9]\n",
      "[9, 4, 3, 2, 1]\n"
     ]
    }
   ],
   "source": [
    "numeros = [4, 1, 3, 9, 2]\n",
    "\n",
    "resultado = sorted(numeros)\n",
    "print(resultado)\n",
    "resultado = sorted(numeros, reverse=True) # ordenação decrescente\n",
    "print(resultado)"
   ]
  },
  {
   "cell_type": "code",
   "execution_count": 83,
   "id": "73381c0a-0e17-426b-8a8c-534d0f501f09",
   "metadata": {},
   "outputs": [
    {
     "name": "stdout",
     "output_type": "stream",
     "text": [
      "[{'nome': 'Produto C', 'preco': 300}, {'nome': 'Produto A', 'preco': 200}, {'nome': 'Produto B', 'preco': 100}]\n"
     ]
    }
   ],
   "source": [
    "produtos = [\n",
    "    {\"nome\": \"Produto A\", \"preco\": 200},\n",
    "    {\"nome\": \"Produto B\", \"preco\": 100},\n",
    "    {\"nome\": \"Produto C\", \"preco\": 300},\n",
    "]\n",
    "\n",
    "# Ordenando os produtos por preço, de forma descendente\n",
    "produtos_ordenados = sorted(produtos, key=lambda p: p[\"preco\"], reverse=True)\n",
    "print(produtos_ordenados)"
   ]
  },
  {
   "cell_type": "markdown",
   "id": "c4d30efa-3350-40c9-a71d-91c8104bff4d",
   "metadata": {},
   "source": [
    "- `reversed`"
   ]
  },
  {
   "cell_type": "code",
   "execution_count": 39,
   "id": "ccb178e3-8fd9-42ca-851d-e4ce0ec515a0",
   "metadata": {},
   "outputs": [
    {
     "name": "stdout",
     "output_type": "stream",
     "text": [
      "[9, 4, 3, 2, 1]\n"
     ]
    }
   ],
   "source": [
    "# Ordenação crescente e depois inversão\n",
    "resultado = list(reversed(sorted(numeros)))\n",
    "print(resultado)"
   ]
  },
  {
   "cell_type": "code",
   "execution_count": 4,
   "id": "25106155-d239-4c34-8349-fc5ca04a91f2",
   "metadata": {},
   "outputs": [
    {
     "data": {
      "text/plain": [
       "[9, 4, 3, 2, 1]"
      ]
     },
     "execution_count": 4,
     "metadata": {},
     "output_type": "execute_result"
    }
   ],
   "source": [
    "list(reversed(sorted(numeros)))"
   ]
  },
  {
   "cell_type": "code",
   "execution_count": 7,
   "id": "685d4e4c-d1fc-48cc-b910-45551b32f210",
   "metadata": {},
   "outputs": [
    {
     "data": {
      "text/plain": [
       "[5, 7, 2, 1, 10, 3, 4]"
      ]
     },
     "execution_count": 7,
     "metadata": {},
     "output_type": "execute_result"
    }
   ],
   "source": [
    "lista_comum = [4, 3, 10, 1, 2, 7, 5]\n",
    "list(reversed(lista_comum))"
   ]
  },
  {
   "cell_type": "code",
   "execution_count": null,
   "id": "a642ac6c-baa3-4f99-b06e-1262c53c288b",
   "metadata": {},
   "outputs": [],
   "source": []
  }
 ],
 "metadata": {
  "kernelspec": {
   "display_name": "Python 3 (ipykernel)",
   "language": "python",
   "name": "python3"
  },
  "language_info": {
   "codemirror_mode": {
    "name": "ipython",
    "version": 3
   },
   "file_extension": ".py",
   "mimetype": "text/x-python",
   "name": "python",
   "nbconvert_exporter": "python",
   "pygments_lexer": "ipython3",
   "version": "3.11.7"
  }
 },
 "nbformat": 4,
 "nbformat_minor": 5
}
