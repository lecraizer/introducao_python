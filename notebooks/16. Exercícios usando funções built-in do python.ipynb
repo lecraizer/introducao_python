{
 "cells": [
  {
   "cell_type": "markdown",
   "id": "52488f9d",
   "metadata": {},
   "source": [
    "# Exercícios com Funções Built-in em Python\n",
    "\n",
    "Este notebook contém exemplos e exercícios usando funções built-in como `map`, `filter`, `all`, `any`.\n",
    "A ideia é praticar conceitos sem usar `lambda` ainda."
   ]
  },
  {
   "cell_type": "markdown",
   "id": "5dcc9ea3",
   "metadata": {},
   "source": [
    "## 1. Map — Transformar uma lista de números em seus quadrados\n",
    "**Enunciado:**\n",
    "Dada a lista `nums = [1, 2, 3, 4, 5]`, use a função `map` para criar uma nova lista contendo o quadrado de cada número."
   ]
  },
  {
   "cell_type": "code",
   "execution_count": null,
   "id": "2f35c888",
   "metadata": {},
   "outputs": [],
   "source": [
    "nums = [1, 2, 3, 4, 5]\n",
    "\n",
    "def quadrado(x):\n",
    "    return x * x\n",
    "\n",
    "result = list(map(quadrado, nums))\n",
    "print(result)   # [1, 4, 9, 16, 25]"
   ]
  },
  {
   "cell_type": "markdown",
   "id": "260f432d",
   "metadata": {},
   "source": [
    "## 2. Filter — Selecionar apenas os números pares\n",
    "**Enunciado:**\n",
    "Dada a lista `nums = [10, 15, 20, 25, 30]`, use a função `filter` para obter apenas os números pares."
   ]
  },
  {
   "cell_type": "code",
   "execution_count": null,
   "id": "f6143194",
   "metadata": {},
   "outputs": [],
   "source": [
    "nums = [10, 15, 20, 25, 30]\n",
    "\n",
    "def eh_par(x):\n",
    "    return x % 2 == 0\n",
    "\n",
    "result = list(filter(eh_par, nums))\n",
    "print(result)   # [10, 20, 30]"
   ]
  },
  {
   "cell_type": "markdown",
   "id": "852c41cd",
   "metadata": {},
   "source": [
    "## 3. All — Verificar se todos os números são positivos\n",
    "**Enunciado:**\n",
    "Dada a lista `nums = [3, 5, 7, 9]`, use `all` para verificar se todos os números são positivos."
   ]
  },
  {
   "cell_type": "code",
   "execution_count": null,
   "id": "152959cd",
   "metadata": {},
   "outputs": [],
   "source": [
    "nums = [3, 5, 7, 9]\n",
    "\n",
    "result = all(x > 0 for x in nums)\n",
    "print(result)   # True"
   ]
  },
  {
   "cell_type": "markdown",
   "id": "b5d0350e",
   "metadata": {},
   "source": [
    "## 4. Any — Verificar se algum número é múltiplo de 5\n",
    "**Enunciado:**\n",
    "Dada a lista `nums = [2, 7, 11, 20, 23]`, use `any` para verificar se existe pelo menos um múltiplo de 5."
   ]
  },
  {
   "cell_type": "code",
   "execution_count": null,
   "id": "916dcb54",
   "metadata": {},
   "outputs": [],
   "source": [
    "nums = [2, 7, 11, 20, 23]\n",
    "\n",
    "result = any(x % 5 == 0 for x in nums)\n",
    "print(result)   # True (pois 20 é múltiplo de 5)"
   ]
  },
  {
   "cell_type": "markdown",
   "id": "2ad6b5e5",
   "metadata": {},
   "source": [
    "## 5. Map — Converter uma lista de nomes para maiúsculas\n",
    "**Enunciado:**\n",
    "Dada a lista `nomes = [\"ana\", \"joão\", \"maria\"]`, use `map` para transformar todos os nomes em maiúsculas."
   ]
  },
  {
   "cell_type": "code",
   "execution_count": null,
   "id": "c2ea007c",
   "metadata": {},
   "outputs": [],
   "source": [
    "nomes = [\"ana\", \"joão\", \"maria\"]\n",
    "\n",
    "def para_maiuscula(nome):\n",
    "    return nome.upper()\n",
    "\n",
    "result = list(map(para_maiuscula, nomes))\n",
    "print(result)   # ['ANA', 'JOÃO', 'MARIA']"
   ]
  },
  {
   "cell_type": "markdown",
   "id": "6f1d68a9",
   "metadata": {},
   "source": [
    "## 6. All + Filter — Verificar se todos os números pares são maiores que 10\n",
    "**Enunciado:**\n",
    "Dada a lista `nums = [12, 18, 7, 25, 30]`, use `filter` para selecionar apenas os números pares e depois `all` para verificar se todos eles são maiores que 10."
   ]
  },
  {
   "cell_type": "code",
   "execution_count": null,
   "id": "990f2391",
   "metadata": {},
   "outputs": [],
   "source": [
    "nums = [12, 18, 7, 25, 30]\n",
    "\n",
    "def eh_par(x):\n",
    "    return x % 2 == 0\n",
    "\n",
    "pares = filter(eh_par, nums)\n",
    "result = all(x > 10 for x in pares)\n",
    "print(result)   # True"
   ]
  }
 ],
 "metadata": {
  "kernelspec": {
   "display_name": "Python 3 (ipykernel)",
   "language": "python",
   "name": "python3"
  },
  "language_info": {
   "codemirror_mode": {
    "name": "ipython",
    "version": 3
   },
   "file_extension": ".py",
   "mimetype": "text/x-python",
   "name": "python",
   "nbconvert_exporter": "python",
   "pygments_lexer": "ipython3",
   "version": "3.11.7"
  }
 },
 "nbformat": 4,
 "nbformat_minor": 5
}
