{
 "cells": [
  {
   "cell_type": "markdown",
   "id": "8c20e761",
   "metadata": {},
   "source": [
    "# Funções Lambda em Python\n",
    "\n",
    "Neste notebook vamos aprender sobre **funções `lambda`** em Python.\n",
    "\n",
    "Uma função `lambda` é uma forma curta de escrever funções anônimas, ou seja, sem precisar usar `def`.\n",
    "\n",
    "Sintaxe básica:\n",
    "```python\n",
    "lambda argumentos: expressão\n",
    "```\n",
    "Exemplo:\n",
    "```python\n",
    "quadrado = lambda x: x * x\n",
    "print(quadrado(5))  # 25\n",
    "```"
   ]
  },
  {
   "cell_type": "markdown",
   "id": "8ebd5950",
   "metadata": {},
   "source": [
    "## Exemplo 1 — Usando `lambda` com `map`\n",
    "Queremos obter o quadrado de cada número de uma lista."
   ]
  },
  {
   "cell_type": "code",
   "execution_count": null,
   "id": "f64c2896",
   "metadata": {},
   "outputs": [],
   "source": [
    "nums = [1, 2, 3, 4, 5]\n",
    "result = list(map(lambda x: x * x, nums))\n",
    "print(result)  # [1, 4, 9, 16, 25]"
   ]
  },
  {
   "cell_type": "markdown",
   "id": "2cc92e2a",
   "metadata": {},
   "source": [
    "## Exemplo 2 — Usando `lambda` com `filter`\n",
    "Queremos filtrar apenas os números pares."
   ]
  },
  {
   "cell_type": "code",
   "execution_count": null,
   "id": "1a3571f8",
   "metadata": {},
   "outputs": [],
   "source": [
    "nums = [10, 15, 20, 25, 30]\n",
    "result = list(filter(lambda x: x % 2 == 0, nums))\n",
    "print(result)  # [10, 20, 30]"
   ]
  },
  {
   "cell_type": "markdown",
   "id": "5fc2ce69",
   "metadata": {},
   "source": [
    "## Exemplo 3 — Usando `lambda` com `sorted`\n",
    "Queremos ordenar uma lista de tuplas pelo segundo elemento."
   ]
  },
  {
   "cell_type": "code",
   "execution_count": null,
   "id": "63cd5391",
   "metadata": {},
   "outputs": [],
   "source": [
    "pares = [(1, 5), (2, 2), (3, 8), (4, 1)]\n",
    "ordenado = sorted(pares, key=lambda x: x[1])\n",
    "print(ordenado)  # [(4, 1), (2, 2), (1, 5), (3, 8)]"
   ]
  },
  {
   "cell_type": "markdown",
   "id": "c8482ee0",
   "metadata": {},
   "source": [
    "## Exercícios Resolvidos\n",
    "\n",
    "### 1. Dobrar cada número da lista com `map`\n",
    "```python\n",
    "nums = [1, 2, 3, 4]\n",
    "result = list(map(lambda x: x * 2, nums))\n",
    "print(result)  # [2, 4, 6, 8]\n",
    "```\n",
    "\n",
    "### 2. Filtrar palavras maiores que 3 letras\n",
    "```python\n",
    "palavras = [\"oi\", \"python\", \"sol\", \"lua\"]\n",
    "result = list(filter(lambda w: len(w) > 3, palavras))\n",
    "print(result)  # ['python']\n",
    "```\n",
    "\n",
    "### 3. Ordenar lista de dicionários por idade\n",
    "```python\n",
    "pessoas = [{\"nome\": \"Ana\", \"idade\": 25}, {\"nome\": \"João\", \"idade\": 20}]\n",
    "ordenado = sorted(pessoas, key=lambda p: p[\"idade\"])\n",
    "print(ordenado)  # [{'nome': 'João', 'idade': 20}, {'nome': 'Ana', 'idade': 25}]\n",
    "```"
   ]
  },
  {
   "cell_type": "markdown",
   "id": "74a44556",
   "metadata": {},
   "source": [
    "## Exercícios\n",
    "Resolva usando **lambda**:\n",
    "\n",
    "1. Usando `map`, some **1** a cada número da lista `[10, 20, 30, 40]`.\n",
    "2. Usando `filter`, encontre apenas os números negativos em `[-3, -1, 0, 2, 4]`.\n",
    "3. Usando `sorted`, ordene a lista de palavras `['python', 'é', 'legal']` pelo **comprimento da palavra**.\n",
    "4. Usando `map` e `lambda`, transforme a lista de nomes `['ana', 'joão', 'maria']` para terem a primeira letra maiúscula (`['Ana', 'João', 'Maria']`).\n",
    "5. Usando `map` e `lambda`, crie uma nova lista com o quadrado dos números da lista `[2, 4, 6, 8]`.\n",
    "6. Usando `filter` e `lambda`, obtenha apenas os valores negativos da lista `[-5, 3, -2, 7, 0, -8]`.\n",
    "7. Usando `sorted` e `lambda`, ordene a lista `[\"cachorro\", \"sol\", \"python\", \"lua\"]` pelo comprimento das palavras (da menor para a maior).\n",
    "8. Usando `map` e `lambda`, transforme a lista de nomes `[\"ana\", \"joão\", \"maria\"]` para terem a primeira letra maiúscula (`[\"Ana\", \"João\", \"Maria\"]`).\n",
    "9. Usando `filter` e `map` com `lambda`, obtenha uma lista com o dobro apenas dos números pares da lista `[1, 2, 3, 4, 5, 6]`.\n",
    "10. Usando `sorted` e `lambda`, ordene a lista de dicionários:\n",
    "```python\n",
    "pessoas = [\n",
    "    {\"nome\": \"Ana\", \"idade\": 25},\n",
    "    {\"nome\": \"Carlos\", \"idade\": 19},\n",
    "    {\"nome\": \"Beatriz\", \"idade\": 30}\n",
    "]"
   ]
  },
  {
   "cell_type": "code",
   "execution_count": null,
   "id": "57ca9963-560f-41a3-8110-700ea974f7d5",
   "metadata": {},
   "outputs": [],
   "source": []
  }
 ],
 "metadata": {
  "kernelspec": {
   "display_name": "Python 3 (ipykernel)",
   "language": "python",
   "name": "python3"
  },
  "language_info": {
   "codemirror_mode": {
    "name": "ipython",
    "version": 3
   },
   "file_extension": ".py",
   "mimetype": "text/x-python",
   "name": "python",
   "nbconvert_exporter": "python",
   "pygments_lexer": "ipython3",
   "version": "3.11.7"
  }
 },
 "nbformat": 4,
 "nbformat_minor": 5
}
