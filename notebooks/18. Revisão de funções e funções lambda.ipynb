{
 "cells": [
  {
   "cell_type": "markdown",
   "id": "71868246-5cbc-49f8-b4c3-e32fc6f98eb2",
   "metadata": {},
   "source": [
    "### Funções gerais"
   ]
  },
  {
   "cell_type": "code",
   "execution_count": 15,
   "id": "16a27a8e-3d0d-44a9-b66d-f8def4a33d70",
   "metadata": {},
   "outputs": [
    {
     "data": {
      "text/plain": [
       "'Olá, Ana!'"
      ]
     },
     "execution_count": 15,
     "metadata": {},
     "output_type": "execute_result"
    }
   ],
   "source": [
    "def saudacao(nome):\n",
    "    return f\"Olá, {nome}!\"\n",
    "    \n",
    "saudacao(\"Ana\")"
   ]
  },
  {
   "cell_type": "markdown",
   "id": "cc1de8fb-6f3c-4d58-9a74-89003cd28fc1",
   "metadata": {},
   "source": [
    "### Funções com argumentos opcionais"
   ]
  },
  {
   "cell_type": "markdown",
   "id": "d8c2b467-7032-42c5-a378-4e78c374415b",
   "metadata": {},
   "source": [
    "Funções podem ter argumentos opcionais, que possuem valores padrão. Isso significa que, se o argumento não for passado, ele assume o valor que especificamos. <br>\n",
    "Motivação: facilitam a flexibilidade do código e permitem que funções se adaptem a diferentes contextos sem exigir parâmetros adicionais."
   ]
  },
  {
   "cell_type": "code",
   "execution_count": 16,
   "id": "340172a2-db1d-4f70-a140-f0dbfb863497",
   "metadata": {},
   "outputs": [
    {
     "name": "stdout",
     "output_type": "stream",
     "text": [
      "Bem-vindo!, Ana!\n",
      "Olá, Ana!\n"
     ]
    }
   ],
   "source": [
    "def saudacao(nome, mensagem=\"Bem-vindo!\"):\n",
    "    return f\"{mensagem}, {nome}!\"\n",
    "\n",
    "print(saudacao(\"Ana\"))  # Usa o valor padrão de mensagem\n",
    "print(saudacao(\"Ana\", \"Olá\"))  # Sobrescreve o valor padrão de mensagem"
   ]
  },
  {
   "cell_type": "markdown",
   "id": "08eac64b-a729-419a-bb01-d48c7b8ffefc",
   "metadata": {},
   "source": [
    "#### Funções com número variável de argumentos: `*args`"
   ]
  },
  {
   "cell_type": "markdown",
   "id": "17f8638b-a3cd-404e-8a5b-257dc171315e",
   "metadata": {},
   "source": [
    "O `*args` é especialmente útil quando queremos uma função que trate um número flexível de entradas. Ele nos permite escrever funções mais dinâmicas e reutilizáveis, adaptando-se a diferentes quantidades de dados."
   ]
  },
  {
   "cell_type": "code",
   "execution_count": 28,
   "id": "f0bd067e-753f-4e73-8d45-2dc7e5b9a936",
   "metadata": {},
   "outputs": [
    {
     "name": "stdout",
     "output_type": "stream",
     "text": [
      "6\n",
      "50\n"
     ]
    }
   ],
   "source": [
    "def soma(*args):\n",
    "    total = 0\n",
    "    for num in args:\n",
    "        total += num\n",
    "    return total\n",
    "\n",
    "print(soma(1, 2, 3))        # Saída: 6\n",
    "print(soma(5, 10, 15, 20))  # Saída: 50"
   ]
  },
  {
   "cell_type": "markdown",
   "id": "8d4ec4d1-5d27-487e-b704-a8485e79ca08",
   "metadata": {},
   "source": [
    "### Funções Anônimas: lambda"
   ]
  },
  {
   "cell_type": "markdown",
   "id": "afe7431f-5763-4a07-ac64-1ecb597ab5fa",
   "metadata": {},
   "source": [
    "##### O Que é uma Função `lambda`?\n",
    "O `lambda` é uma maneira de definir funções anônimas, ou seja, funções sem nome. Essas funções são úteis quando precisamos de uma função pequena e rápida, que será usada apenas uma vez."
   ]
  },
  {
   "cell_type": "code",
   "execution_count": 5,
   "id": "ce49b94d-d32f-492f-8ee0-6aae01539c36",
   "metadata": {},
   "outputs": [
    {
     "name": "stdout",
     "output_type": "stream",
     "text": [
      "125.0\n"
     ]
    }
   ],
   "source": [
    "valor = 500\n",
    "\n",
    "def calcular_imposto(preco):\n",
    "    return preco * 0.25\n",
    "\n",
    "print(calcular_imposto(valor))"
   ]
  },
  {
   "cell_type": "markdown",
   "id": "4111d451-3009-45a7-962c-6c58c4dcd7a4",
   "metadata": {},
   "source": [
    "Usando a função lambda"
   ]
  },
  {
   "cell_type": "code",
   "execution_count": 8,
   "id": "f2d1edd6-7c45-42c9-ad9a-e26b014586e4",
   "metadata": {},
   "outputs": [
    {
     "data": {
      "text/plain": [
       "125.0"
      ]
     },
     "execution_count": 8,
     "metadata": {},
     "output_type": "execute_result"
    }
   ],
   "source": [
    "calcular_imposto2 = lambda x: x * 0.25\n",
    "calcular_imposto2(valor)"
   ]
  },
  {
   "cell_type": "markdown",
   "id": "957b940c-db4f-49f0-af2a-e5bc293d4b95",
   "metadata": {},
   "source": [
    "#### Usando lambda com a função `map()`\n",
    "A função `map()` aplica uma função a cada elemento de um iterável (como uma lista). É muito comum usar `lambda` com `map()` quando precisamos realizar uma operação simples em cada elemento de uma lista."
   ]
  },
  {
   "cell_type": "code",
   "execution_count": 12,
   "id": "1f8fb62f-8607-4cc5-bf25-bd0e252f1c56",
   "metadata": {},
   "outputs": [
    {
     "data": {
      "text/plain": [
       "[25.0, 75.0, 125.0, 250.0]"
      ]
     },
     "execution_count": 12,
     "metadata": {},
     "output_type": "execute_result"
    }
   ],
   "source": [
    "precos = [100, 300, 500, 1000]\n",
    "impostos = list(map(calcular_imposto, precos))\n",
    "impostos"
   ]
  },
  {
   "cell_type": "markdown",
   "id": "1fee3605-7e4a-45bd-bf0b-0d64d91a4c6c",
   "metadata": {},
   "source": [
    "Com o lambda"
   ]
  },
  {
   "cell_type": "code",
   "execution_count": 14,
   "id": "adbda175-e4df-4799-ab49-d40288c92557",
   "metadata": {},
   "outputs": [
    {
     "data": {
      "text/plain": [
       "[25.0, 75.0, 125.0, 250.0]"
      ]
     },
     "execution_count": 14,
     "metadata": {},
     "output_type": "execute_result"
    }
   ],
   "source": [
    "precos = [100, 300, 500, 1000]\n",
    "impostos = list(map(lambda x: x * 0.25, precos))\n",
    "impostos"
   ]
  },
  {
   "cell_type": "markdown",
   "id": "3730c5f2-36e3-4e38-89cd-546d3b590be0",
   "metadata": {},
   "source": [
    "Outro exemplo"
   ]
  },
  {
   "cell_type": "code",
   "execution_count": 19,
   "id": "c1050b5b-21b9-447f-9e2d-2bd981150b9a",
   "metadata": {},
   "outputs": [
    {
     "name": "stdout",
     "output_type": "stream",
     "text": [
      "8\n"
     ]
    }
   ],
   "source": [
    "soma = lambda x, y: x + y\n",
    "print(soma(3, 5))  # Saída: 8"
   ]
  },
  {
   "cell_type": "markdown",
   "id": "a2e374f3-9a7c-4c37-8c7c-5994cdbb130f",
   "metadata": {},
   "source": [
    "Mais um exemplo: `lambda` com `map()`"
   ]
  },
  {
   "cell_type": "code",
   "execution_count": 21,
   "id": "419161e8-c665-4dcc-8051-847252b87c55",
   "metadata": {},
   "outputs": [
    {
     "name": "stdout",
     "output_type": "stream",
     "text": [
      "[1, 4, 9, 16, 25]\n"
     ]
    }
   ],
   "source": [
    "# Exemplo: quadrado de cada número em uma lista\n",
    "numeros = [1, 2, 3, 4, 5]\n",
    "quadrados = list(map(lambda x: x ** 2, numeros))\n",
    "print(quadrados)"
   ]
  },
  {
   "cell_type": "markdown",
   "id": "05f5d43f-f152-457f-95af-785d45439979",
   "metadata": {},
   "source": [
    "O `lambda` torna o código mais conciso quando uma função é usada apenas uma vez. Não precisamos definir uma função separada para operações simples."
   ]
  },
  {
   "cell_type": "markdown",
   "id": "b98df37e-a20a-4098-9934-80b69dd3b68a",
   "metadata": {},
   "source": [
    "#### Usando o lambda com a função `filter()`"
   ]
  },
  {
   "cell_type": "markdown",
   "id": "3f3b0c22-23b9-433e-92bf-e960e4b8a8ad",
   "metadata": {},
   "source": [
    "A função `filter()` é usada para filtrar elementos de um iterável (como uma lista) com base em uma condição específica. Ela recebe dois argumentos:\n",
    "\n",
    "- Uma função (ou lambda) que retorna True ou False.\n",
    "- Um iterável que será filtrado.\n",
    "  \n",
    "A `filter()` retorna apenas os elementos que atendem à condição (retornam True)."
   ]
  },
  {
   "cell_type": "markdown",
   "id": "6efb5aee-71a2-45eb-9cd2-490586c6d730",
   "metadata": {},
   "source": [
    "##### Comparação com ´map()´\n",
    "\n",
    "Enquanto ´map()´ aplica uma função a cada elemento e retorna uma nova lista, ´filter()´ apenas retorna os elementos que atendem a uma condição.\n",
    "\n",
    "##### Motivação para Usar ´filter()´\n",
    "\n",
    "A função ´filter()´ é ideal quando precisamos selecionar elementos específicos de uma lista com base em uma condição. Ela facilita a filtragem sem precisar de laços e condicionais extras, tornando o código mais conciso e legível."
   ]
  },
  {
   "cell_type": "code",
   "execution_count": 32,
   "id": "36f90690-b22d-406a-8038-bcb37b8ff6e5",
   "metadata": {},
   "outputs": [
    {
     "name": "stdout",
     "output_type": "stream",
     "text": [
      "[2, 4, 6]\n"
     ]
    }
   ],
   "source": [
    "# Exemplo: Filtrando números pares\n",
    "numeros = [1, 2, 3, 4, 5, 6]\n",
    "pares = list(filter(lambda x: x % 2 == 0, numeros))\n",
    "print(pares)"
   ]
  },
  {
   "cell_type": "markdown",
   "id": "58a2396e-90d4-4a76-9575-295115cdcf3b",
   "metadata": {},
   "source": [
    "Mais um exemplo com `filter()`: Filtrando palavras longas\n",
    "\n",
    "Vamos usar `filter()` para selecionar palavras em uma lista que tenham mais de quatro caracteres.\n"
   ]
  },
  {
   "cell_type": "code",
   "execution_count": 33,
   "id": "3312ba3c-0d13-4883-98a8-2d0e94f63b4c",
   "metadata": {},
   "outputs": [
    {
     "name": "stdout",
     "output_type": "stream",
     "text": [
      "['chocolate', 'astronauta', 'terra']\n"
     ]
    }
   ],
   "source": [
    "palavras = [\"sol\", \"chocolate\", \"lua\", \"astronauta\", \"terra\", \"café\"]\n",
    "\n",
    "# Filtrando palavras com mais de 4 caracteres\n",
    "palavras_longas = list(filter(lambda palavra: len(palavra) > 4, palavras))\n",
    "print(palavras_longas)"
   ]
  },
  {
   "cell_type": "markdown",
   "id": "7ddebde0-06aa-44da-be0a-2f932b4e9c65",
   "metadata": {},
   "source": [
    "### Exercícios"
   ]
  },
  {
   "cell_type": "markdown",
   "id": "dfc8746e-112e-45ed-a1ea-734bc5a98748",
   "metadata": {},
   "source": [
    "#### 1. Escreva uma função multiplica usando lambda que multiplica dois números e teste a função."
   ]
  },
  {
   "cell_type": "code",
   "execution_count": 24,
   "id": "7b516d68-c86f-4c31-bfed-6a4ff59c358a",
   "metadata": {},
   "outputs": [
    {
     "name": "stdout",
     "output_type": "stream",
     "text": [
      "20\n"
     ]
    }
   ],
   "source": [
    "multiplica = lambda x, y: x * y\n",
    "print(multiplica(4, 5))"
   ]
  },
  {
   "cell_type": "markdown",
   "id": "d5c76c7e-79a7-40d5-a972-d727398d746a",
   "metadata": {},
   "source": [
    "#### 2. Use map() e lambda para criar uma lista com o dobro dos valores de outra lista."
   ]
  },
  {
   "cell_type": "code",
   "execution_count": 25,
   "id": "e1faef99-ba8d-494c-a600-8a6455c416ce",
   "metadata": {},
   "outputs": [
    {
     "name": "stdout",
     "output_type": "stream",
     "text": [
      "[4, 8, 12, 16]\n"
     ]
    }
   ],
   "source": [
    "numeros = [2, 4, 6, 8]\n",
    "dobro = list(map(lambda x: x * 2, numeros))\n",
    "print(dobro)"
   ]
  },
  {
   "cell_type": "markdown",
   "id": "08e44efe-34a2-448a-9616-c1505b10301a",
   "metadata": {},
   "source": [
    "#### 3. Crie uma função filtrar que recebe uma lista de strings e retorna apenas as strings que começam pela letra 'p', usando lambda e filter()."
   ]
  },
  {
   "cell_type": "code",
   "execution_count": 8,
   "id": "5852fcff-6131-4b84-98be-04f3459d095a",
   "metadata": {},
   "outputs": [
    {
     "name": "stdout",
     "output_type": "stream",
     "text": [
      "['Python']\n"
     ]
    }
   ],
   "source": [
    "palavras = [\"oi\", \"Python\", \"lambda\", \"map\", \"exemplo\"]\n",
    "filtrar = list(filter(lambda palavra: palavra.lower()[0] == 'p', palavras))\n",
    "print(filtrar)"
   ]
  },
  {
   "cell_type": "markdown",
   "id": "86527063-ee71-40e2-a08d-e6703b55a78a",
   "metadata": {},
   "source": [
    "#### 4. Crie uma lista de números e use map() e lambda para elevar ao cubo os números pares e manter os ímpares iguais."
   ]
  },
  {
   "cell_type": "code",
   "execution_count": 6,
   "id": "59e85789-f600-440d-aa8e-cac51669c2fb",
   "metadata": {},
   "outputs": [
    {
     "name": "stdout",
     "output_type": "stream",
     "text": [
      "[1, 8, 3, 64, 5]\n"
     ]
    }
   ],
   "source": [
    "numeros = [1, 2, 3, 4, 5]\n",
    "resultado = list(map(lambda x: x ** 3 if x % 2 == 0 else x, numeros))\n",
    "print(resultado)"
   ]
  },
  {
   "cell_type": "markdown",
   "id": "4595a087-0a51-4ea3-a530-bd968a87e0e8",
   "metadata": {},
   "source": [
    "----------------"
   ]
  },
  {
   "cell_type": "markdown",
   "id": "8019f578-53f0-497c-af09-23ffaeebef9e",
   "metadata": {},
   "source": [
    "#### Parentêses para exercício 2 do TP2: \n",
    "#### Crie duas tuplas e verifique se elas possuem os mesmos elementos, independente da ordem."
   ]
  },
  {
   "cell_type": "code",
   "execution_count": 1,
   "id": "9f97e145-df87-4e15-8eea-41e20dd9bf83",
   "metadata": {},
   "outputs": [],
   "source": [
    "def tuplas_iguais(tupla1, tupla2):\n",
    "    # Verifica se ambas as tuplas têm o mesmo tamanho\n",
    "    if len(tupla1) != len(tupla2):\n",
    "        return False\n",
    "\n",
    "    copia1 = list(tupla1)\n",
    "    copia2 = list(tupla2)\n",
    "\n",
    "    # Verifica se os elementos da tupla1 estão na tupla2\n",
    "    for elemento in tupla1:\n",
    "        if elemento in tupla2:\n",
    "            copia2.remove(elemento)\n",
    "        else:\n",
    "            return False\n",
    "\n",
    "    # Verifica se os elementos da tupla2 estão na tupla1\n",
    "    for elemento in tupla2:\n",
    "        if elemento in tupla1:\n",
    "            copia1.remove(elemento)\n",
    "        else:\n",
    "            return False\n",
    "    \n",
    "    return True"
   ]
  },
  {
   "cell_type": "code",
   "execution_count": 3,
   "id": "0a8a001d-ceb4-4ea3-af5f-2cb60c60f16b",
   "metadata": {},
   "outputs": [
    {
     "name": "stdout",
     "output_type": "stream",
     "text": [
      "True\n",
      "True\n",
      "False\n"
     ]
    }
   ],
   "source": [
    "a = (5,1,3)\n",
    "b = (1,5,3)\n",
    "\n",
    "print(tuplas_iguais(a, b))\n",
    "\n",
    "c = ()\n",
    "d = ()\n",
    "print(tuplas_iguais(c, d))\n",
    "\n",
    "e = (5, 5, 1)\n",
    "f = (5, 1)\n",
    "print(tuplas_iguais(e, f))"
   ]
  },
  {
   "cell_type": "code",
   "execution_count": 4,
   "id": "e5a7afe1-8dbd-4009-a7ef-b291eff66985",
   "metadata": {},
   "outputs": [
    {
     "data": {
      "text/plain": [
       "True"
      ]
     },
     "execution_count": 4,
     "metadata": {},
     "output_type": "execute_result"
    }
   ],
   "source": [
    "t1 = (1, 3, 5)\n",
    "t2 = (5, 1, 3)\n",
    "\n",
    "set(t1) == set(t2)"
   ]
  },
  {
   "cell_type": "markdown",
   "id": "0930e65c-1f7d-476b-b62f-aa8660ebf015",
   "metadata": {},
   "source": [
    "### Variáveis Globais\n",
    "\n",
    "Variáveis globais são definidas fora de qualquer função e podem ser acessadas de qualquer lugar do código, inclusive dentro de funções.\n",
    "\n",
    "#### Exemplo: Variável global com um inteiro\n",
    "\n",
    "```python\n",
    "# Variável global\n",
    "numero_global = 10\n",
    "\n",
    "def exibir_global():\n",
    "    # Acessando a variável global\n",
    "    print(\"Valor da variável global:\", numero_global)\n",
    "\n",
    "# Chamando a função\n",
    "exibir_global()\n",
    "```\n",
    "\n",
    "### Variáveis Locais\n",
    "\n",
    "Variáveis locais são definidas dentro de uma função e só podem ser usadas dentro dessa função. Qualquer tentativa de acessá-las fora da função resultará em um erro.\n",
    "\n",
    "#### Exemplo: Variável local com uma string\n",
    "\n",
    "```python\n",
    "def exibir_local():\n",
    "    # Variável local\n",
    "    saudacao = \"Olá, mundo!\"\n",
    "    print(saudacao)\n",
    "\n",
    "# Chamando a função\n",
    "exibir_local()\n",
    "\n",
    "# Tentando acessar a variável local fora da função\n",
    "print(saudacao)  # Isso gera um erro, pois `saudacao` é local e não existe fora da função\n",
    "\n",
    "```"
   ]
  },
  {
   "cell_type": "markdown",
   "id": "01965307-a4e5-4c27-8785-311d720fafe1",
   "metadata": {},
   "source": [
    "#### Exemplo: Variável local e global com o mesmo nome"
   ]
  },
  {
   "cell_type": "code",
   "execution_count": 14,
   "id": "d04eab93-ce47-421b-9b38-29b14f9d1e67",
   "metadata": {},
   "outputs": [
    {
     "name": "stdout",
     "output_type": "stream",
     "text": [
      "Número: 10\n"
     ]
    }
   ],
   "source": [
    "numero = 10\n",
    "\n",
    "def exibir_nome():\n",
    "    numero = 20  # Variável local com o mesmo nome\n",
    "    # print(\"Número:\", numero)\n",
    "    \n",
    "# Chamando a função\n",
    "exibir_nome()\n",
    "print(\"Número:\", numero)"
   ]
  },
  {
   "cell_type": "markdown",
   "id": "25c1ae1c-9e5b-4a89-a6bd-5188f69a60fa",
   "metadata": {},
   "source": [
    "#### Exemplo de lista global modificada dentro de uma função"
   ]
  },
  {
   "cell_type": "code",
   "execution_count": 1,
   "id": "89185092-0e1b-4342-9bab-d623d3ccf8d3",
   "metadata": {},
   "outputs": [
    {
     "name": "stdout",
     "output_type": "stream",
     "text": [
      "Fruta \"abacaxi\" adicionada!\n"
     ]
    },
    {
     "data": {
      "text/plain": [
       "['maçã', 'banana', 'abacaxi']"
      ]
     },
     "execution_count": 1,
     "metadata": {},
     "output_type": "execute_result"
    }
   ],
   "source": [
    "frutas = [\"maçã\", \"banana\"]\n",
    "\n",
    "def adicionar_fruta(fruta):\n",
    "    \"\"\"Adiciona uma fruta à lista global de frutas.\"\"\"\n",
    "    frutas.append(fruta)  # Modifica a lista global sem precisar de 'global'\n",
    "    print(f'Fruta \"{fruta}\" adicionada!')\n",
    "\n",
    "adicionar_fruta('abacaxi')\n",
    "frutas"
   ]
  },
  {
   "cell_type": "markdown",
   "id": "f4113023-f72f-4632-9969-b446e8998865",
   "metadata": {},
   "source": [
    "#### Exemplo de dicionário global modificado dentro de uma função"
   ]
  },
  {
   "cell_type": "code",
   "execution_count": 8,
   "id": "6447c86e-3bb4-45bd-a057-ef4eaf7db2b9",
   "metadata": {},
   "outputs": [
    {
     "name": "stdout",
     "output_type": "stream",
     "text": [
      "Dicionário após a modificação: {'nome': 'Alice', 'idade': 26}\n"
     ]
    }
   ],
   "source": [
    "dados = {\"nome\": \"Alice\", \"idade\": 25}\n",
    "\n",
    "def atualizar_idade():\n",
    "    dados[\"idade\"] = 26\n",
    "\n",
    "atualizar_idade()\n",
    "print(\"Dicionário após a modificação:\", dados)"
   ]
  },
  {
   "cell_type": "markdown",
   "id": "b45d9aff-56e4-4988-ad79-2281182f550a",
   "metadata": {},
   "source": [
    "#### Exemplo com inteiro/string"
   ]
  },
  {
   "cell_type": "code",
   "execution_count": 18,
   "id": "ee9a503a-6bea-4faa-a5c7-c3457d50dab1",
   "metadata": {},
   "outputs": [],
   "source": [
    "a = 5\n",
    "\n",
    "def adiciona_numero(b):\n",
    "    # global a\n",
    "    a += b\n",
    "\n",
    "adiciona_numero(3)"
   ]
  },
  {
   "cell_type": "code",
   "execution_count": 22,
   "id": "d3d8ff3b-4fd5-46a8-ae34-4ec176449a22",
   "metadata": {},
   "outputs": [
    {
     "name": "stdout",
     "output_type": "stream",
     "text": [
      "['lambda', ' alpha', ' beta', ' gamma']\n"
     ]
    }
   ],
   "source": [
    "c = 'lambda, alpha, beta, gamma'\n",
    "\n",
    "def divide_string(sep):\n",
    "    # global c\n",
    "    print(c.split(sep))\n",
    "    \n",
    "\n",
    "divide_string(',')"
   ]
  },
  {
   "cell_type": "markdown",
   "id": "bf4721a2-8f9c-40fc-a44e-714d3500dfbb",
   "metadata": {},
   "source": [
    "### Funções que chamam outras funções"
   ]
  },
  {
   "cell_type": "markdown",
   "id": "6ab96c9e-676c-42a3-80fb-0097f0553063",
   "metadata": {},
   "source": [
    "##### Exemplo 1: Processa número"
   ]
  },
  {
   "cell_type": "code",
   "execution_count": 3,
   "id": "3a51b4cc-064e-4813-b41f-c585ba6f9de5",
   "metadata": {},
   "outputs": [
    {
     "name": "stdout",
     "output_type": "stream",
     "text": [
      "O número 14 é par.\n"
     ]
    }
   ],
   "source": [
    "# Função que verifica se um número é par\n",
    "def eh_par(numero):\n",
    "    return numero % 2 == 0\n",
    "\n",
    "# Função principal que processa o número e chama a função 'eh_par'\n",
    "def processar_numero(numero):\n",
    "    numero_dobrado = numero * 2\n",
    "    if eh_par(numero_dobrado):\n",
    "        return f\"O número {numero_dobrado} é par.\"\n",
    "    else:\n",
    "        return f\"O número {numero_dobrado} é ímpar.\"\n",
    "\n",
    "# Chamando a função principal\n",
    "print(processar_numero(7))  # Exemplo: irá imprimir \"O número 14 é par.\""
   ]
  },
  {
   "cell_type": "markdown",
   "id": "a28ba5f1-32c0-446c-b01c-84748924ec88",
   "metadata": {},
   "source": [
    "##### Exemplo 2: Analisa texto"
   ]
  },
  {
   "cell_type": "code",
   "execution_count": 5,
   "id": "caa08076-7bad-47f5-88eb-4d8ee016c50f",
   "metadata": {},
   "outputs": [
    {
     "name": "stdout",
     "output_type": "stream",
     "text": [
      "O texto tem 59 caracteres e 9 palavras únicas.\n"
     ]
    }
   ],
   "source": [
    "# Função para contar caracteres em uma string\n",
    "def contar_caracteres(texto):\n",
    "    return len(texto)\n",
    "\n",
    "# Função para contar palavras únicas em uma string\n",
    "def contar_palavras_unicas(texto):\n",
    "    palavras = texto.split()\n",
    "    return len(set(palavras))\n",
    "\n",
    "# Função principal que chama outras duas funções\n",
    "def analisar_texto(texto):\n",
    "    total_caracteres = contar_caracteres(texto)\n",
    "    total_palavras_unicas = contar_palavras_unicas(texto)\n",
    "    return f\"O texto tem {total_caracteres} caracteres e {total_palavras_unicas} palavras únicas.\"\n",
    "\n",
    "# Chamando a função principal\n",
    "texto_exemplo = \"este é um exemplo de texto com palavras repetidas repetidas\"\n",
    "print(analisar_texto(texto_exemplo))"
   ]
  },
  {
   "cell_type": "markdown",
   "id": "94f4712d-cc67-4d3c-b535-593a910ca501",
   "metadata": {},
   "source": [
    "##### Exemplo 3: Verificação de Limite com Funções Auxiliares\n",
    "Criar uma função principal `main()` para analisar uma lista de números e verificar se a média e o maior valor ultrapassam certos limites definidos. A função principal deverá chamar funções auxiliares para calcular a média e maior valor da lista. "
   ]
  },
  {
   "cell_type": "code",
   "execution_count": 24,
   "id": "1226f5d1-5ba8-4907-a754-952acfcef59d",
   "metadata": {},
   "outputs": [
    {
     "name": "stdout",
     "output_type": "stream",
     "text": [
      "A média 34.0 está dentro do limite de 35.\n",
      "O número máximo 60 está acima do limite de 50.\n"
     ]
    }
   ],
   "source": [
    "# Função auxiliar para calcular a média de uma lista de números\n",
    "def calcular_media(numeros):\n",
    "    total = sum(numeros)\n",
    "    media = total / len(numeros) if numeros else 0\n",
    "    return media\n",
    "\n",
    "# Função auxiliar para encontrar o maior número em uma lista\n",
    "def encontrar_maior(numeros):\n",
    "    maior = max(numeros) if numeros else None\n",
    "    return maior\n",
    "\n",
    "# Função principal que realiza análise básica e termina cedo se condições forem atendidas\n",
    "def main(numeros):\n",
    "    # Chama as funções auxiliares\n",
    "    media = calcular_media(numeros)\n",
    "    maior = encontrar_maior(numeros)\n",
    "    \n",
    "    # Define limites\n",
    "    limite_media = 35\n",
    "    limite_maior = 50\n",
    "\n",
    "    # Verifica se a média e o maior número estão acima de seus respectivos limites\n",
    "    if media > limite_media and maior > limite_maior:\n",
    "        print(\"Ambos a média e o maior número estão acima dos limites. Nenhuma ação adicional necessária.\")\n",
    "        # return None\n",
    "        return\n",
    "    \n",
    "    # Análises adicionais se as condições acima não forem atendidas\n",
    "    if media <= limite_media:\n",
    "        print(f\"A média {media} está dentro do limite de {limite_media}.\")\n",
    "    else:\n",
    "        print(f\"A média {media} está fora do limite de {limite_media}.\")\n",
    "        \n",
    "    if maior <= limite_maior:\n",
    "        print(f\"O número máximo {maior} está dentro do limite de {limite_maior}.\")\n",
    "    else:\n",
    "        print(f\"O número máximo {maior} está acima do limite de {limite_maior}.\")\n",
    "\n",
    "\n",
    "lista = [10, 25, 30, 45, 60]    \n",
    "main(lista)"
   ]
  },
  {
   "cell_type": "markdown",
   "id": "a48352e9-d410-4aee-a53a-a74c204603f7",
   "metadata": {},
   "source": [
    "#### Exercício 1: Análise de Texto com Funções Auxiliares\n",
    "Crie um programa que faça uma análise básica de um texto. O programa deve ter uma função principal que chama outras funções auxiliares para cada atividade diferente a ser realizada. \n",
    "\n",
    "Atividades:\n",
    "- Texto para minúsculo\n",
    "- Total de caracteres\n",
    "- Primeira palavra do texto\n",
    "\n",
    "**Input: string** <br>\n",
    "**Output: dicionário**\n",
    "\n",
    "Exemplo de entrada: \n",
    "```python\n",
    "texto = 'Hello world from python'\n",
    "```\n",
    "Saída:\n",
    "```python\n",
    "{'texto_minusculo': 'hello world from python!', 'total_caracteres': 24, 'primeira_palavra': 'Hello'}\n",
    "```"
   ]
  },
  {
   "cell_type": "code",
   "execution_count": 26,
   "id": "7ff68bb7-3da7-4e55-b7a8-4af7d6869274",
   "metadata": {},
   "outputs": [
    {
     "name": "stdout",
     "output_type": "stream",
     "text": [
      "{'texto_minusculo': 'hello world from python!', 'total_caracteres': 24, 'primeira_palavra': 'Hello'}\n"
     ]
    }
   ],
   "source": [
    "def para_minusculas(texto):\n",
    "    return texto.lower()\n",
    "\n",
    "def contar_caracteres(texto):\n",
    "    return len(texto)\n",
    "\n",
    "def primeira_palavra(texto):\n",
    "    return texto.split()[0]\n",
    "\n",
    "def processar_texto(texto):\n",
    "    texto_minusculo = para_minusculas(texto)\n",
    "    total_caracteres = contar_caracteres(texto)\n",
    "    palavra_inicial = primeira_palavra(texto)\n",
    "    return {\n",
    "        'texto_minusculo': texto_minusculo,\n",
    "        'total_caracteres': total_caracteres,\n",
    "        'primeira_palavra': palavra_inicial\n",
    "    }\n",
    "\n",
    "# Teste\n",
    "texto = \"Hello World from Python!\"\n",
    "resultado = processar_texto(texto)\n",
    "print(resultado)\n"
   ]
  },
  {
   "cell_type": "markdown",
   "id": "2e60dbad-3a5b-41ff-a8c4-f68f26601fe4",
   "metadata": {},
   "source": [
    "#### Exercício 2: Operações com Lista e Valores Transformados\n",
    "Crie um programa que faça algumas operações básicas em uma lista de números inteiros, incluindo uma transformação na lista original. O programa deve ter uma função principal que chama outras funções auxiliares para realizar as operações.\n",
    "\n",
    "Atividades:\n",
    "- Calcula e retorna a soma de todos os elementos da lista\n",
    "- Encontra e retorna o menor valor na lista\n",
    "- Retorna uma nova lista em que cada valor da lista original foi dobrado\n",
    "\n",
    "**Input: lista** <br>\n",
    "**Output: dicionário**\n",
    "\n",
    "Exemplo de entrada: \n",
    "```python\n",
    "numeros = [3, 7, 2, 9, 5]\n",
    "```\n",
    "\n",
    "Saída:\n",
    "```python\n",
    "{'soma': 26, 'minimo': 2, 'valores_dobrados': [6, 14, 4, 18, 10], 'media_dobrados': 10.4}\n",
    "```"
   ]
  },
  {
   "cell_type": "code",
   "execution_count": 37,
   "id": "74254fc5-165e-4464-b8f0-a51360374faf",
   "metadata": {},
   "outputs": [
    {
     "name": "stdout",
     "output_type": "stream",
     "text": [
      "{'soma': 26, 'minimo': 2, 'valores_dobrados': [6, 14, 4, 18, 10]}\n"
     ]
    }
   ],
   "source": [
    "def calcular_soma(numeros):\n",
    "    return sum(numeros)\n",
    "\n",
    "def encontrar_minimo(numeros):\n",
    "    return min(numeros)\n",
    "\n",
    "def dobrar_valores(numeros):\n",
    "    return [x * 2 for x in numeros]\n",
    "\n",
    "def processar_lista(numeros):\n",
    "    soma = calcular_soma(numeros)\n",
    "    minimo = encontrar_minimo(numeros)\n",
    "    valores_dobrados = dobrar_valores(numeros)\n",
    "    # media_dobrados = sum(valores_dobrados) / len(valores_dobrados)\n",
    "    return {\n",
    "        'soma': soma,\n",
    "        'minimo': minimo,\n",
    "        'valores_dobrados': valores_dobrados,\n",
    "        # 'media_dobrados': media_dobrados\n",
    "    }\n",
    "\n",
    "# Teste\n",
    "numeros = [3, 7, 2, 9, 5]\n",
    "resultado = processar_lista(numeros)\n",
    "print(resultado)\n"
   ]
  },
  {
   "cell_type": "markdown",
   "id": "2df6e40d-f854-49f8-ab31-04b4af1c93d4",
   "metadata": {},
   "source": [
    "------------------"
   ]
  },
  {
   "cell_type": "markdown",
   "id": "7ffcef1a-1a5d-4d50-b30e-3f983f286e27",
   "metadata": {},
   "source": [
    "#### Outras funções prontas"
   ]
  },
  {
   "cell_type": "markdown",
   "id": "93884ef1-a84b-4ee2-bf3a-0d6c2a63d4b3",
   "metadata": {},
   "source": [
    "- `map`\n",
    "- `filter`\n",
    "- `reduce`\n",
    "- `all`\n",
    "- `any`\n",
    "- `zip`\n",
    "- `sorted`\n",
    "- `enumerate`"
   ]
  },
  {
   "cell_type": "markdown",
   "id": "c79d981e-dd15-413a-aced-c9a1a468710b",
   "metadata": {},
   "source": [
    "------------------------"
   ]
  },
  {
   "cell_type": "code",
   "execution_count": null,
   "id": "296d90e2-2a2d-4679-a29c-c50577af72f6",
   "metadata": {},
   "outputs": [],
   "source": []
  }
 ],
 "metadata": {
  "kernelspec": {
   "display_name": "Python 3 (ipykernel)",
   "language": "python",
   "name": "python3"
  },
  "language_info": {
   "codemirror_mode": {
    "name": "ipython",
    "version": 3
   },
   "file_extension": ".py",
   "mimetype": "text/x-python",
   "name": "python",
   "nbconvert_exporter": "python",
   "pygments_lexer": "ipython3",
   "version": "3.11.7"
  }
 },
 "nbformat": 4,
 "nbformat_minor": 5
}
