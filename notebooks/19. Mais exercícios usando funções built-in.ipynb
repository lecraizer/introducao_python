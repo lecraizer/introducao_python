{
 "cells": [
  {
   "cell_type": "markdown",
   "id": "4e171c14",
   "metadata": {},
   "source": [
    "# Exercícios com `any`, `all`, `map` e `filter` (sem `lambda`)\n",
    "\n",
    "Este notebook contém **11 exercícios** (do fácil ao difícil) usando `any`, `all`, `map` e `filter`, **sem `lambda`** — sempre criando funções manuais.\n",
    "Cada exercício tem um **enunciado** e uma **resolução** em célula separada.\n"
   ]
  },
  {
   "cell_type": "markdown",
   "id": "a2e3213e",
   "metadata": {},
   "source": [
    "## 1. Fácil — Usando `any` e `map`\n",
    "**Enunciado:**  \n",
    "Crie uma função que verifica se uma palavra está em maiúsculas. Depois, dada uma lista de palavras, use `any(map(...))` para verificar se **alguma** delas está em maiúsculas.\n"
   ]
  },
  {
   "cell_type": "code",
   "execution_count": null,
   "id": "c4571aed",
   "metadata": {},
   "outputs": [],
   "source": [
    "def esta_maiuscula(palavra):\n",
    "    return palavra.isupper()\n",
    "\n",
    "palavras = [\"casa\", \"Carro\", \"LIVRO\"]\n",
    "\n",
    "resultado = any(map(esta_maiuscula, palavras))\n",
    "print(resultado)  # True"
   ]
  },
  {
   "cell_type": "markdown",
   "id": "d8527993",
   "metadata": {},
   "source": [
    "## 2. Fácil — Usando `all` e `map`\n",
    "**Enunciado:**  \n",
    "Crie uma função que verifica se uma palavra começa com letra maiúscula. Depois, dada uma lista de nomes, use `all(map(...))` para verificar se **todos** começam com maiúscula.\n"
   ]
  },
  {
   "cell_type": "code",
   "execution_count": null,
   "id": "3b1a6fb5",
   "metadata": {},
   "outputs": [],
   "source": [
    "def comeca_maiuscula(palavra):\n",
    "    return palavra[0].isupper()\n",
    "\n",
    "nomes = [\"Ana\", \"Maria\", \"José\"]\n",
    "\n",
    "resultado = all(map(comeca_maiuscula, nomes))\n",
    "print(resultado)  # True"
   ]
  },
  {
   "cell_type": "markdown",
   "id": "fb72c967",
   "metadata": {},
   "source": [
    "## 3. Médio — Usando `all` e `filter`\n",
    "**Enunciado:**  \n",
    "Crie uma função que verifica se um número é par. Depois, use `filter` para selecionar apenas os números positivos de uma lista e `all(map(...))` para verificar se todos os positivos são pares.\n"
   ]
  },
  {
   "cell_type": "code",
   "execution_count": null,
   "id": "6e4e9f79",
   "metadata": {},
   "outputs": [],
   "source": [
    "def eh_par(n):\n",
    "    return n % 2 == 0\n",
    "\n",
    "def eh_positivo(n):\n",
    "    return n > 0\n",
    "\n",
    "numeros = [2, -3, 4, 6, -1, 10]\n",
    "\n",
    "positivos = filter(eh_positivo, numeros)\n",
    "resultado = all(map(eh_par, positivos))\n",
    "print(resultado)  # True"
   ]
  },
  {
   "cell_type": "markdown",
   "id": "df3fd253",
   "metadata": {},
   "source": [
    "## 4. Médio — Usando `any` e `filter`\n",
    "**Enunciado:**  \n",
    "Crie uma função que verifica se uma frase contém a palavra `\"Python\"`. Depois, use `any(filter(...))` para verificar se **alguma** frase contém `\"Python\"`.\n"
   ]
  },
  {
   "cell_type": "code",
   "execution_count": null,
   "id": "97bb6f23",
   "metadata": {},
   "outputs": [],
   "source": [
    "def contem_python(frase):\n",
    "    return \"Python\" in frase\n",
    "\n",
    "frases = [\"Eu gosto de programação\", \"Python é incrível\", \"Aprender é bom\"]\n",
    "\n",
    "resultado = any(filter(contem_python, frases))\n",
    "print(resultado)  # True"
   ]
  },
  {
   "cell_type": "markdown",
   "id": "e0111cf6",
   "metadata": {},
   "source": [
    "## 5. Difícil — Usando `all` e `map` (função manual de verificação)\n",
    "**Enunciado:**  \n",
    "Crie uma função que verifica se uma senha é válida (tem pelo menos 6 caracteres e contém pelo menos um número). Depois, use `all(map(...))` para verificar se todas as senhas de uma lista são válidas.\n"
   ]
  },
  {
   "cell_type": "code",
   "execution_count": null,
   "id": "285dbee7",
   "metadata": {},
   "outputs": [],
   "source": [
    "def contem_numero(s):\n",
    "    for caractere in s:\n",
    "        if caractere.isdigit():\n",
    "            return True\n",
    "    return False\n",
    "\n",
    "def senha_valida(senha):\n",
    "    return len(senha) >= 6 and contem_numero(senha)\n",
    "\n",
    "senhas = [\"abc123\", \"segura1\", \"qwerty2\"]\n",
    "\n",
    "resultado = all(map(senha_valida, senhas))\n",
    "print(resultado)  # True"
   ]
  },
  {
   "cell_type": "markdown",
   "id": "9ad80fe2",
   "metadata": {},
   "source": [
    "## 6. Difícil — Usando `all` + `filter` (outra propriedade)\n",
    "**Enunciado:**  \n",
    "Crie duas funções: uma que verifica se um número é **maior que 10** e outra que verifica se o número é **múltiplo de 3**. Depois, filtre os números maiores que 10 e use `all` para verificar se todos eles são múltiplos de 3.\n"
   ]
  },
  {
   "cell_type": "code",
   "execution_count": null,
   "id": "c37986fa",
   "metadata": {},
   "outputs": [],
   "source": [
    "def maior_que_dez(n):\n",
    "    return n > 10\n",
    "\n",
    "def multiplo_de_tres(n):\n",
    "    return n % 3 == 0\n",
    "\n",
    "numeros = [3, 12, 15, 18, 21]\n",
    "\n",
    "maiores = filter(maior_que_dez, numeros)\n",
    "resultado = all(map(multiplo_de_tres, maiores))\n",
    "print(resultado)  # True"
   ]
  },
  {
   "cell_type": "markdown",
   "id": "73a985b1",
   "metadata": {},
   "source": [
    "## 7. Fácil — `any` com dicionário\n",
    "**Enunciado:**  \n",
    "Crie uma função que verifica se um dicionário de aluno contém a chave `\"nota\"`. Depois, usando `any(map(...))`, verifique se **algum** aluno da turma tem a chave `\"nota\"`.\n"
   ]
  },
  {
   "cell_type": "code",
   "execution_count": null,
   "id": "58ad9e2d",
   "metadata": {},
   "outputs": [],
   "source": [
    "def tem_nota(dicionario):\n",
    "    return \"nota\" in dicionario\n",
    "\n",
    "alunos = [\n",
    "    {\"nome\": \"Ana\"},\n",
    "    {\"nome\": \"João\", \"nota\": 8},\n",
    "    {\"nome\": \"Maria\"}\n",
    "]\n",
    "\n",
    "resultado = any(map(tem_nota, alunos))\n",
    "print(resultado)  # True"
   ]
  },
  {
   "cell_type": "markdown",
   "id": "5b5e2cd5",
   "metadata": {},
   "source": [
    "## 8. Médio — `all` com lista de dicionários\n",
    "**Enunciado:**  \n",
    "Crie uma função que verifica se um aluno foi aprovado (nota ≥ 7). Depois, usando `all(map(...))`, verifique se **todos** os alunos de uma turma foram aprovados.\n"
   ]
  },
  {
   "cell_type": "code",
   "execution_count": null,
   "id": "88f0dab5",
   "metadata": {},
   "outputs": [],
   "source": [
    "def aprovado(aluno):\n",
    "    return aluno.get(\"nota\", 0) >= 7\n",
    "\n",
    "alunos = [\n",
    "    {\"nome\": \"Ana\", \"nota\": 8},\n",
    "    {\"nome\": \"João\", \"nota\": 9},\n",
    "    {\"nome\": \"Maria\", \"nota\": 7}\n",
    "]\n",
    "\n",
    "resultado = all(map(aprovado, alunos))\n",
    "print(resultado)  # True"
   ]
  },
  {
   "cell_type": "markdown",
   "id": "a9ac0ce8",
   "metadata": {},
   "source": [
    "## 9. Médio — `any` + `filter` com dicionários\n",
    "**Enunciado:**  \n",
    "Crie uma função que verifica se um produto custa menos de 50 reais. Depois, usando `filter`, selecione os produtos baratos e com `any`, verifique se **algum** desses produtos pertence à categoria `\"eletrônico\"`.\n"
   ]
  },
  {
   "cell_type": "code",
   "execution_count": null,
   "id": "8259677c",
   "metadata": {},
   "outputs": [],
   "source": [
    "def barato(produto):\n",
    "    return produto[\"preco\"] < 50\n",
    "\n",
    "def eh_eletronico(produto):\n",
    "    return produto[\"categoria\"] == \"eletronico\"\n",
    "\n",
    "produtos = [\n",
    "    {\"nome\": \"Caderno\", \"preco\": 20, \"categoria\": \"papelaria\"},\n",
    "    {\"nome\": \"Fone\", \"preco\": 45, \"categoria\": \"eletronico\"},\n",
    "    {\"nome\": \"Mochila\", \"preco\": 120, \"categoria\": \"acessorio\"}\n",
    "]\n",
    "\n",
    "baratos = filter(barato, produtos)\n",
    "resultado = any(map(eh_eletronico, baratos))\n",
    "print(resultado)  # True"
   ]
  },
  {
   "cell_type": "markdown",
   "id": "5dd306b1",
   "metadata": {},
   "source": [
    "## 10. Difícil — `all` com lista de dicionários\n",
    "**Enunciado:**  \n",
    "Crie uma função que verifica se um funcionário tem salário acima de 2000. Depois, usando `all(map(...))`, verifique se **todos** os funcionários do setor `\"TI\"` têm salário acima de 2000.\n"
   ]
  },
  {
   "cell_type": "code",
   "execution_count": null,
   "id": "bf469f3f",
   "metadata": {},
   "outputs": [],
   "source": [
    "def salario_acima_2000(funcionario):\n",
    "    return funcionario[\"salario\"] > 2000\n",
    "\n",
    "def setor_ti(funcionario):\n",
    "    return funcionario[\"setor\"] == \"TI\"\n",
    "\n",
    "funcionarios = [\n",
    "    {\"nome\": \"Carlos\", \"setor\": \"TI\", \"salario\": 2500},\n",
    "    {\"nome\": \"João\", \"setor\": \"TI\", \"salario\": 3000},\n",
    "    {\"nome\": \"Ana\", \"setor\": \"RH\", \"salario\": 1800}\n",
    "]\n",
    "\n",
    "ti = filter(setor_ti, funcionarios)\n",
    "resultado = all(map(salario_acima_2000, ti))\n",
    "print(resultado)  # True"
   ]
  },
  {
   "cell_type": "markdown",
   "id": "62765206",
   "metadata": {},
   "source": [
    "## 11. Difícil — `all` + dicionários aninhados\n",
    "**Enunciado:**  \n",
    "Crie uma função que verifica se um pedido tem **pelo menos 1 produto** com quantidade maior que 1. Depois, usando `all(map(...))`, verifique se **todos os pedidos** de uma lista cumprem essa condição.\n"
   ]
  },
  {
   "cell_type": "code",
   "execution_count": null,
   "id": "ee07a14c-c4d1-4d82-bfc4-01ddfe03f827",
   "metadata": {},
   "outputs": [],
   "source": [
    "def tem_produto_em_quantidade(pedido):\n",
    "    for produto in pedido[\"produtos\"]:\n",
    "        if produto[\"quantidade\"] > 1:\n",
    "            return True\n",
    "    return False\n",
    "\n",
    "pedidos = [\n",
    "    {\"id\": 1, \"produtos\": [{\"nome\": \"Caneta\", \"quantidade\": 2}, {\"nome\": \"Lápis\", \"quantidade\": 1}]},\n",
    "    {\"id\": 2, \"produtos\": [{\"nome\": \"Caderno\", \"quantidade\": 3}]},\n",
    "    {\"id\": 3, \"produtos\": [{\"nome\": \"Borracha\", \"quantidade\": 2}]}\n",
    "]\n",
    "\n",
    "resultado = all(map(tem_produto_em_quantidade, pedidos))\n",
    "print(resultado)  # True"
   ]
  },
  {
   "cell_type": "code",
   "execution_count": null,
   "id": "56c7c2b2-9fad-4106-8901-650d730b82ae",
   "metadata": {},
   "outputs": [],
   "source": [
    "resultado = all(map(lambda pedido: any(prod[\"quantidade\"] > 1 for prod in pedido[\"produtos\"]), pedidos))\n",
    "print(resultado)  # True"
   ]
  }
 ],
 "metadata": {
  "kernelspec": {
   "display_name": "Python 3 (ipykernel)",
   "language": "python",
   "name": "python3"
  },
  "language_info": {
   "codemirror_mode": {
    "name": "ipython",
    "version": 3
   },
   "file_extension": ".py",
   "mimetype": "text/x-python",
   "name": "python",
   "nbconvert_exporter": "python",
   "pygments_lexer": "ipython3",
   "version": "3.11.7"
  }
 },
 "nbformat": 4,
 "nbformat_minor": 5
}
