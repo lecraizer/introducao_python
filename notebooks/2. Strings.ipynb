{
 "cells": [
  {
   "cell_type": "markdown",
   "id": "adf6d803",
   "metadata": {},
   "source": [
    "# Manipulação de Strings em Python\n",
    "\n",
    "Este notebook apresenta as principais operações com **strings** em Python. Serão abordadas funções embutidas (built-in) e métodos da classe `str` que permitem transformar, formatar, buscar, dividir e manipular textos de maneira eficiente.\n",
    "\n",
    "Cada seção contém exemplos práticos com explicações. Ideal para estudantes iniciantes que desejam dominar o uso de strings em Python.\n"
   ]
  },
  {
   "cell_type": "markdown",
   "id": "d4db6d52",
   "metadata": {},
   "source": [
    "## Conceitos Básicos de Strings"
   ]
  },
  {
   "cell_type": "code",
   "execution_count": 1,
   "id": "a8a73b7a",
   "metadata": {},
   "outputs": [
    {
     "name": "stdout",
     "output_type": "stream",
     "text": [
      "Python é divertido\n",
      "<class 'str'>\n"
     ]
    }
   ],
   "source": [
    "# Strings são sequências de caracteres\n",
    "texto = \"Python é divertido\"\n",
    "print(texto)\n",
    "print(type(texto))"
   ]
  },
  {
   "cell_type": "markdown",
   "id": "ce33f496",
   "metadata": {},
   "source": [
    "## Métodos de Modificação de Strings"
   ]
  },
  {
   "cell_type": "code",
   "execution_count": 2,
   "id": "3c6e88a9",
   "metadata": {},
   "outputs": [
    {
     "name": "stdout",
     "output_type": "stream",
     "text": [
      " python é incrível!  \n",
      " PYTHON É INCRÍVEL!  \n",
      "Python é incrível!\n",
      " Python é fantástico!  \n",
      " python é incrível!  \n",
      " Python É Incrível!  \n"
     ]
    }
   ],
   "source": [
    "s = \" Python é incrível!  \"\n",
    "print(s.lower())       # tudo minúsculo\n",
    "print(s.upper())       # tudo maiúsculo\n",
    "print(s.strip())       # remove espaços nas pontas\n",
    "print(s.replace(\"incrível\", \"fantástico\"))  # substituição\n",
    "print(s.capitalize())  # primeira letra maiúscula\n",
    "print(s.title())       # primeira letra de cada palavra"
   ]
  },
  {
   "cell_type": "markdown",
   "id": "7b95e693",
   "metadata": {},
   "source": [
    "## Verificações com Strings"
   ]
  },
  {
   "cell_type": "code",
   "execution_count": 3,
   "id": "bcdbd3ca",
   "metadata": {},
   "outputs": [
    {
     "name": "stdout",
     "output_type": "stream",
     "text": [
      "False\n",
      "False\n",
      "True\n",
      "True\n",
      "True\n"
     ]
    }
   ],
   "source": [
    "s = \"python123\"\n",
    "print(s.isalpha())    # apenas letras\n",
    "print(s.isdigit())    # apenas dígitos\n",
    "print(s.isalnum())    # letras ou dígitos\n",
    "print(s.startswith(\"py\"))  # começa com...\n",
    "print(s.endswith(\"123\"))   # termina com..."
   ]
  },
  {
   "cell_type": "markdown",
   "id": "c5ee5dff",
   "metadata": {},
   "source": [
    "## Divisão e Junção de Strings"
   ]
  },
  {
   "cell_type": "code",
   "execution_count": 4,
   "id": "d61f91fc",
   "metadata": {},
   "outputs": [
    {
     "name": "stdout",
     "output_type": "stream",
     "text": [
      "['curso', 'de', 'python', 'para', 'iniciantes']\n",
      "curso-de-python-para-iniciantes\n"
     ]
    }
   ],
   "source": [
    "frase = \"curso de python para iniciantes\"\n",
    "palavras = frase.split()  # divide por espaço padrão\n",
    "print(palavras)\n",
    "print(\"-\".join(palavras))  # junta com hífens"
   ]
  },
  {
   "cell_type": "markdown",
   "id": "7034a824",
   "metadata": {},
   "source": [
    "## Acesso por Índice e Fatiamento"
   ]
  },
  {
   "cell_type": "code",
   "execution_count": 5,
   "id": "73f5bfa7",
   "metadata": {},
   "outputs": [
    {
     "name": "stdout",
     "output_type": "stream",
     "text": [
      "P\n",
      "n\n",
      "yth\n"
     ]
    }
   ],
   "source": [
    "texto = \"Python\"\n",
    "print(texto[0])   # primeiro caractere\n",
    "print(texto[-1])  # último caractere\n",
    "print(texto[1:4]) # do segundo ao quarto"
   ]
  },
  {
   "cell_type": "markdown",
   "id": "1eab4550",
   "metadata": {},
   "source": [
    "## Outros Métodos Úteis"
   ]
  },
  {
   "cell_type": "code",
   "execution_count": 6,
   "id": "54f243ac",
   "metadata": {},
   "outputs": [
    {
     "name": "stdout",
     "output_type": "stream",
     "text": [
      "3\n",
      "2\n",
      "4\n",
      "6\n"
     ]
    }
   ],
   "source": [
    "s = \"banana\"\n",
    "print(s.count(\"a\"))       # conta ocorrências\n",
    "print(s.find(\"n\"))        # índice da primeira ocorrência\n",
    "print(s.rfind(\"n\"))       # última ocorrência\n",
    "print(len(s))              # tamanho da string"
   ]
  },
  {
   "cell_type": "code",
   "execution_count": 7,
   "id": "fa637ce1-5304-449f-9fdc-de1e44921117",
   "metadata": {},
   "outputs": [
    {
     "data": {
      "text/plain": [
       "\u001b[0;31mType:\u001b[0m        str\n",
       "\u001b[0;31mString form:\u001b[0m banana\n",
       "\u001b[0;31mLength:\u001b[0m      6\n",
       "\u001b[0;31mDocstring:\u001b[0m  \n",
       "str(object='') -> str\n",
       "str(bytes_or_buffer[, encoding[, errors]]) -> str\n",
       "\n",
       "Create a new string object from the given object. If encoding or\n",
       "errors is specified, then the object must expose a data buffer\n",
       "that will be decoded using the given encoding and error handler.\n",
       "Otherwise, returns the result of object.__str__() (if defined)\n",
       "or repr(object).\n",
       "encoding defaults to sys.getdefaultencoding().\n",
       "errors defaults to 'strict'."
      ]
     },
     "metadata": {},
     "output_type": "display_data"
    }
   ],
   "source": []
  },
  {
   "cell_type": "code",
   "execution_count": null,
   "id": "9436d434-4b21-4cab-8365-1e45571952a4",
   "metadata": {},
   "outputs": [],
   "source": []
  }
 ],
 "metadata": {
  "kernelspec": {
   "display_name": "Python 3 (ipykernel)",
   "language": "python",
   "name": "python3"
  },
  "language_info": {
   "codemirror_mode": {
    "name": "ipython",
    "version": 3
   },
   "file_extension": ".py",
   "mimetype": "text/x-python",
   "name": "python",
   "nbconvert_exporter": "python",
   "pygments_lexer": "ipython3",
   "version": "3.11.7"
  }
 },
 "nbformat": 4,
 "nbformat_minor": 5
}
