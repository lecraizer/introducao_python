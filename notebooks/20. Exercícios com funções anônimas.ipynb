{
 "cells": [
  {
   "cell_type": "markdown",
   "id": "ab91204f",
   "metadata": {},
   "source": [
    "# Exercícios com `any`, `all`, `map`, `filter` e `lambda`\n",
    "\n",
    "Este notebook contém **10 exercícios** (do fácil ao difícil) usando `any`, `all`, `map`, `filter` e funções `lambda`.\n",
    "Cada exercício tem um **enunciado** (em Markdown) e uma **resolução** (em célula de código).\n"
   ]
  },
  {
   "cell_type": "markdown",
   "id": "1870217c",
   "metadata": {},
   "source": [
    "## 1. Usando `map` + `any` (fácil)\n",
    "**Enunciado:**  \n",
    "Dada uma lista de palavras, verifique se **alguma** está em maiúsculas usando `any(map(...))` com `lambda`."
   ]
  },
  {
   "cell_type": "code",
   "execution_count": null,
   "id": "618f587e",
   "metadata": {},
   "outputs": [],
   "source": [
    "palavras = [\"casa\", \"Carro\", \"LIVRO\"]\n",
    "resultado = any(map(lambda s: s.isupper(), palavras))\n",
    "print(resultado)  # True"
   ]
  },
  {
   "cell_type": "markdown",
   "id": "3e2c5ce6",
   "metadata": {},
   "source": [
    "## 2. Usando `map` + `all` (fácil)\n",
    "**Enunciado:**  \n",
    "Dada uma lista de nomes, verifique se **todos** começam com letra maiúscula (`A-Z`) usando `all(map(...))`."
   ]
  },
  {
   "cell_type": "code",
   "execution_count": null,
   "id": "5c192f59",
   "metadata": {},
   "outputs": [],
   "source": [
    "nomes = [\"Ana\", \"Maria\", \"José\"]\n",
    "resultado = all(map(lambda s: s[:1].isupper(), nomes))\n",
    "print(resultado)  # True"
   ]
  },
  {
   "cell_type": "markdown",
   "id": "ef0f7968",
   "metadata": {},
   "source": [
    "## 3. Usando `filter` + `any` (fácil)\n",
    "**Enunciado:**  \n",
    "Dada uma lista de frases, verifique se **alguma** contém “python” (case-insensitive) usando `filter` com `lambda`."
   ]
  },
  {
   "cell_type": "code",
   "execution_count": null,
   "id": "5f00afc8",
   "metadata": {},
   "outputs": [],
   "source": [
    "frases = [\"Eu gosto de programação\", \"PYTHON é incrível\", \"Aprender é bom\"]\n",
    "resultado = any(filter(lambda s: \"python\" in s.lower(), frases))\n",
    "print(resultado)  # True"
   ]
  },
  {
   "cell_type": "markdown",
   "id": "a9d2c702",
   "metadata": {},
   "source": [
    "## 4. `filter` + `all(map(...))` (médio)\n",
    "**Enunciado:**  \n",
    "Dada uma lista de inteiros, verifique se **todos os positivos** são pares (use `filter` para positivos e `all(map(...))` para paridade)."
   ]
  },
  {
   "cell_type": "code",
   "execution_count": null,
   "id": "a316d8a1",
   "metadata": {},
   "outputs": [],
   "source": [
    "nums = [2, -3, 4, 6, -1, 10]\n",
    "positivos = filter(lambda n: n > 0, nums)\n",
    "resultado = all(map(lambda n: n % 2 == 0, positivos))\n",
    "print(resultado)  # True"
   ]
  },
  {
   "cell_type": "markdown",
   "id": "1143bd15",
   "metadata": {},
   "source": [
    "## 5. `map` + `all` (médio)\n",
    "**Enunciado:**  \n",
    "Dada uma lista de senhas, verifique se **todas** têm pelo menos 6 caracteres **e** contêm dígito (use apenas `lambda`, `all`, `map`)."
   ]
  },
  {
   "cell_type": "code",
   "execution_count": null,
   "id": "03061a1b",
   "metadata": {},
   "outputs": [],
   "source": [
    "senhas = [\"abc123\", \"segura1\", \"qwerty2\"]\n",
    "tem_digito = lambda s: any(map(lambda ch: ch.isdigit(), s))\n",
    "valida = lambda s: len(s) >= 6 and tem_digito(s)\n",
    "resultado = all(map(valida, senhas))\n",
    "print(resultado)  # True"
   ]
  },
  {
   "cell_type": "markdown",
   "id": "58140b1b",
   "metadata": {},
   "source": [
    "## 6. Lista de dicionários — `filter` + `any(map(...))` (médio)\n",
    "**Enunciado:**  \n",
    "Com uma lista de produtos (dicionários), verifique se **algum barato** (preço < 50) é da categoria `\"eletronico\"`."
   ]
  },
  {
   "cell_type": "code",
   "execution_count": null,
   "id": "b46bfd51",
   "metadata": {},
   "outputs": [],
   "source": [
    "produtos = [\n",
    "    {\"nome\": \"Caderno\", \"preco\": 20, \"categoria\": \"papelaria\"},\n",
    "    {\"nome\": \"Fone\", \"preco\": 45, \"categoria\": \"eletronico\"},\n",
    "    {\"nome\": \"Mochila\", \"preco\": 120, \"categoria\": \"acessorio\"},\n",
    "]\n",
    "baratos = filter(lambda p: p[\"preco\"] < 50, produtos)\n",
    "resultado = any(map(lambda p: p[\"categoria\"] == \"eletronico\", baratos))\n",
    "print(resultado)  # True"
   ]
  },
  {
   "cell_type": "markdown",
   "id": "9e68b98a",
   "metadata": {},
   "source": [
    "## 7. Lista de dicionários — `filter` + `all(map(...))` (médio)\n",
    "**Enunciado:**  \n",
    "Filtre apenas os funcionários do setor `\"TI\"` e verifique se **todos** têm salário > 2000."
   ]
  },
  {
   "cell_type": "code",
   "execution_count": null,
   "id": "2ee747e5",
   "metadata": {},
   "outputs": [],
   "source": [
    "funcs = [\n",
    "    {\"nome\": \"Carlos\", \"setor\": \"TI\", \"salario\": 2500},\n",
    "    {\"nome\": \"João\", \"setor\": \"TI\", \"salario\": 3000},\n",
    "    {\"nome\": \"Ana\", \"setor\": \"RH\", \"salario\": 1800},\n",
    "]\n",
    "ti = filter(lambda f: f[\"setor\"] == \"TI\", funcs)\n",
    "resultado = all(map(lambda f: f[\"salario\"] > 2000, ti))\n",
    "print(resultado)  # True"
   ]
  },
  {
   "cell_type": "markdown",
   "id": "0e23d489",
   "metadata": {},
   "source": [
    "## 8. Frases — `map` aninhado + `all` (difícil)\n",
    "**Enunciado:**  \n",
    "Verifique se **todas** as frases têm **todas** as palavras com pelo menos 3 letras (separe por espaços). Use apenas `lambda`, `map`, `all`."
   ]
  },
  {
   "cell_type": "code",
   "execution_count": null,
   "id": "b333a074",
   "metadata": {},
   "outputs": [],
   "source": [
    "frases = [\"amo python\", \"gosto muito\", \"codar bem\"]\n",
    "palavras_len_ok = lambda frase: all(map(lambda w: len(w) >= 3, frase.split()))\n",
    "resultado = all(map(palavras_len_ok, frases))\n",
    "print(resultado)  # True"
   ]
  },
  {
   "cell_type": "markdown",
   "id": "5565b80a",
   "metadata": {},
   "source": [
    "## 9. Dicionários aninhados — `all(map(any(...)))` (difícil)\n",
    "**Enunciado:**  \n",
    "Dada uma lista de pedidos (cada pedido tem uma lista `produtos` com `nome` e `quantidade`), verifique se **todos os pedidos** têm **ao menos um** produto com `quantidade > 1`."
   ]
  },
  {
   "cell_type": "code",
   "execution_count": null,
   "id": "53784724",
   "metadata": {},
   "outputs": [],
   "source": [
    "pedidos = [\n",
    "    {\"id\": 1, \"produtos\": [{\"nome\": \"Caneta\", \"quantidade\": 2}, {\"nome\": \"Lápis\", \"quantidade\": 1}]},\n",
    "    {\"id\": 2, \"produtos\": [{\"nome\": \"Caderno\", \"quantidade\": 3}]},\n",
    "    {\"id\": 3, \"produtos\": [{\"nome\": \"Borracha\", \"quantidade\": 2}]},\n",
    "]\n",
    "tem_qtd = lambda pedido: any(map(lambda pr: pr[\"quantidade\"] > 1, pedido[\"produtos\"]))\n",
    "resultado = all(map(tem_qtd, pedidos))\n",
    "print(resultado)  # True"
   ]
  },
  {
   "cell_type": "markdown",
   "id": "97c4f17d",
   "metadata": {},
   "source": [
    "## 10. Normalização + `filter` + `any` (difícil)\n",
    "**Enunciado:**  \n",
    "Dada uma lista de e-mails, verifique se **algum** (ignorando espaços e caixa) termina com `\"@empresa.com\"`."
   ]
  },
  {
   "cell_type": "code",
   "execution_count": null,
   "id": "f7d4b015",
   "metadata": {},
   "outputs": [],
   "source": [
    "emails = [\"ana@Empresa.com\", \"  JOAO@empresa.COM  \", \"maria@gmail.com\"]\n",
    "limpa = lambda s: s.strip().lower()\n",
    "resultado = any(map(lambda e: limpa(e).endswith(\"@empresa.com\"), emails))\n",
    "print(resultado)  # True"
   ]
  }
 ],
 "metadata": {
  "kernelspec": {
   "display_name": "Python 3 (ipykernel)",
   "language": "python",
   "name": "python3"
  },
  "language_info": {
   "codemirror_mode": {
    "name": "ipython",
    "version": 3
   },
   "file_extension": ".py",
   "mimetype": "text/x-python",
   "name": "python",
   "nbconvert_exporter": "python",
   "pygments_lexer": "ipython3",
   "version": "3.11.7"
  }
 },
 "nbformat": 4,
 "nbformat_minor": 5
}
