{
 "cells": [
  {
   "cell_type": "markdown",
   "id": "1bd11f5c",
   "metadata": {},
   "source": [
    "# Guia Completo sobre *Docstrings* em Python\n",
    "\n",
    "Este notebook apresenta uma explicação detalhada sobre **docstrings** em Python, incluindo:\n",
    "\n",
    "- O que são docstrings e para que servem\n",
    "- Como escrever docstrings corretamente\n",
    "- Convenções de estilo (PEP 257 e PEP 8)\n",
    "- Diferença entre comentários e docstrings\n",
    "- Exemplos práticos em funções, classes e módulos\n",
    "- Boas práticas\n"
   ]
  },
  {
   "cell_type": "markdown",
   "id": "5a099abe",
   "metadata": {},
   "source": [
    "## 1. O que é uma docstring?\n",
    "\n",
    "Uma **docstring** (*documentation string*) é uma *string literal* usada para documentar um **módulo, função, classe ou método** em Python.  \n",
    "\n",
    "Ela é escrita logo após a definição (`def` ou `class`) e fica entre aspas triplas `\"\"\" ... \"\"\"`.\n",
    "\n",
    "A docstring pode ser acessada em tempo de execução usando o atributo `.__doc__` ou a função `help()`.\n",
    "\n",
    "**Exemplo simples:**"
   ]
  },
  {
   "cell_type": "code",
   "execution_count": null,
   "id": "4508995a-94a1-4ff9-9a31-e996e6248a7b",
   "metadata": {},
   "outputs": [],
   "source": []
  },
  {
   "cell_type": "code",
   "execution_count": 2,
   "id": "45cfa2f0-3a13-409e-b2f4-ece8ed963107",
   "metadata": {},
   "outputs": [
    {
     "name": "stdout",
     "output_type": "stream",
     "text": [
      "hello\n"
     ]
    }
   ],
   "source": [
    "\"\"\"\n",
    "lista = [1,2,3]\n",
    "a = 5\n",
    "b = 10\n",
    "\"\"\"\n",
    "print('hello')"
   ]
  },
  {
   "cell_type": "code",
   "execution_count": null,
   "id": "b268f8ba-18c4-4710-8d70-eb6a78d603a4",
   "metadata": {},
   "outputs": [],
   "source": []
  },
  {
   "cell_type": "code",
   "execution_count": 5,
   "id": "e4f7f42e",
   "metadata": {},
   "outputs": [],
   "source": [
    "def soma(a, b):\n",
    "    \"\"\"Retorna a soma de dois números.\"\"\"\n",
    "    return a + b\n",
    "\n",
    "# print(soma.__doc__)\n",
    "# help(soma)\n",
    "# soma?"
   ]
  },
  {
   "cell_type": "markdown",
   "id": "f77a493c",
   "metadata": {},
   "source": [
    "## 2. Comentários vs Docstrings\n",
    "\n",
    "- **Comentário (`#`)**: serve apenas para o programador ler no código. Não é acessível em tempo de execução.\n",
    "- **Docstring (`\"\"\" ... \"\"\"`)**: documentação embutida, acessível via `help()` ou `.__doc__`.\n",
    "\n",
    "**Exemplo:**"
   ]
  },
  {
   "cell_type": "code",
   "execution_count": 3,
   "id": "841e0827",
   "metadata": {},
   "outputs": [
    {
     "name": "stdout",
     "output_type": "stream",
     "text": [
      "\n",
      "    Retorna o produto de dois números a e b.\n",
      "    \n"
     ]
    }
   ],
   "source": [
    "# Este é um comentário comum, não acessível por help()\n",
    "\n",
    "def multiplica(a, b):\n",
    "    \"\"\"\n",
    "    Retorna o produto de dois números a e b.\n",
    "    \"\"\"\n",
    "    return a * b\n",
    "\n",
    "print(multiplica.__doc__)"
   ]
  },
  {
   "cell_type": "markdown",
   "id": "85e8eceb",
   "metadata": {},
   "source": [
    "## 3. Convenções de Estilo\n",
    "\n",
    "Segundo a **PEP 257** e recomendações da **PEP 8**:\n",
    "\n",
    "- Usar aspas triplas `\"\"\"`.\n",
    "- Primeira linha: resumo conciso do propósito da função/módulo/classe.\n",
    "- Segunda linha: em branco.\n",
    "- Linhas seguintes: descrição detalhada, parâmetros e retorno.\n",
    "\n",
    "### 3.1. Exemplo de docstring curta\n",
    "```python\n",
    "def dobro(x):\n",
    "    \"\"\"Retorna o dobro de x.\"\"\"\n",
    "    return 2 * x\n",
    "```\n",
    "\n",
    "### 3.2. Exemplo de docstring multilinha (mais detalhada)\n",
    "```python\n",
    "def divide(a, b):\n",
    "    \"\"\"Divide dois números.\n",
    "\n",
    "    Args:\n",
    "        a (float): Dividendo.\n",
    "        b (float): Divisor.\n",
    "\n",
    "    Returns:\n",
    "        float: Resultado da divisão.\n",
    "\n",
    "    Raises:\n",
    "        ZeroDivisionError: Se b for zero.\n",
    "    \"\"\"\n",
    "    return a / b\n",
    "```"
   ]
  },
  {
   "cell_type": "markdown",
   "id": "d214f6ad",
   "metadata": {},
   "source": [
    "## 4. Exemplos em Funções\n",
    "\n",
    "Vamos aplicar docstrings detalhadas em funções simples.\n"
   ]
  },
  {
   "cell_type": "code",
   "execution_count": null,
   "id": "8061085a",
   "metadata": {},
   "outputs": [],
   "source": [
    "def potencia(base, expoente):\n",
    "    \"\"\"Calcula a potência de um número.\n",
    "\n",
    "    Args:\n",
    "        base (int | float): Número a ser elevado.\n",
    "        expoente (int): Potência.\n",
    "\n",
    "    Returns:\n",
    "        int | float: Resultado da potência.\n",
    "    \"\"\"\n",
    "    return base ** expoente\n",
    "\n",
    "help(potencia)"
   ]
  },
  {
   "cell_type": "markdown",
   "id": "a5dfe329",
   "metadata": {},
   "source": [
    "## 5. Docstrings em Classes\n",
    "\n",
    "Docstrings também podem documentar **classes** e **métodos**.\n",
    "\n",
    "**Exemplo:**"
   ]
  },
  {
   "cell_type": "code",
   "execution_count": null,
   "id": "080494e6",
   "metadata": {},
   "outputs": [],
   "source": [
    "class Pessoa:\n",
    "    \"\"\"Classe que representa uma pessoa.\"\"\"\n",
    "\n",
    "    def __init__(self, nome, idade):\n",
    "        \"\"\"Inicializa uma nova instância de Pessoa.\n",
    "\n",
    "        Args:\n",
    "            nome (str): Nome da pessoa.\n",
    "            idade (int): Idade da pessoa.\n",
    "        \"\"\"\n",
    "        self.nome = nome\n",
    "        self.idade = idade\n",
    "\n",
    "    def apresentar(self):\n",
    "        \"\"\"Retorna uma apresentação da pessoa.\"\"\"\n",
    "        return f\"Olá, meu nome é {self.nome} e tenho {self.idade} anos.\"\n",
    "\n",
    "help(Pessoa)"
   ]
  },
  {
   "cell_type": "markdown",
   "id": "a6e21640",
   "metadata": {},
   "source": [
    "## 6. Docstrings em Módulos\n",
    "\n",
    "Também podemos usar docstrings no **início de um arquivo Python** para documentar o **módulo**.\n",
    "\n",
    "**Exemplo (arquivo `meu_modulo.py`):**\n",
    "```python\n",
    "\"\"\"\n",
    "Módulo de utilidades matemáticas.\n",
    "\n",
    "Este módulo fornece funções auxiliares para operações matemáticas comuns,\n",
    "como soma, multiplicação e cálculo de fatorial.\n",
    "\"\"\"\n",
    "\n",
    "def soma(a, b):\n",
    "    \"\"\"Retorna a soma de dois números.\"\"\"\n",
    "    return a + b\n",
    "```\n",
    "\n",
    "Essa docstring aparece quando usamos `help(meu_modulo)`.\n"
   ]
  },
  {
   "cell_type": "markdown",
   "id": "dac02f03",
   "metadata": {},
   "source": [
    "## 7. Boas Práticas\n",
    "\n",
    "- Seja claro e objetivo.\n",
    "- Documente **parâmetros** e **tipos de retorno**.\n",
    "- Use docstrings em **todas as funções, classes e módulos públicos**.\n",
    "- Explique **exceções levantadas** (como `ValueError`, `ZeroDivisionError`).\n",
    "- Prefira estilo consistente (Google, NumPy ou reStructuredText).\n",
    "\n",
    "**Exemplo (estilo NumPy):**\n",
    "```python\n",
    "def media(lista):\n",
    "    \"\"\"Calcula a média de uma lista de números.\n",
    "\n",
    "    Parameters\n",
    "    ----------\n",
    "    lista : list of float\n",
    "        Lista de valores numéricos.\n",
    "\n",
    "    Returns\n",
    "    -------\n",
    "    float\n",
    "        A média dos valores da lista.\n",
    "    \"\"\"\n",
    "    return sum(lista) / len(lista)\n",
    "```\n",
    "\n",
    "---\n",
    "\n",
    "Com isso, vimos como **docstrings** são fundamentais para escrever código **legível, reutilizável e bem documentado**.\n"
   ]
  }
 ],
 "metadata": {
  "kernelspec": {
   "display_name": "Python 3 (ipykernel)",
   "language": "python",
   "name": "python3"
  },
  "language_info": {
   "codemirror_mode": {
    "name": "ipython",
    "version": 3
   },
   "file_extension": ".py",
   "mimetype": "text/x-python",
   "name": "python",
   "nbconvert_exporter": "python",
   "pygments_lexer": "ipython3",
   "version": "3.11.7"
  }
 },
 "nbformat": 4,
 "nbformat_minor": 5
}
