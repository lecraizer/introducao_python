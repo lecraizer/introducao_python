{
 "cells": [
  {
   "cell_type": "markdown",
   "id": "51571192-16b6-4b50-a2a9-aac051a0975e",
   "metadata": {},
   "source": [
    "#### Listas com 'in' e 'not in'"
   ]
  },
  {
   "cell_type": "code",
   "execution_count": 1,
   "id": "550861ca-8abd-4a0c-8a6e-b8bcbf37ba35",
   "metadata": {},
   "outputs": [
    {
     "data": {
      "text/plain": [
       "True"
      ]
     },
     "execution_count": 1,
     "metadata": {},
     "output_type": "execute_result"
    }
   ],
   "source": [
    "3 in [1, 2, 3]"
   ]
  },
  {
   "cell_type": "code",
   "execution_count": 2,
   "id": "378bbb2b-d78c-4da3-ae92-85bf597a74b4",
   "metadata": {},
   "outputs": [
    {
     "data": {
      "text/plain": [
       "False"
      ]
     },
     "execution_count": 2,
     "metadata": {},
     "output_type": "execute_result"
    }
   ],
   "source": [
    "3 not in [1, 2, 3]"
   ]
  },
  {
   "cell_type": "code",
   "execution_count": 5,
   "id": "ae7e87c9-00b9-4492-9604-c347a31c031d",
   "metadata": {},
   "outputs": [
    {
     "data": {
      "text/plain": [
       "False"
      ]
     },
     "execution_count": 5,
     "metadata": {},
     "output_type": "execute_result"
    }
   ],
   "source": [
    "['a'] in ['a', 'b', 'c']"
   ]
  },
  {
   "cell_type": "code",
   "execution_count": 8,
   "id": "c493c164-bcfe-479d-99fd-87efc415c2ce",
   "metadata": {},
   "outputs": [
    {
     "data": {
      "text/plain": [
       "True"
      ]
     },
     "execution_count": 8,
     "metadata": {},
     "output_type": "execute_result"
    }
   ],
   "source": [
    "['a'] in [['a'], ['b', 'c']]"
   ]
  },
  {
   "cell_type": "markdown",
   "id": "6ee2e67e-2b84-40bf-a1e0-d8a3e85c0548",
   "metadata": {},
   "source": [
    "#### Condicionais com 'and' e 'or'"
   ]
  },
  {
   "cell_type": "code",
   "execution_count": 15,
   "id": "29da8821-1400-4ee2-ba19-af33145ad540",
   "metadata": {},
   "outputs": [],
   "source": [
    "impressora = 'sim'\n",
    "papel = 'não'"
   ]
  },
  {
   "cell_type": "code",
   "execution_count": 13,
   "id": "36d6c1c2-d0b3-4f47-9b9a-56ae09b7aaab",
   "metadata": {},
   "outputs": [
    {
     "name": "stdout",
     "output_type": "stream",
     "text": [
      "Vamos imprimir\n"
     ]
    }
   ],
   "source": [
    "if impressora == 'sim' and papel == 'sim':\n",
    "    print('Vamos imprimir')\n",
    "else:\n",
    "    print('Não vamos imprimir')"
   ]
  },
  {
   "cell_type": "code",
   "execution_count": 16,
   "id": "57358864-c82a-42d3-abd2-274787883f91",
   "metadata": {},
   "outputs": [
    {
     "name": "stdout",
     "output_type": "stream",
     "text": [
      "Vamos imprimir\n"
     ]
    }
   ],
   "source": [
    "if impressora == 'sim' or papel == 'sim':\n",
    "    print('Vamos imprimir')\n",
    "else:\n",
    "    print('Não vamos imprimir')"
   ]
  },
  {
   "cell_type": "markdown",
   "id": "0e24eb09-1476-4817-9ad1-ab419bd66462",
   "metadata": {},
   "source": [
    "#### Enumerate"
   ]
  },
  {
   "cell_type": "code",
   "execution_count": 25,
   "id": "95bfdd85-35f5-4679-8101-157dbf7c553a",
   "metadata": {},
   "outputs": [
    {
     "name": "stdout",
     "output_type": "stream",
     "text": [
      "0 4\n",
      "1 55\n",
      "2 62\n",
      "3 12\n",
      "4 20\n"
     ]
    }
   ],
   "source": [
    "lista = [4, 55, 62, 12, 20]\n",
    "\n",
    "for k, i in enumerate(lista):\n",
    "    print(k, i)"
   ]
  },
  {
   "cell_type": "markdown",
   "id": "5ac45c1f-1e9a-4b3f-9b3e-e1924ee8f646",
   "metadata": {},
   "source": [
    "#### Set"
   ]
  },
  {
   "cell_type": "code",
   "execution_count": 26,
   "id": "3287cf31-708b-4eb1-851f-b7406bc176c9",
   "metadata": {},
   "outputs": [
    {
     "data": {
      "text/plain": [
       "{1, 2, 3, 4, 5, 8}"
      ]
     },
     "execution_count": 26,
     "metadata": {},
     "output_type": "execute_result"
    }
   ],
   "source": [
    "lista = [2,2,4,5,8,1,2,3,4,8]\n",
    "set(lista)"
   ]
  },
  {
   "cell_type": "code",
   "execution_count": 34,
   "id": "20c774b0-a08b-4e59-a657-09add7ff82bc",
   "metadata": {},
   "outputs": [
    {
     "data": {
      "text/plain": [
       "[1, 2, 3, 4, 5, 8]"
      ]
     },
     "execution_count": 34,
     "metadata": {},
     "output_type": "execute_result"
    }
   ],
   "source": [
    "L = list(set(lista))\n",
    "L"
   ]
  },
  {
   "cell_type": "markdown",
   "id": "dd50c526-e69a-4f24-8815-e483a670711d",
   "metadata": {},
   "source": [
    "#### Convertendo tipos"
   ]
  },
  {
   "cell_type": "code",
   "execution_count": 29,
   "id": "037e2d7e-59e4-4cf4-828f-c32757c72983",
   "metadata": {},
   "outputs": [
    {
     "data": {
      "text/plain": [
       "1"
      ]
     },
     "execution_count": 29,
     "metadata": {},
     "output_type": "execute_result"
    }
   ],
   "source": [
    "int(7/6)"
   ]
  },
  {
   "cell_type": "code",
   "execution_count": 30,
   "id": "03bbc83f-a578-4215-8fce-3bf9c42d6800",
   "metadata": {},
   "outputs": [
    {
     "data": {
      "text/plain": [
       "7.0"
      ]
     },
     "execution_count": 30,
     "metadata": {},
     "output_type": "execute_result"
    }
   ],
   "source": [
    "float(7)"
   ]
  },
  {
   "cell_type": "code",
   "execution_count": 31,
   "id": "8c34e2ec-82d8-4b28-9514-03e46de86d57",
   "metadata": {},
   "outputs": [
    {
     "data": {
      "text/plain": [
       "'7'"
      ]
     },
     "execution_count": 31,
     "metadata": {},
     "output_type": "execute_result"
    }
   ],
   "source": [
    "str(7)"
   ]
  },
  {
   "cell_type": "code",
   "execution_count": 32,
   "id": "32b87865-6ead-474a-ad19-7784c00d22f8",
   "metadata": {},
   "outputs": [
    {
     "data": {
      "text/plain": [
       "'7.0'"
      ]
     },
     "execution_count": 32,
     "metadata": {},
     "output_type": "execute_result"
    }
   ],
   "source": [
    "str(7.0)"
   ]
  },
  {
   "cell_type": "code",
   "execution_count": 33,
   "id": "5d25e126-a736-4345-96c7-e658e3ac097a",
   "metadata": {},
   "outputs": [
    {
     "data": {
      "text/plain": [
       "'[1, 2, 3]'"
      ]
     },
     "execution_count": 33,
     "metadata": {},
     "output_type": "execute_result"
    }
   ],
   "source": [
    "str([1,2,3])"
   ]
  },
  {
   "cell_type": "code",
   "execution_count": 35,
   "id": "cbfd8605-bcc3-4422-ac91-b93c81d4f98a",
   "metadata": {},
   "outputs": [
    {
     "data": {
      "text/plain": [
       "[8, 5, 4, 3, 2, 1]"
      ]
     },
     "execution_count": 35,
     "metadata": {},
     "output_type": "execute_result"
    }
   ],
   "source": [
    "L[::-1]"
   ]
  },
  {
   "cell_type": "markdown",
   "id": "3a393ce7-730c-46aa-a72f-1afe9abb81ae",
   "metadata": {},
   "source": [
    "## Dicionários"
   ]
  },
  {
   "cell_type": "code",
   "execution_count": 50,
   "id": "85c857d6-c644-4989-8745-48bd6c2efbec",
   "metadata": {},
   "outputs": [
    {
     "data": {
      "text/plain": [
       "{'primeiro': 7, 'segundo': 10, 'terceiro': 30}"
      ]
     },
     "execution_count": 50,
     "metadata": {},
     "output_type": "execute_result"
    }
   ],
   "source": [
    "dicionario = {'primeiro': 7, 'segundo': 10, 'terceiro': 30}\n",
    "dicionario"
   ]
  },
  {
   "cell_type": "code",
   "execution_count": 51,
   "id": "52aa1e76-5e46-4e14-bb20-9e03377e6f6b",
   "metadata": {},
   "outputs": [
    {
     "data": {
      "text/plain": [
       "7"
      ]
     },
     "execution_count": 51,
     "metadata": {},
     "output_type": "execute_result"
    }
   ],
   "source": [
    "dicionario['primeiro']"
   ]
  },
  {
   "cell_type": "code",
   "execution_count": 52,
   "id": "b42a7b95-87b8-401e-a65b-e10e33848309",
   "metadata": {},
   "outputs": [
    {
     "data": {
      "text/plain": [
       "7"
      ]
     },
     "execution_count": 52,
     "metadata": {},
     "output_type": "execute_result"
    }
   ],
   "source": [
    "dicionario.get('primeiro')"
   ]
  },
  {
   "cell_type": "code",
   "execution_count": 53,
   "id": "3681dc23-957c-4c6c-929f-9d02cd9b1f8f",
   "metadata": {},
   "outputs": [
    {
     "data": {
      "text/plain": [
       "dict_keys(['primeiro', 'segundo', 'terceiro'])"
      ]
     },
     "execution_count": 53,
     "metadata": {},
     "output_type": "execute_result"
    }
   ],
   "source": [
    "dicionario.keys()"
   ]
  },
  {
   "cell_type": "code",
   "execution_count": 54,
   "id": "8f10a234-a239-4d28-9984-87509ea5fc5d",
   "metadata": {},
   "outputs": [
    {
     "data": {
      "text/plain": [
       "dict_values([7, 10, 30])"
      ]
     },
     "execution_count": 54,
     "metadata": {},
     "output_type": "execute_result"
    }
   ],
   "source": [
    "dicionario.values()"
   ]
  },
  {
   "cell_type": "code",
   "execution_count": 55,
   "id": "fba8aec5-12da-4832-87c0-e71183de0a24",
   "metadata": {},
   "outputs": [
    {
     "data": {
      "text/plain": [
       "dict_items([('primeiro', 7), ('segundo', 10), ('terceiro', 30)])"
      ]
     },
     "execution_count": 55,
     "metadata": {},
     "output_type": "execute_result"
    }
   ],
   "source": [
    "dicionario.items()"
   ]
  },
  {
   "cell_type": "code",
   "execution_count": 64,
   "id": "1dc797a7-b839-4542-af37-e03329238d0b",
   "metadata": {},
   "outputs": [
    {
     "data": {
      "text/plain": [
       "1970"
      ]
     },
     "execution_count": 64,
     "metadata": {},
     "output_type": "execute_result"
    }
   ],
   "source": [
    "D = {'Thriller': 1970, 'Gênio indomável': 1993}\n",
    "D.get('Thriller')"
   ]
  },
  {
   "cell_type": "markdown",
   "id": "db936ddd-fecb-4151-9e22-68fe8c371b33",
   "metadata": {},
   "source": [
    "#### Inverter as chaves pelos valores em um dicionário"
   ]
  },
  {
   "cell_type": "code",
   "execution_count": 69,
   "id": "ce600be9-85b2-40e0-8328-39b5ead4ba57",
   "metadata": {},
   "outputs": [
    {
     "name": "stdout",
     "output_type": "stream",
     "text": [
      "{20: 'maçã', 35: 'banana', 15: 'laranja', 50: 'abacaxi', 10: 'limão'}\n"
     ]
    }
   ],
   "source": [
    "antigo_dict = {'maçã': 20, 'banana': 35, 'laranja': 15, 'abacaxi': 50, 'limão': 10}\n",
    "novo_dict = {}\n",
    "\n",
    "for chave, valor in antigo_dict.items():\n",
    "    novo_dict[valor] = chave\n",
    "\n",
    "print(novo_dict)"
   ]
  },
  {
   "cell_type": "markdown",
   "id": "9a0e290a-82aa-4256-9134-042e652dd2c5",
   "metadata": {},
   "source": [
    "## Tuplas"
   ]
  },
  {
   "cell_type": "code",
   "execution_count": 79,
   "id": "f3a07694-d90d-42e1-9a92-436c966295c6",
   "metadata": {},
   "outputs": [
    {
     "data": {
      "text/plain": [
       "[4, 2, 1, 16, 10]"
      ]
     },
     "execution_count": 79,
     "metadata": {},
     "output_type": "execute_result"
    }
   ],
   "source": [
    "L = [4, 2, 1, 16, 10]\n",
    "L"
   ]
  },
  {
   "cell_type": "code",
   "execution_count": 82,
   "id": "0eff08e3-2461-4042-8011-92e758a99b02",
   "metadata": {},
   "outputs": [
    {
     "data": {
      "text/plain": [
       "(4, 2, 1, 16, 10)"
      ]
     },
     "execution_count": 82,
     "metadata": {},
     "output_type": "execute_result"
    }
   ],
   "source": [
    "T = (4, 2, 1, 16, 10)\n",
    "T"
   ]
  },
  {
   "cell_type": "code",
   "execution_count": 77,
   "id": "547bbce2-08cd-4d76-ad86-1d3a4f5b87eb",
   "metadata": {},
   "outputs": [],
   "source": [
    "coordenadas = [ (78.1230123012391, 94.120312312), (12.123123123231, -14.120312312) ]"
   ]
  },
  {
   "cell_type": "markdown",
   "id": "19669122-68b0-49f9-b9a4-4e4c86dfe81c",
   "metadata": {},
   "source": [
    "Ordenação de lista"
   ]
  },
  {
   "cell_type": "code",
   "execution_count": 80,
   "id": "c1e9d650-d676-4503-8e75-b109af3d738d",
   "metadata": {},
   "outputs": [
    {
     "data": {
      "text/plain": [
       "[1, 2, 4, 10, 16]"
      ]
     },
     "execution_count": 80,
     "metadata": {},
     "output_type": "execute_result"
    }
   ],
   "source": [
    "sorted(L)"
   ]
  },
  {
   "cell_type": "code",
   "execution_count": 85,
   "id": "dc74b191-224e-4558-93d4-dea14ed2e2c5",
   "metadata": {},
   "outputs": [
    {
     "data": {
      "text/plain": [
       "[16, 10, 4, 2, 1]"
      ]
     },
     "execution_count": 85,
     "metadata": {},
     "output_type": "execute_result"
    }
   ],
   "source": [
    "sorted(T)[::-1]"
   ]
  },
  {
   "cell_type": "markdown",
   "id": "f08c520b-0446-426a-846c-ab7826833851",
   "metadata": {},
   "source": [
    "#### Contar a frequência de palavras em uma lista de tuplas"
   ]
  },
  {
   "cell_type": "code",
   "execution_count": 91,
   "id": "e9dd2a4a-20e9-4568-9389-22ba7fcd5aa3",
   "metadata": {},
   "outputs": [
    {
     "data": {
      "text/plain": [
       "[('maçã', 20),\n",
       " ('banana', 35),\n",
       " ('laranja', 15),\n",
       " ('maçã', 40),\n",
       " ('banana', 50),\n",
       " ('limão', 10)]"
      ]
     },
     "execution_count": 91,
     "metadata": {},
     "output_type": "execute_result"
    }
   ],
   "source": [
    "tuplas = [('maçã', 20), ('banana', 35), ('laranja', 15), ('maçã', 40), ('banana', 50), ('limão', 10)]\n",
    "tuplas"
   ]
  },
  {
   "cell_type": "code",
   "execution_count": 93,
   "id": "f9ebff80-00ad-4c61-8db0-b7035ea70264",
   "metadata": {},
   "outputs": [
    {
     "data": {
      "text/plain": [
       "{'maçã': 60, 'banana': 85, 'laranja': 15, 'limão': 10}"
      ]
     },
     "execution_count": 93,
     "metadata": {},
     "output_type": "execute_result"
    }
   ],
   "source": [
    "frequencia = {}\n",
    "\n",
    "for palavra, contagem in tuplas:\n",
    "    if palavra in frequencia:\n",
    "        frequencia[palavra] += contagem\n",
    "    else:\n",
    "        frequencia[palavra] = contagem\n",
    "\n",
    "frequencia"
   ]
  },
  {
   "cell_type": "code",
   "execution_count": null,
   "id": "e3212174-3bab-41ad-92d6-a9cfb039ef48",
   "metadata": {},
   "outputs": [],
   "source": []
  }
 ],
 "metadata": {
  "kernelspec": {
   "display_name": "Python 3 (ipykernel)",
   "language": "python",
   "name": "python3"
  },
  "language_info": {
   "codemirror_mode": {
    "name": "ipython",
    "version": 3
   },
   "file_extension": ".py",
   "mimetype": "text/x-python",
   "name": "python",
   "nbconvert_exporter": "python",
   "pygments_lexer": "ipython3",
   "version": "3.11.7"
  }
 },
 "nbformat": 4,
 "nbformat_minor": 5
}
