{
 "cells": [
  {
   "cell_type": "markdown",
   "id": "3dd1dec7",
   "metadata": {},
   "source": [
    "# Manipulação de Listas em Python\n",
    "\n",
    "Este notebook apresenta as principais operações com **listas** em Python. Listas são estruturas de dados fundamentais que permitem armazenar coleções de elementos de forma ordenada e mutável.\n",
    "\n",
    "Aqui você encontrará exemplos práticos de criação, modificação, acesso, métodos úteis e boas práticas para o uso de listas."
   ]
  },
  {
   "cell_type": "markdown",
   "id": "5629b07a",
   "metadata": {},
   "source": [
    "## Criação e Acesso a Listas"
   ]
  },
  {
   "cell_type": "code",
   "execution_count": 1,
   "id": "780c7dc7",
   "metadata": {},
   "outputs": [
    {
     "name": "stdout",
     "output_type": "stream",
     "text": [
      "['maçã', 'banana', 'laranja']\n",
      "maçã\n",
      "laranja\n"
     ]
    }
   ],
   "source": [
    "frutas = [\"maçã\", \"banana\", \"laranja\"]\n",
    "print(frutas)\n",
    "print(frutas[0])   # primeiro elemento\n",
    "print(frutas[-1])  # último elemento"
   ]
  },
  {
   "cell_type": "markdown",
   "id": "6856fb3a",
   "metadata": {},
   "source": [
    "## Modificando Elementos de uma Lista"
   ]
  },
  {
   "cell_type": "code",
   "execution_count": 2,
   "id": "2f35eeaf",
   "metadata": {},
   "outputs": [
    {
     "name": "stdout",
     "output_type": "stream",
     "text": [
      "['maçã', 'abacaxi', 'laranja']\n",
      "['maçã', 'pera', 'abacaxi', 'laranja', 'uva']\n"
     ]
    }
   ],
   "source": [
    "frutas[1] = \"abacaxi\"\n",
    "print(frutas)\n",
    "frutas.append(\"uva\")       # adiciona no final\n",
    "frutas.insert(1, \"pera\")   # insere na posição 1\n",
    "print(frutas)"
   ]
  },
  {
   "cell_type": "markdown",
   "id": "099ea0ca",
   "metadata": {},
   "source": [
    "## Remoção de Elementos"
   ]
  },
  {
   "cell_type": "code",
   "execution_count": 3,
   "id": "12c655c0",
   "metadata": {},
   "outputs": [
    {
     "name": "stdout",
     "output_type": "stream",
     "text": [
      "['maçã', 'abacaxi', 'laranja', 'uva']\n",
      "['maçã', 'abacaxi', 'laranja']\n",
      "['abacaxi', 'laranja']\n"
     ]
    }
   ],
   "source": [
    "frutas.remove(\"pera\")     # remove pelo valor\n",
    "print(frutas)\n",
    "frutas.pop()               # remove o último\n",
    "print(frutas)\n",
    "del frutas[0]              # remove por índice\n",
    "print(frutas)"
   ]
  },
  {
   "cell_type": "markdown",
   "id": "6d77734d",
   "metadata": {},
   "source": [
    "## Iterando sobre Listas"
   ]
  },
  {
   "cell_type": "code",
   "execution_count": 4,
   "id": "a779fdba",
   "metadata": {},
   "outputs": [
    {
     "name": "stdout",
     "output_type": "stream",
     "text": [
      "ABACAXI\n",
      "LARANJA\n"
     ]
    }
   ],
   "source": [
    "for fruta in frutas:\n",
    "    print(fruta.upper())"
   ]
  },
  {
   "cell_type": "markdown",
   "id": "5eac4fc2",
   "metadata": {},
   "source": [
    "## Métodos Úteis de Listas"
   ]
  },
  {
   "cell_type": "code",
   "execution_count": 5,
   "id": "31df24fd",
   "metadata": {},
   "outputs": [
    {
     "name": "stdout",
     "output_type": "stream",
     "text": [
      "5\n",
      "[1, 3, 5, 8, 9]\n",
      "[1, 3, 5, 8, 9]\n",
      "[9, 8, 5, 3, 1]\n",
      "1\n"
     ]
    }
   ],
   "source": [
    "numeros = [5, 3, 8, 1, 9]\n",
    "print(len(numeros))\n",
    "print(sorted(numeros))     # retorna nova lista ordenada\n",
    "numeros.sort()             # ordena a própria lista\n",
    "print(numeros)\n",
    "numeros.reverse()          # inverte a ordem\n",
    "print(numeros)\n",
    "print(numeros.index(8))    # posição do valor"
   ]
  },
  {
   "cell_type": "markdown",
   "id": "c3b20b4b",
   "metadata": {},
   "source": [
    "## Verificações e Operações com `in`"
   ]
  },
  {
   "cell_type": "code",
   "execution_count": 6,
   "id": "794aa803",
   "metadata": {},
   "outputs": [
    {
     "name": "stdout",
     "output_type": "stream",
     "text": [
      "True\n",
      "False\n",
      "1\n"
     ]
    }
   ],
   "source": [
    "print(3 in numeros)     # verifica se existe\n",
    "print(10 in numeros)    # falso\n",
    "print(numeros.count(3)) # conta quantas vezes aparece"
   ]
  },
  {
   "cell_type": "markdown",
   "id": "6969c6a3",
   "metadata": {},
   "source": [
    "## Listas Aninhadas"
   ]
  },
  {
   "cell_type": "code",
   "execution_count": 7,
   "id": "12fd432c",
   "metadata": {},
   "outputs": [
    {
     "name": "stdout",
     "output_type": "stream",
     "text": [
      "[1, 2]\n",
      "2\n"
     ]
    }
   ],
   "source": [
    "matriz = [[1, 2], [3, 4], [5, 6]]\n",
    "print(matriz[0])\n",
    "print(matriz[0][1])  # acessa elemento interno"
   ]
  },
  {
   "cell_type": "markdown",
   "id": "49898fe5",
   "metadata": {},
   "source": [
    "## Compreensão de Listas (List Comprehension)"
   ]
  },
  {
   "cell_type": "code",
   "execution_count": 8,
   "id": "06bb21dd",
   "metadata": {},
   "outputs": [
    {
     "name": "stdout",
     "output_type": "stream",
     "text": [
      "[0, 1, 4, 9, 16, 25]\n"
     ]
    }
   ],
   "source": [
    "quadrados = [x**2 for x in range(6)]\n",
    "print(quadrados)"
   ]
  }
 ],
 "metadata": {
  "kernelspec": {
   "display_name": "Python 3 (ipykernel)",
   "language": "python",
   "name": "python3"
  },
  "language_info": {
   "codemirror_mode": {
    "name": "ipython",
    "version": 3
   },
   "file_extension": ".py",
   "mimetype": "text/x-python",
   "name": "python",
   "nbconvert_exporter": "python",
   "pygments_lexer": "ipython3",
   "version": "3.11.7"
  }
 },
 "nbformat": 4,
 "nbformat_minor": 5
}
