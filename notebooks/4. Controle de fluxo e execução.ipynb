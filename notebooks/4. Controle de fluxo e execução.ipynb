{
 "cells": [
  {
   "cell_type": "markdown",
   "id": "7731f529",
   "metadata": {},
   "source": [
    "# Controle de Fluxo em Python\n",
    "\n",
    "Este notebook apresenta os principais mecanismos de **controle de fluxo** em Python, excluindo funções. Controle de fluxo é a forma como um programa decide **quais instruções executar** e em que ordem.\n",
    "\n",
    "Serão abordados:\n",
    "- Condicionais (`if`, `elif`, `else`)\n",
    "- Laços de repetição (`for`, `while`)\n",
    "- Comandos auxiliares (`break`, `continue`, `pass`)\n",
    "- Uso de `range`, `enumerate` e outros recursos comuns\n"
   ]
  },
  {
   "cell_type": "markdown",
   "id": "468cb530",
   "metadata": {},
   "source": [
    "## Condicionais (`if`, `elif`, `else`)"
   ]
  },
  {
   "cell_type": "code",
   "execution_count": null,
   "id": "ec803701",
   "metadata": {},
   "outputs": [],
   "source": [
    "nota = 7.5\n",
    "if nota >= 9:\n",
    "    print(\"Excelente!\")\n",
    "elif nota >= 6:\n",
    "    print(\"Aprovado.\")\n",
    "else:\n",
    "    print(\"Reprovado.\")"
   ]
  },
  {
   "cell_type": "markdown",
   "id": "d1c60263",
   "metadata": {},
   "source": [
    "### Condições compostas com `and`, `or`, `not`"
   ]
  },
  {
   "cell_type": "code",
   "execution_count": null,
   "id": "94ea4266",
   "metadata": {},
   "outputs": [],
   "source": [
    "idade = 25\n",
    "possui_carteira = True\n",
    "\n",
    "if idade >= 18 and possui_carteira:\n",
    "    print(\"Pode dirigir.\")\n",
    "else:\n",
    "    print(\"Não pode dirigir.\")"
   ]
  },
  {
   "cell_type": "markdown",
   "id": "2e99e18a",
   "metadata": {},
   "source": [
    "## Estruturas de Repetição: `for`"
   ]
  },
  {
   "cell_type": "code",
   "execution_count": null,
   "id": "424569cc",
   "metadata": {},
   "outputs": [],
   "source": [
    "nomes = [\"Ana\", \"Bruno\", \"Carlos\"]\n",
    "for nome in nomes:\n",
    "    print(f\"Olá, {nome}!\")"
   ]
  },
  {
   "cell_type": "markdown",
   "id": "e5ea4282",
   "metadata": {},
   "source": [
    "### Usando `range()` com `for`"
   ]
  },
  {
   "cell_type": "code",
   "execution_count": null,
   "id": "3682d8b9",
   "metadata": {},
   "outputs": [],
   "source": [
    "for i in range(1, 6):\n",
    "    print(f\"Número {i}\")"
   ]
  },
  {
   "cell_type": "markdown",
   "id": "521c9d8d",
   "metadata": {},
   "source": [
    "### Usando `enumerate()` para acessar índice e valor"
   ]
  },
  {
   "cell_type": "code",
   "execution_count": null,
   "id": "404b1765",
   "metadata": {},
   "outputs": [],
   "source": [
    "cores = [\"vermelho\", \"verde\", \"azul\"]\n",
    "for indice, cor in enumerate(cores):\n",
    "    print(f\"{indice}: {cor}\")"
   ]
  },
  {
   "cell_type": "markdown",
   "id": "26718d0c",
   "metadata": {},
   "source": [
    "## Estruturas de Repetição: `while`"
   ]
  },
  {
   "cell_type": "code",
   "execution_count": null,
   "id": "a6305039",
   "metadata": {},
   "outputs": [],
   "source": [
    "contador = 0\n",
    "while contador < 3:\n",
    "    print(f\"Contador: {contador}\")\n",
    "    contador += 1"
   ]
  },
  {
   "cell_type": "markdown",
   "id": "ac385847",
   "metadata": {},
   "source": [
    "## Comandos de Controle: `break` e `continue`"
   ]
  },
  {
   "cell_type": "code",
   "execution_count": null,
   "id": "10205779",
   "metadata": {},
   "outputs": [],
   "source": [
    "# Exemplo com break\n",
    "for i in range(10):\n",
    "    if i == 5:\n",
    "        break\n",
    "    print(i)\n",
    "\n",
    "# Exemplo com continue\n",
    "for i in range(5):\n",
    "    if i == 2:\n",
    "        continue\n",
    "    print(i)"
   ]
  },
  {
   "cell_type": "markdown",
   "id": "dddd8ed3",
   "metadata": {},
   "source": [
    "## Comando `pass` (placeholder)"
   ]
  },
  {
   "cell_type": "code",
   "execution_count": null,
   "id": "f89a7878",
   "metadata": {},
   "outputs": [],
   "source": [
    "for letra in \"python\":\n",
    "    if letra == \"h\":\n",
    "        pass  # não faz nada por enquanto\n",
    "    print(letra)"
   ]
  },
  {
   "cell_type": "markdown",
   "id": "39ab378b",
   "metadata": {},
   "source": [
    "## Estruturas Aninhadas"
   ]
  },
  {
   "cell_type": "code",
   "execution_count": null,
   "id": "b447c87c",
   "metadata": {},
   "outputs": [],
   "source": [
    "for i in range(1, 4):\n",
    "    print(f\"Tabuada do {i}\")\n",
    "    for j in range(1, 4):\n",
    "        print(f\"{i} x {j} = {i * j}\")"
   ]
  }
 ],
 "metadata": {
  "kernelspec": {
   "display_name": "Python 3 (ipykernel)",
   "language": "python",
   "name": "python3"
  },
  "language_info": {
   "codemirror_mode": {
    "name": "ipython",
    "version": 3
   },
   "file_extension": ".py",
   "mimetype": "text/x-python",
   "name": "python",
   "nbconvert_exporter": "python",
   "pygments_lexer": "ipython3",
   "version": "3.11.7"
  }
 },
 "nbformat": 4,
 "nbformat_minor": 5
}
