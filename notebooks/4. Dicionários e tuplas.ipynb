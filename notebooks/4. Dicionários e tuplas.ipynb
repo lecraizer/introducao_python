{
 "cells": [
  {
   "cell_type": "markdown",
   "id": "632a0697-66dd-4ed5-af33-1919bbfaa2e2",
   "metadata": {},
   "source": [
    "#### Listas com 'in' e 'not in'"
   ]
  },
  {
   "cell_type": "code",
   "execution_count": 2,
   "id": "8abd85c7-0e7d-4b2b-948b-3e9366fbdc51",
   "metadata": {},
   "outputs": [
    {
     "data": {
      "text/plain": [
       "True"
      ]
     },
     "execution_count": 2,
     "metadata": {},
     "output_type": "execute_result"
    }
   ],
   "source": [
    "3 in [1,2,3]"
   ]
  },
  {
   "cell_type": "code",
   "execution_count": 3,
   "id": "a84e07a9-5184-49be-b1d1-b6271df0a444",
   "metadata": {},
   "outputs": [
    {
     "data": {
      "text/plain": [
       "False"
      ]
     },
     "execution_count": 3,
     "metadata": {},
     "output_type": "execute_result"
    }
   ],
   "source": [
    "3 not in [1,2,3]"
   ]
  },
  {
   "cell_type": "code",
   "execution_count": 4,
   "id": "40f69550-fc02-463e-8a76-a8e4562bb734",
   "metadata": {},
   "outputs": [
    {
     "data": {
      "text/plain": [
       "True"
      ]
     },
     "execution_count": 4,
     "metadata": {},
     "output_type": "execute_result"
    }
   ],
   "source": [
    "['a'] not in ['a', 'b', 'c', 'd', 'e']"
   ]
  },
  {
   "cell_type": "code",
   "execution_count": 5,
   "id": "45ae39b5-4a5b-451c-bdd3-370155c7a56b",
   "metadata": {},
   "outputs": [
    {
     "data": {
      "text/plain": [
       "False"
      ]
     },
     "execution_count": 5,
     "metadata": {},
     "output_type": "execute_result"
    }
   ],
   "source": [
    "['a'] in [['a', 'b'], ['c', 'd', 'e']]"
   ]
  },
  {
   "cell_type": "code",
   "execution_count": 6,
   "id": "7b0599e7-f8ba-4a7c-bff8-50e53cb058fa",
   "metadata": {
    "scrolled": true
   },
   "outputs": [
    {
     "data": {
      "text/plain": [
       "True"
      ]
     },
     "execution_count": 6,
     "metadata": {},
     "output_type": "execute_result"
    }
   ],
   "source": [
    "['a'] in [['a'], ['b'], ['c', 'd', 'e']]"
   ]
  },
  {
   "cell_type": "markdown",
   "id": "e3121414-fa3e-46a9-804f-e0134a23b477",
   "metadata": {},
   "source": [
    "#### Condicionais com 'and' e 'or'"
   ]
  },
  {
   "cell_type": "code",
   "execution_count": 7,
   "id": "b8302836-a0ed-4750-94dc-f4a4de62b208",
   "metadata": {},
   "outputs": [],
   "source": [
    "imprimir = \"sim\"  # mude os valores de imprimir e papel \n",
    "papel = \"sim\"     # e observe o que acontece."
   ]
  },
  {
   "cell_type": "code",
   "execution_count": 8,
   "id": "b01259b0-bdce-4174-8639-a7d9868df9b2",
   "metadata": {},
   "outputs": [
    {
     "name": "stdout",
     "output_type": "stream",
     "text": [
      "Vamos imprimir\n"
     ]
    }
   ],
   "source": [
    "if imprimir == \"sim\" and papel == \"sim\":\n",
    "    print(\"Vamos imprimir\")\n",
    "else:\n",
    "    print(\"Não vamos imprimir\")"
   ]
  },
  {
   "cell_type": "code",
   "execution_count": 9,
   "id": "66784b2c-32e0-452d-8b68-3bec7a1b8a67",
   "metadata": {},
   "outputs": [
    {
     "name": "stdout",
     "output_type": "stream",
     "text": [
      "Vamos imprimir\n"
     ]
    }
   ],
   "source": [
    "imprimir = \"sim\"  # mude os valores de imprimir e papel\n",
    "papel = \"sim\"     # e observe o que acontece.\n",
    "if imprimir == \"sim\" or papel == \"sim\":\n",
    "    print(\"Vamos imprimir\")\n",
    "else:\n",
    "    print(\"Não vamos imprimir\")"
   ]
  },
  {
   "cell_type": "markdown",
   "id": "561ecd73-ddc1-485b-a276-20644f0eba8d",
   "metadata": {},
   "source": [
    "Imprimir par de números de 0 a 5 cuja soma é múltiplo de 3 ou de 4"
   ]
  },
  {
   "cell_type": "code",
   "execution_count": 10,
   "id": "c323dfc9-8d56-428b-8788-69400084a2aa",
   "metadata": {},
   "outputs": [
    {
     "name": "stdout",
     "output_type": "stream",
     "text": [
      "0 0\n",
      "0 3\n",
      "0 4\n",
      "1 2\n",
      "1 3\n",
      "2 1\n",
      "2 2\n",
      "2 4\n",
      "3 0\n",
      "3 1\n",
      "3 3\n",
      "4 0\n",
      "4 2\n",
      "4 4\n"
     ]
    }
   ],
   "source": [
    "for i in range(5):\n",
    "    for j in range(5):\n",
    "        if ( (i+j) % 3 == 0 ) or ( (i+j) % 4 == 0 ):\n",
    "            print(i,j)"
   ]
  },
  {
   "cell_type": "code",
   "execution_count": 11,
   "id": "246e0bbd-e470-4e58-a094-1e6a668abdcf",
   "metadata": {},
   "outputs": [
    {
     "name": "stdout",
     "output_type": "stream",
     "text": [
      "Par 1: (0, 0)\n",
      "Par 2: (0, 3)\n",
      "Par 3: (0, 4)\n",
      "Par 4: (1, 2)\n",
      "Par 5: (1, 3)\n",
      "Par 6: (2, 1)\n",
      "Par 7: (2, 2)\n",
      "Par 8: (2, 4)\n",
      "Par 9: (3, 0)\n",
      "Par 10: (3, 1)\n",
      "Par 11: (3, 3)\n",
      "Par 12: (4, 0)\n",
      "Par 13: (4, 2)\n",
      "Par 14: (4, 4)\n"
     ]
    }
   ],
   "source": [
    "# E se quiser imprimir assim: \n",
    "# Par 1: (i, j)\n",
    "# Par 2: ...\n",
    "\n",
    "count = 0\n",
    "for i in range(5):\n",
    "    for j in range(5):\n",
    "        if ( (i+j) % 3 == 0 ) or ( (i+j) % 4 == 0 ):\n",
    "            print(f'Par {count+1}: {(i, j)}')\n",
    "            count += 1"
   ]
  },
  {
   "cell_type": "markdown",
   "id": "f60882b2-3846-4d33-9525-4dd21d1a5356",
   "metadata": {},
   "source": [
    "#### Enumerate"
   ]
  },
  {
   "cell_type": "code",
   "execution_count": 12,
   "id": "cd93ff69-7066-4e82-b0e1-e5f76bb76a83",
   "metadata": {},
   "outputs": [
    {
     "name": "stdout",
     "output_type": "stream",
     "text": [
      "Index: 0, elemento: 22\n",
      "Index: 1, elemento: 65\n",
      "Index: 2, elemento: 14\n",
      "Index: 3, elemento: 54\n",
      "Index: 4, elemento: 10\n"
     ]
    }
   ],
   "source": [
    "lista = [22, 65, 14, 54, 10]\n",
    "for k, elem in enumerate(lista):\n",
    "    print(f'Index: {k}, elemento: {elem}')"
   ]
  },
  {
   "cell_type": "markdown",
   "id": "699b9f1f-43fa-4af3-9e2d-db40c8dad875",
   "metadata": {},
   "source": [
    "### Set"
   ]
  },
  {
   "cell_type": "code",
   "execution_count": 13,
   "id": "6a03ca6a-8a44-4a3d-bf88-0396d98e177b",
   "metadata": {},
   "outputs": [
    {
     "data": {
      "text/plain": [
       "{10, 14, 22, 54, 65}"
      ]
     },
     "execution_count": 13,
     "metadata": {},
     "output_type": "execute_result"
    }
   ],
   "source": [
    "set(lista)"
   ]
  },
  {
   "cell_type": "code",
   "execution_count": 14,
   "id": "76167a94-6533-4030-a4ca-1888bb8dbee5",
   "metadata": {},
   "outputs": [
    {
     "data": {
      "text/plain": [
       "{3, 5, 7, 8, 10, 11, 13, 55}"
      ]
     },
     "execution_count": 14,
     "metadata": {},
     "output_type": "execute_result"
    }
   ],
   "source": [
    "nova_lista = [3,3,5,7,8,8,10,3,5,10,10,11,13,8,55,5]\n",
    "set(nova_lista)"
   ]
  },
  {
   "cell_type": "markdown",
   "id": "75a58bcd-dffb-4123-b24c-6cf208d60bcd",
   "metadata": {},
   "source": [
    "#### Transformando tipos"
   ]
  },
  {
   "cell_type": "code",
   "execution_count": 15,
   "id": "f1b1eb26-16f0-4aa5-9a81-dab694fd50a1",
   "metadata": {},
   "outputs": [
    {
     "data": {
      "text/plain": [
       "[3, 5, 7, 8, 10, 11, 13, 55]"
      ]
     },
     "execution_count": 15,
     "metadata": {},
     "output_type": "execute_result"
    }
   ],
   "source": [
    "nova_lista = list(set(nova_lista))\n",
    "nova_lista"
   ]
  },
  {
   "cell_type": "code",
   "execution_count": 16,
   "id": "f91a49e0-f6d3-493b-9ffc-8a18d1a8bbef",
   "metadata": {},
   "outputs": [
    {
     "data": {
      "text/plain": [
       "'[1, 2, 3, 4]'"
      ]
     },
     "execution_count": 16,
     "metadata": {},
     "output_type": "execute_result"
    }
   ],
   "source": [
    "str([1, 2, 3, 4])"
   ]
  },
  {
   "cell_type": "code",
   "execution_count": 17,
   "id": "a0e5a61b-4329-42d5-9df6-6d4a4abfa5cf",
   "metadata": {},
   "outputs": [
    {
     "data": {
      "text/plain": [
       "2"
      ]
     },
     "execution_count": 17,
     "metadata": {},
     "output_type": "execute_result"
    }
   ],
   "source": [
    "int('2')"
   ]
  },
  {
   "cell_type": "code",
   "execution_count": 18,
   "id": "60a16214-0cbb-48f1-8639-2df1e8187ad0",
   "metadata": {},
   "outputs": [
    {
     "data": {
      "text/plain": [
       "1.0"
      ]
     },
     "execution_count": 18,
     "metadata": {},
     "output_type": "execute_result"
    }
   ],
   "source": [
    "float(1)"
   ]
  },
  {
   "cell_type": "code",
   "execution_count": 19,
   "id": "9585a305-bc85-4945-931f-3f36bad4fdc8",
   "metadata": {},
   "outputs": [
    {
     "data": {
      "text/plain": [
       "1"
      ]
     },
     "execution_count": 19,
     "metadata": {},
     "output_type": "execute_result"
    }
   ],
   "source": [
    "int(7/6)"
   ]
  },
  {
   "cell_type": "code",
   "execution_count": 24,
   "id": "976ea1b5-4684-4cbe-b4b8-b98d1f680b6b",
   "metadata": {},
   "outputs": [
    {
     "data": {
      "text/plain": [
       "[22, 65, 14, 54, 10]"
      ]
     },
     "execution_count": 24,
     "metadata": {},
     "output_type": "execute_result"
    }
   ],
   "source": [
    "lista"
   ]
  },
  {
   "cell_type": "code",
   "execution_count": 26,
   "id": "5516e74b-c630-432d-99f3-2b677de5ed72",
   "metadata": {},
   "outputs": [
    {
     "data": {
      "text/plain": [
       "[10, 54, 14, 65, 22]"
      ]
     },
     "execution_count": 26,
     "metadata": {},
     "output_type": "execute_result"
    }
   ],
   "source": [
    "lista[::-1]"
   ]
  },
  {
   "cell_type": "code",
   "execution_count": 35,
   "id": "8f55b492-bc25-42c6-b687-9560e53f1653",
   "metadata": {},
   "outputs": [
    {
     "name": "stdout",
     "output_type": "stream",
     "text": [
      "5\n",
      "4\n",
      "3\n",
      "2\n"
     ]
    }
   ],
   "source": [
    "for i in range(5, 1, -1):\n",
    "    print(i)"
   ]
  },
  {
   "cell_type": "code",
   "execution_count": null,
   "id": "edb23d9d-535f-498a-aa40-20de2e583d58",
   "metadata": {},
   "outputs": [],
   "source": []
  },
  {
   "cell_type": "markdown",
   "id": "7edefa47-65f8-467d-8e19-b4081973d298",
   "metadata": {},
   "source": [
    "## Dicionários"
   ]
  },
  {
   "cell_type": "markdown",
   "id": "4cf4254b-1bf7-420c-9444-7430fd4c9210",
   "metadata": {},
   "source": [
    "Não mantêm a ordem"
   ]
  },
  {
   "cell_type": "markdown",
   "id": "04aac5e5-82d1-40fc-91ea-34666ac090e0",
   "metadata": {},
   "source": [
    "<img src=\"https://s3-api.us-geo.objectstorage.softlayer.net/cf-courses-data/CognitiveClass/PY0101EN/Chapter%202/Images/DictsList.png\" width=\"650\" />"
   ]
  },
  {
   "cell_type": "code",
   "execution_count": 34,
   "id": "b232d9d2-5e8b-4a10-927c-6e9b34766e0b",
   "metadata": {},
   "outputs": [
    {
     "data": {
      "text/plain": [
       "{'Thriller': '1982',\n",
       " 'Back in Black': '1980',\n",
       " 'The Dark Side of the Moon': '1973',\n",
       " 'The Bodyguard': '1992',\n",
       " 'Bat Out of Hell': '1977',\n",
       " 'Their Greatest Hits (1971-1975)': '1976',\n",
       " 'Saturday Night Fever': '1977',\n",
       " 'Rumours': '1977'}"
      ]
     },
     "execution_count": 34,
     "metadata": {},
     "output_type": "execute_result"
    }
   ],
   "source": [
    "release_year_dict = {\"Thriller\": \"1982\", \"Back in Black\": \"1980\", \\\n",
    "                    \"The Dark Side of the Moon\": \"1973\", \"The Bodyguard\": \"1992\", \\\n",
    "                    \"Bat Out of Hell\": \"1977\", \"Their Greatest Hits (1971-1975)\": \"1976\", \\\n",
    "                    \"Saturday Night Fever\": \"1977\", \"Rumours\": \"1977\"}\n",
    "release_year_dict"
   ]
  },
  {
   "cell_type": "code",
   "execution_count": 43,
   "id": "c139832d-fd1f-444b-a39d-66deae779e40",
   "metadata": {},
   "outputs": [
    {
     "data": {
      "text/plain": [
       "'1982'"
      ]
     },
     "execution_count": 43,
     "metadata": {},
     "output_type": "execute_result"
    }
   ],
   "source": [
    "# release_year_dict.get('Thriller')\n",
    "release_year_dict['Thriller']"
   ]
  },
  {
   "cell_type": "code",
   "execution_count": 36,
   "id": "b4c28cda-b3a7-42cd-a433-f3840ce55508",
   "metadata": {},
   "outputs": [
    {
     "data": {
      "text/plain": [
       "dict_keys(['Thriller', 'Back in Black', 'The Dark Side of the Moon', 'The Bodyguard', 'Bat Out of Hell', 'Their Greatest Hits (1971-1975)', 'Saturday Night Fever', 'Rumours'])"
      ]
     },
     "execution_count": 36,
     "metadata": {},
     "output_type": "execute_result"
    }
   ],
   "source": [
    "# Get all the keys in dictionary\n",
    "release_year_dict.keys() "
   ]
  },
  {
   "cell_type": "code",
   "execution_count": 37,
   "id": "c9188b49-ea35-4178-badf-fb6cae5c053a",
   "metadata": {},
   "outputs": [
    {
     "data": {
      "text/plain": [
       "dict_values(['1982', '1980', '1973', '1992', '1977', '1976', '1977', '1977'])"
      ]
     },
     "execution_count": 37,
     "metadata": {},
     "output_type": "execute_result"
    }
   ],
   "source": [
    "# Get all the values in dictionary\n",
    "release_year_dict.values() "
   ]
  },
  {
   "cell_type": "code",
   "execution_count": 50,
   "id": "4a4ea003-e88e-4a17-89e5-5663edb649b3",
   "metadata": {},
   "outputs": [
    {
     "data": {
      "text/plain": [
       "dict_items([('Thriller', '1982'), ('Back in Black', '1980'), ('The Dark Side of the Moon', '1973'), ('The Bodyguard', '1992'), ('Bat Out of Hell', '1977'), ('Their Greatest Hits (1971-1975)', '1976'), ('Saturday Night Fever', '1977'), ('Rumours', '1977'), ('Graduation', '2007')])"
      ]
     },
     "execution_count": 50,
     "metadata": {},
     "output_type": "execute_result"
    }
   ],
   "source": [
    "# Get all items (tuples)\n",
    "release_year_dict.items()"
   ]
  },
  {
   "cell_type": "code",
   "execution_count": 39,
   "id": "e481ab29-56d2-4fed-af3e-3fd089fe8c08",
   "metadata": {},
   "outputs": [
    {
     "data": {
      "text/plain": [
       "{'Thriller': '1982',\n",
       " 'Back in Black': '1980',\n",
       " 'The Dark Side of the Moon': '1973',\n",
       " 'The Bodyguard': '1992',\n",
       " 'Bat Out of Hell': '1977',\n",
       " 'Their Greatest Hits (1971-1975)': '1976',\n",
       " 'Saturday Night Fever': '1977',\n",
       " 'Rumours': '1977',\n",
       " 'Graduation': '2007'}"
      ]
     },
     "execution_count": 39,
     "metadata": {},
     "output_type": "execute_result"
    }
   ],
   "source": [
    "# Append value with key into dictionary\n",
    "release_year_dict['Graduation'] = '2007'\n",
    "release_year_dict"
   ]
  },
  {
   "cell_type": "code",
   "execution_count": 40,
   "id": "a1647ebc-5fce-4d06-8122-f051305c5376",
   "metadata": {},
   "outputs": [
    {
     "data": {
      "text/plain": [
       "True"
      ]
     },
     "execution_count": 40,
     "metadata": {},
     "output_type": "execute_result"
    }
   ],
   "source": [
    "'The Bodyguard' in release_year_dict"
   ]
  },
  {
   "cell_type": "code",
   "execution_count": 48,
   "id": "0042e735-df26-4f39-9ce9-55724f063255",
   "metadata": {},
   "outputs": [
    {
     "data": {
      "text/plain": [
       "'Bat Out of Hell'"
      ]
     },
     "execution_count": 48,
     "metadata": {},
     "output_type": "execute_result"
    }
   ],
   "source": [
    "for k, v in release_year_dict.items():\n",
    "    if v == \"1977\":\n",
    "        key = k\n",
    "        break\n",
    "key"
   ]
  },
  {
   "cell_type": "code",
   "execution_count": 51,
   "id": "8da53e96-ba0d-4b6b-8675-2315d9920db0",
   "metadata": {},
   "outputs": [
    {
     "data": {
      "text/plain": [
       "{'a': 5, 'b': 10}"
      ]
     },
     "execution_count": 51,
     "metadata": {},
     "output_type": "execute_result"
    }
   ],
   "source": [
    "# Create new dictionary\n",
    "d = {}\n",
    "d['a'] = 5\n",
    "d['b'] = 10\n",
    "d"
   ]
  },
  {
   "cell_type": "markdown",
   "id": "df664442-c716-4c59-a283-d0d71ed6de9f",
   "metadata": {},
   "source": [
    "Nested dictionaries"
   ]
  },
  {
   "cell_type": "code",
   "execution_count": 10,
   "id": "18232a3f-b49e-4d5a-b7a6-da076662be8e",
   "metadata": {},
   "outputs": [],
   "source": [
    "favorite_numbers = {'eric': [3, 11, 19, 23, 42],\n",
    "                    'ever': [2, 4, 5],\n",
    "                    'willie': [5, 35, 120],\n",
    "                    }"
   ]
  },
  {
   "cell_type": "markdown",
   "id": "d7c4b5d9-8ec5-4c06-9b34-41c936716585",
   "metadata": {},
   "source": [
    "## Tuplas"
   ]
  },
  {
   "cell_type": "code",
   "execution_count": 52,
   "id": "dac74480-1378-46d0-8daa-b5bde6bc0221",
   "metadata": {},
   "outputs": [],
   "source": [
    "a, b, c = (1, 2, 3)  # Tuple unpacking\n",
    "x, y, z = [4, 5, 6]  # List unpacking"
   ]
  },
  {
   "cell_type": "code",
   "execution_count": 54,
   "id": "4f956878-723b-4644-94b3-0a7cf587d0f5",
   "metadata": {},
   "outputs": [
    {
     "name": "stdout",
     "output_type": "stream",
     "text": [
      "The sentence has 1 characters and the last word is: 2\n"
     ]
    }
   ],
   "source": [
    "print(\"The sentence has {} characters and the last word is: {}\".format(a,b))"
   ]
  },
  {
   "cell_type": "code",
   "execution_count": 56,
   "id": "92110acc-a52c-44f7-a1f5-d36904471bbf",
   "metadata": {},
   "outputs": [
    {
     "data": {
      "text/plain": [
       "[2, 3, 5, 6, 12, 20]"
      ]
     },
     "execution_count": 56,
     "metadata": {},
     "output_type": "execute_result"
    }
   ],
   "source": [
    "sorted([6,3,12,20,5,2])"
   ]
  },
  {
   "cell_type": "markdown",
   "id": "e5a18ca5-302f-435f-806f-79c38b9b936a",
   "metadata": {},
   "source": [
    "## Exercícios"
   ]
  },
  {
   "cell_type": "markdown",
   "id": "f1403e2f-2f4b-4ddc-85e3-c0e5d4f9299e",
   "metadata": {},
   "source": [
    "#### 1. Trocar as chaves pelos valores em um dicionário"
   ]
  },
  {
   "cell_type": "code",
   "execution_count": 1,
   "id": "d867c742-3c71-4584-8840-889c0db62f71",
   "metadata": {},
   "outputs": [
    {
     "name": "stdout",
     "output_type": "stream",
     "text": [
      "Dicionário invertido: {1: 'a', 2: 'b', 3: 'c'}\n"
     ]
    }
   ],
   "source": [
    "dicionario = {'a': 1, 'b': 2, 'c': 3}\n",
    "inverso = {}\n",
    "\n",
    "for chave, valor in dicionario.items():\n",
    "    inverso[valor] = chave\n",
    "\n",
    "print(\"Dicionário invertido:\", inverso)"
   ]
  },
  {
   "cell_type": "markdown",
   "id": "6c4e5313-ced4-4e0b-8ace-1212bd68bf32",
   "metadata": {},
   "source": [
    "#### 2. Contar a frequência de palavras em uma lista de tuplas"
   ]
  },
  {
   "cell_type": "code",
   "execution_count": 2,
   "id": "43f02370-259e-463f-9551-430cfd9aa2c5",
   "metadata": {},
   "outputs": [
    {
     "name": "stdout",
     "output_type": "stream",
     "text": [
      "Frequência das palavras: {'maçã': 4, 'banana': 2, 'laranja': 1}\n"
     ]
    }
   ],
   "source": [
    "tuplas = [('maçã', 1), ('banana', 2), ('maçã', 3), ('laranja', 1)]\n",
    "frequencia = {}\n",
    "\n",
    "for palavra, contagem in tuplas:\n",
    "    if palavra in frequencia:\n",
    "        frequencia[palavra] += contagem\n",
    "    else:\n",
    "        frequencia[palavra] = contagem\n",
    "\n",
    "print(\"Frequência das palavras:\", frequencia)"
   ]
  },
  {
   "cell_type": "markdown",
   "id": "f91f15c6-2933-43a6-8c7d-d1adb966cd06",
   "metadata": {},
   "source": [
    "#### 3. Ordenar um dicionário por valor"
   ]
  },
  {
   "cell_type": "code",
   "execution_count": 3,
   "id": "62221aa5-b65d-44e7-afa5-032d602fa2c9",
   "metadata": {},
   "outputs": [
    {
     "name": "stdout",
     "output_type": "stream",
     "text": [
      "Dicionário ordenado: [('banana', 20), ('laranja', 30), ('maçã', 50)]\n"
     ]
    }
   ],
   "source": [
    "dicionario = {'maçã': 50, 'banana': 20, 'laranja': 30}\n",
    "itens_ordenados = []\n",
    "\n",
    "for chave, valor in dicionario.items():\n",
    "    if not itens_ordenados:\n",
    "        itens_ordenados.append((chave, valor))\n",
    "    else:\n",
    "        inserido = False\n",
    "        for i in range(len(itens_ordenados)):\n",
    "            if valor < itens_ordenados[i][1]:\n",
    "                itens_ordenados.insert(i, (chave, valor))\n",
    "                inserido = True\n",
    "                break\n",
    "        if not inserido:\n",
    "            itens_ordenados.append((chave, valor))\n",
    "\n",
    "print(\"Dicionário ordenado:\", itens_ordenados)"
   ]
  }
 ],
 "metadata": {
  "kernelspec": {
   "display_name": "Python 3 (ipykernel)",
   "language": "python",
   "name": "python3"
  },
  "language_info": {
   "codemirror_mode": {
    "name": "ipython",
    "version": 3
   },
   "file_extension": ".py",
   "mimetype": "text/x-python",
   "name": "python",
   "nbconvert_exporter": "python",
   "pygments_lexer": "ipython3",
   "version": "3.11.7"
  }
 },
 "nbformat": 4,
 "nbformat_minor": 5
}
