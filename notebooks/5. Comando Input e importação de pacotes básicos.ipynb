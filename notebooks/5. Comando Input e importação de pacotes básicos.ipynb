{
 "cells": [
  {
   "cell_type": "markdown",
   "id": "8d0461c5-0cc4-4f0d-b027-2102526b02c8",
   "metadata": {},
   "source": [
    "### Usando o comando \"input\""
   ]
  },
  {
   "cell_type": "code",
   "execution_count": 12,
   "id": "bb452670-914a-4a56-889f-53704b00d9a3",
   "metadata": {},
   "outputs": [
    {
     "name": "stdin",
     "output_type": "stream",
     "text": [
      "Insira o primeiro número:  5\n",
      "Insira o segundo número:  3\n"
     ]
    }
   ],
   "source": [
    "# Solicita ao usuário que insira dois números\n",
    "num1 = input(\"Insira o primeiro número: \")\n",
    "num2 = input(\"Insira o segundo número: \")"
   ]
  },
  {
   "cell_type": "code",
   "execution_count": 13,
   "id": "6c2a23dc-f28d-4b97-8692-8dd46df5ab91",
   "metadata": {},
   "outputs": [
    {
     "name": "stdin",
     "output_type": "stream",
     "text": [
      "Digite dois números separados por espaço:  1 2\n"
     ]
    },
    {
     "name": "stdout",
     "output_type": "stream",
     "text": [
      "O produto de 1 e 2 é 2.\n"
     ]
    }
   ],
   "source": [
    "valores = input(\"Digite dois números separados por espaço: \").split()\n",
    "\n",
    "# Converte os valores para inteiros\n",
    "numero1 = int(valores[0])\n",
    "numero2 = int(valores[1])\n",
    "\n",
    "print(f\"O produto de {numero1} e {numero2} é {numero1 * numero2}.\")"
   ]
  },
  {
   "cell_type": "code",
   "execution_count": 38,
   "id": "46231d97-f6ac-4b39-8da2-5db0bacf5221",
   "metadata": {},
   "outputs": [
    {
     "name": "stdin",
     "output_type": "stream",
     "text": [
      "Digite dois números separados por espaço:  -1 2\n"
     ]
    },
    {
     "name": "stdout",
     "output_type": "stream",
     "text": [
      "O produto de 1 e 2 é 2.\n"
     ]
    }
   ],
   "source": [
    "valores = input(\"Digite dois números separados por espaço: \").split()\n",
    "\n",
    "# Converte os valores para inteiros\n",
    "numero1 = abs(int(valores[0]))\n",
    "numero2 = abs(int(valores[1]))\n",
    "\n",
    "print(f\"O produto de {numero1} e {numero2} é {numero1 * numero2}.\")"
   ]
  },
  {
   "cell_type": "code",
   "execution_count": 14,
   "id": "d0b3f624-096f-4e53-8d5b-bbb495419eb7",
   "metadata": {},
   "outputs": [
    {
     "name": "stdin",
     "output_type": "stream",
     "text": [
      "Você gosta de programação? (sim/não):  sim\n"
     ]
    },
    {
     "name": "stdout",
     "output_type": "stream",
     "text": [
      "Que ótimo! Continue aprendendo!\n"
     ]
    }
   ],
   "source": [
    "resposta = input(\"Você gosta de programação? (sim/não): \").lower()\n",
    "\n",
    "if resposta == 'sim':\n",
    "    print(\"Que ótimo! Continue aprendendo!\")\n",
    "else:\n",
    "    print(\"Que pena! Talvez você encontre algo que goste mais.\")"
   ]
  },
  {
   "cell_type": "code",
   "execution_count": 15,
   "id": "50009c9e-4e84-4b67-bb1e-91033f008c7a",
   "metadata": {},
   "outputs": [
    {
     "name": "stdin",
     "output_type": "stream",
     "text": [
      "Digite seu nome:  luis\n",
      "Digite sua idade:  35\n",
      "Digite seu email:  **@gmail.com\n"
     ]
    },
    {
     "name": "stdout",
     "output_type": "stream",
     "text": [
      "\n",
      "Confirmação do Cadastro:\n",
      "Nome: luis\n",
      "Idade: 35\n",
      "Email: **@gmail.com\n"
     ]
    }
   ],
   "source": [
    "nome = input(\"Digite seu nome: \")\n",
    "idade = int(input(\"Digite sua idade: \"))\n",
    "email = input(\"Digite seu email: \")\n",
    "\n",
    "print(f\"\\nConfirmação do Cadastro:\\nNome: {nome}\\nIdade: {idade}\\nEmail: {email}\")"
   ]
  },
  {
   "cell_type": "code",
   "execution_count": 16,
   "id": "2aa0df9e-c22f-42c1-906c-edd7a11b9b6f",
   "metadata": {},
   "outputs": [
    {
     "name": "stdin",
     "output_type": "stream",
     "text": [
      "Escolha uma opção (1 - Continuar, 2 - Sair):  1\n"
     ]
    },
    {
     "name": "stdout",
     "output_type": "stream",
     "text": [
      "Você escolheu continuar.\n"
     ]
    }
   ],
   "source": [
    "opcao = input(\"Escolha uma opção (1 - Continuar, 2 - Sair): \")\n",
    "\n",
    "if opcao == \"1\":\n",
    "    print(\"Você escolheu continuar.\")\n",
    "elif opcao == \"2\":\n",
    "    print(\"Você escolheu sair.\")\n",
    "else:\n",
    "    print(\"Opção inválida.\")"
   ]
  },
  {
   "cell_type": "markdown",
   "id": "17374cd0-0f85-405d-af14-0a90309ea32e",
   "metadata": {},
   "source": [
    "### Importando qualquer pacote"
   ]
  },
  {
   "cell_type": "code",
   "execution_count": 17,
   "id": "b37e28e3-5f84-4769-b423-715d49c5f397",
   "metadata": {},
   "outputs": [],
   "source": [
    "import os\n",
    "import sys\n",
    "\n",
    "import matplotlib\n",
    "import numpy as np\n",
    "import pandas as pd"
   ]
  },
  {
   "cell_type": "code",
   "execution_count": 18,
   "id": "acb771d5-b78f-48eb-8d0d-ff693d857c09",
   "metadata": {},
   "outputs": [
    {
     "data": {
      "text/plain": [
       "'/home/lecraizer/Work/INFNET/Introdução à linguagem python/Notebooks - Aulas'"
      ]
     },
     "execution_count": 18,
     "metadata": {},
     "output_type": "execute_result"
    }
   ],
   "source": [
    "os.getcwd()"
   ]
  },
  {
   "cell_type": "code",
   "execution_count": 19,
   "id": "4c88e58c-cd5d-497d-95b2-94cf7816e4ee",
   "metadata": {},
   "outputs": [
    {
     "data": {
      "text/plain": [
       "50"
      ]
     },
     "execution_count": 19,
     "metadata": {},
     "output_type": "execute_result"
    }
   ],
   "source": [
    "sys.getsizeof(num1)"
   ]
  },
  {
   "cell_type": "markdown",
   "id": "368836cf-e42b-4a22-8e32-5042a1c03c01",
   "metadata": {},
   "source": [
    "### Importando o pacote Time"
   ]
  },
  {
   "cell_type": "code",
   "execution_count": 20,
   "id": "ff2975ed-fc91-4c64-9ddd-a7ec239ff4b8",
   "metadata": {},
   "outputs": [],
   "source": [
    "import time"
   ]
  },
  {
   "cell_type": "code",
   "execution_count": 21,
   "id": "749626d4-aa9c-41a3-8fd1-f36e322e7752",
   "metadata": {},
   "outputs": [
    {
     "name": "stdout",
     "output_type": "stream",
     "text": [
      "Hora atual estruturada: time.struct_time(tm_year=2024, tm_mon=10, tm_mday=22, tm_hour=14, tm_min=23, tm_sec=41, tm_wday=1, tm_yday=296, tm_isdst=0)\n"
     ]
    }
   ],
   "source": [
    "hora_atual = time.time()\n",
    "hora_atual = time.localtime(hora_atual)\n",
    "print(\"Hora atual estruturada:\", hora_atual)"
   ]
  },
  {
   "cell_type": "code",
   "execution_count": 22,
   "id": "287df9c9-5cf6-455e-9023-e5e4a8d32d54",
   "metadata": {},
   "outputs": [
    {
     "data": {
      "text/plain": [
       "41"
      ]
     },
     "execution_count": 22,
     "metadata": {},
     "output_type": "execute_result"
    }
   ],
   "source": [
    "hora_atual.tm_sec"
   ]
  },
  {
   "cell_type": "code",
   "execution_count": 23,
   "id": "0aae9d81-aea9-4df3-9d0e-c3d25d0931a1",
   "metadata": {},
   "outputs": [
    {
     "data": {
      "text/plain": [
       "'14:23:41'"
      ]
     },
     "execution_count": 23,
     "metadata": {},
     "output_type": "execute_result"
    }
   ],
   "source": [
    "hora_formatada = time.strftime(\"%H:%M:%S\", hora_atual)\n",
    "hora_formatada"
   ]
  },
  {
   "cell_type": "code",
   "execution_count": 24,
   "id": "2ef2dbf0-914b-418d-8264-68c0c9ded466",
   "metadata": {},
   "outputs": [
    {
     "name": "stdout",
     "output_type": "stream",
     "text": [
      "O tempo total de execução do programa é de 2.18 segundos\n"
     ]
    }
   ],
   "source": [
    "start_time = time.time()\n",
    "lista = []\n",
    "for i in range(50000000):\n",
    "    if i % 20000 == 0:\n",
    "        lista.append(i)\n",
    "\n",
    "end_time = time.time()\n",
    "total_time = end_time - start_time\n",
    "\n",
    "total_time = round(total_time, 2)\n",
    "\n",
    "print(f'O tempo total de execução do programa é de {total_time} segundos')"
   ]
  },
  {
   "cell_type": "markdown",
   "id": "78319e00-05cc-4a82-b7c4-0db880380349",
   "metadata": {},
   "source": [
    "### Importando o pacote Random"
   ]
  },
  {
   "cell_type": "code",
   "execution_count": 6,
   "id": "5968fb83-2ff5-419f-82e6-1cb4526ccce6",
   "metadata": {},
   "outputs": [],
   "source": [
    "import random"
   ]
  },
  {
   "cell_type": "code",
   "execution_count": 26,
   "id": "3fc3f556-95dd-4bee-bd0f-459e9a82b7c2",
   "metadata": {},
   "outputs": [
    {
     "data": {
      "text/plain": [
       "0.20308549137854526"
      ]
     },
     "execution_count": 26,
     "metadata": {},
     "output_type": "execute_result"
    }
   ],
   "source": [
    "random.random()"
   ]
  },
  {
   "cell_type": "code",
   "execution_count": 27,
   "id": "990617da-c7a2-441c-b7be-f0a6e897d066",
   "metadata": {},
   "outputs": [
    {
     "name": "stdout",
     "output_type": "stream",
     "text": [
      "Número aleatório entre 0 e 1: 0.7211806480088858\n"
     ]
    }
   ],
   "source": [
    "print(\"Número aleatório entre 0 e 1:\", random.random())"
   ]
  },
  {
   "cell_type": "code",
   "execution_count": 28,
   "id": "a0044c68-bd44-41fa-a3d2-a1a62e0683da",
   "metadata": {},
   "outputs": [
    {
     "name": "stdout",
     "output_type": "stream",
     "text": [
      "Número inteiro aleatório entre 1 e 10: 7\n"
     ]
    }
   ],
   "source": [
    "numero_inteiro_aleatorio = random.randint(1, 10)\n",
    "print(\"Número inteiro aleatório entre 1 e 10:\", numero_inteiro_aleatorio)"
   ]
  },
  {
   "cell_type": "code",
   "execution_count": 29,
   "id": "7002a356-8be4-4308-9268-8bcbf06449f7",
   "metadata": {},
   "outputs": [
    {
     "name": "stdout",
     "output_type": "stream",
     "text": [
      "Fruta escolhida aleatoriamente: maçã\n"
     ]
    }
   ],
   "source": [
    "itens = ['maçã', 'banana', 'laranja', 'uva']\n",
    "item_aleatorio = random.choice(itens)\n",
    "print(\"Fruta escolhida aleatoriamente:\", item_aleatorio)"
   ]
  },
  {
   "cell_type": "markdown",
   "id": "25963013-3c90-411b-9a4c-8c96e50ad0b6",
   "metadata": {},
   "source": [
    "#### Random choice com pesos"
   ]
  },
  {
   "cell_type": "code",
   "execution_count": 30,
   "id": "59096f42-60a4-4ebf-a81d-2e44135d8c48",
   "metadata": {},
   "outputs": [
    {
     "name": "stdin",
     "output_type": "stream",
     "text": [
      "Número de vezes a realizar a escolha aleatória 3\n"
     ]
    },
    {
     "name": "stdout",
     "output_type": "stream",
     "text": [
      "Item escolhido: maçã\n",
      "Item escolhido: banana\n",
      "Item escolhido: laranja\n"
     ]
    }
   ],
   "source": [
    "n_vezes = int(input('Número de vezes a realizar a escolha aleatória'))\n",
    "\n",
    "itens = ['maçã', 'banana', 'laranja', 'uva']\n",
    "pesos = [5, 1, 1, 1]  # A maçã tem 5 vezes mais chance de ser escolhida do que os outros\n",
    "\n",
    "for i in range(n_vezes):\n",
    "    item_aleatorio = random.choices(itens, pesos)\n",
    "    print(\"Item escolhido:\", item_aleatorio[0])"
   ]
  },
  {
   "cell_type": "markdown",
   "id": "762bf967-42ca-4936-bfbb-9e60bd1d9e0a",
   "metadata": {},
   "source": [
    "#### Comando shuffle"
   ]
  },
  {
   "cell_type": "code",
   "execution_count": 31,
   "id": "6f74f554-5aca-430e-841d-975d40b49d99",
   "metadata": {},
   "outputs": [
    {
     "name": "stdout",
     "output_type": "stream",
     "text": [
      "Lista embaralhada: [4, 2, 5, 3, 1]\n"
     ]
    }
   ],
   "source": [
    "numeros = [1, 2, 3, 4, 5]\n",
    "random.shuffle(numeros)\n",
    "print(\"Lista embaralhada:\", numeros)"
   ]
  },
  {
   "cell_type": "code",
   "execution_count": 1,
   "id": "1e20baff-5895-40a2-bed3-f796cef83148",
   "metadata": {},
   "outputs": [
    {
     "ename": "NameError",
     "evalue": "name 'random' is not defined",
     "output_type": "error",
     "traceback": [
      "\u001b[0;31m---------------------------------------------------------------------------\u001b[0m",
      "\u001b[0;31mNameError\u001b[0m                                 Traceback (most recent call last)",
      "Cell \u001b[0;32mIn[1], line 1\u001b[0m\n\u001b[0;32m----> 1\u001b[0m numero_aleatorio \u001b[38;5;241m=\u001b[39m random\u001b[38;5;241m.\u001b[39muniform(\u001b[38;5;241m10\u001b[39m, \u001b[38;5;241m20\u001b[39m)\n\u001b[1;32m      2\u001b[0m \u001b[38;5;28mprint\u001b[39m(\u001b[38;5;124m\"\u001b[39m\u001b[38;5;124mNúmero aleatório entre 10 e 20:\u001b[39m\u001b[38;5;124m\"\u001b[39m, numero_aleatorio)\n",
      "\u001b[0;31mNameError\u001b[0m: name 'random' is not defined"
     ]
    }
   ],
   "source": [
    "numero_aleatorio = random.uniform(10, 20)\n",
    "print(\"Número aleatório entre 10 e 20:\", numero_aleatorio)"
   ]
  },
  {
   "cell_type": "code",
   "execution_count": 33,
   "id": "35f7130f-8187-436e-b80d-284a394ba680",
   "metadata": {},
   "outputs": [
    {
     "name": "stdout",
     "output_type": "stream",
     "text": [
      "Amostra aleatória de 3 frutas: ['maçã', 'abacaxi', 'laranja']\n"
     ]
    }
   ],
   "source": [
    "itens = ['maçã', 'banana', 'laranja', 'uva', 'abacaxi']\n",
    "amostra_aleatoria = random.sample(itens, 3)\n",
    "print(\"Amostra aleatória de 3 frutas:\", amostra_aleatoria)"
   ]
  },
  {
   "cell_type": "markdown",
   "id": "e25cb4dc-44b5-4e82-8964-5604c26ec145",
   "metadata": {},
   "source": [
    "#### Exemplo - Lançamento de moedas"
   ]
  },
  {
   "cell_type": "code",
   "execution_count": 34,
   "id": "051d4965-c6b3-415e-b1af-abc4f5389e4a",
   "metadata": {},
   "outputs": [
    {
     "name": "stdin",
     "output_type": "stream",
     "text": [
      "Quantas vezes você quer lançar a moeda?  3\n"
     ]
    },
    {
     "name": "stdout",
     "output_type": "stream",
     "text": [
      "Resultado: 2 vezes cara e 1 vezes coroa.\n"
     ]
    }
   ],
   "source": [
    "n = int(input(\"Quantas vezes você quer lançar a moeda? \"))\n",
    "cara = 0\n",
    "coroa = 0\n",
    "\n",
    "for i in range(n):\n",
    "    resultado = random.choice(['cara', 'coroa'])\n",
    "    if resultado == 'cara':\n",
    "        cara += 1\n",
    "    else:\n",
    "        coroa += 1\n",
    "\n",
    "print(f\"Resultado: {cara} vezes cara e {coroa} vezes coroa.\")"
   ]
  },
  {
   "cell_type": "markdown",
   "id": "e13976f2-3af9-4e51-9ea6-82eb63475eac",
   "metadata": {},
   "source": [
    "### Exercícios"
   ]
  },
  {
   "cell_type": "markdown",
   "id": "c2fa90a9-b137-4d2e-915e-ce2b4acf05e7",
   "metadata": {},
   "source": [
    "#### 1. Usar o random.random() para gerar um nome aleatório entre 10 e 50"
   ]
  },
  {
   "cell_type": "code",
   "execution_count": null,
   "id": "86eac5fc-0e44-4a53-ae4f-e6c742ddeb2b",
   "metadata": {},
   "outputs": [],
   "source": [
    "numero_aleatorio = random.random()*10 + 10\n",
    "print(\"Número aleatório entre 10 e 20:\", numero_aleatorio)"
   ]
  },
  {
   "cell_type": "markdown",
   "id": "bed8c8c9-5f3d-45db-90d0-6b352ff32b58",
   "metadata": {},
   "source": [
    "#### 2. Simular o random choice com random.random"
   ]
  },
  {
   "cell_type": "code",
   "execution_count": 8,
   "id": "17fe4ed4-da31-41e8-be11-a8cd0fc64d1a",
   "metadata": {},
   "outputs": [],
   "source": [
    "lista = ['ver um filme', 'ir ao teatro', 'ver o jogo', 'dormir']"
   ]
  },
  {
   "cell_type": "code",
   "execution_count": 36,
   "id": "7d5bf18a-2359-4eff-8ff2-c1f9ea438a3f",
   "metadata": {},
   "outputs": [
    {
     "name": "stdout",
     "output_type": "stream",
     "text": [
      "A escolha aleatória é ver o jogo.\n"
     ]
    }
   ],
   "source": [
    "num = random.random()\n",
    "\n",
    "if 0.25 > num:\n",
    "    idx = 0 \n",
    "elif 0.5 > num > 0.25:\n",
    "    idx = 1\n",
    "elif 0.75 > num > 0.5:\n",
    "    idx = 2\n",
    "else:\n",
    "    idx = 3\n",
    "\n",
    "print(f'A escolha aleatória é {lista[idx]}.')"
   ]
  },
  {
   "cell_type": "markdown",
   "id": "fe1947bf-9dc7-404a-aefb-664378ac534d",
   "metadata": {},
   "source": [
    "#### Ou"
   ]
  },
  {
   "cell_type": "code",
   "execution_count": 12,
   "id": "d6e864a1-c1a2-46aa-82d7-5c2b394d757c",
   "metadata": {},
   "outputs": [
    {
     "name": "stdout",
     "output_type": "stream",
     "text": [
      "A escolha aleatória é ver o jogo.\n"
     ]
    }
   ],
   "source": [
    "num = random.random()\n",
    "indice = int(num / (1/len(lista)))\n",
    "print(f'A escolha aleatória é {lista[indice]}.')"
   ]
  }
 ],
 "metadata": {
  "kernelspec": {
   "display_name": "Python 3 (ipykernel)",
   "language": "python",
   "name": "python3"
  },
  "language_info": {
   "codemirror_mode": {
    "name": "ipython",
    "version": 3
   },
   "file_extension": ".py",
   "mimetype": "text/x-python",
   "name": "python",
   "nbconvert_exporter": "python",
   "pygments_lexer": "ipython3",
   "version": "3.11.7"
  }
 },
 "nbformat": 4,
 "nbformat_minor": 5
}
