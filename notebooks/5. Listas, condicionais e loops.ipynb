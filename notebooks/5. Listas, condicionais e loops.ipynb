{
 "cells": [
  {
   "cell_type": "markdown",
   "id": "cf617c9f-552e-42d0-a394-53321cfb5fa2",
   "metadata": {},
   "source": [
    "## Listas"
   ]
  },
  {
   "cell_type": "code",
   "execution_count": 2,
   "id": "7cefebc5-9dc9-4668-b50e-784e7c9ba48f",
   "metadata": {},
   "outputs": [
    {
     "data": {
      "text/plain": [
       "list"
      ]
     },
     "execution_count": 2,
     "metadata": {},
     "output_type": "execute_result"
    }
   ],
   "source": [
    "L = [10, 22, 5, 75, 4, 8]\n",
    "type(L)"
   ]
  },
  {
   "cell_type": "markdown",
   "id": "9d4d294e-666f-4a4b-ab85-3bf9a39175da",
   "metadata": {},
   "source": [
    "Adicionando elemento à lista"
   ]
  },
  {
   "cell_type": "code",
   "execution_count": 3,
   "id": "637ba117-94da-4285-b41a-ceec834bd256",
   "metadata": {},
   "outputs": [
    {
     "data": {
      "text/plain": [
       "[10, 22, 5, 75, 4, 8, 32]"
      ]
     },
     "execution_count": 3,
     "metadata": {},
     "output_type": "execute_result"
    }
   ],
   "source": [
    "L.append(32)\n",
    "L"
   ]
  },
  {
   "cell_type": "markdown",
   "id": "a8a3323f-27cd-4a93-889e-0490e636643a",
   "metadata": {},
   "source": [
    "Removendo elemento da lista por índice"
   ]
  },
  {
   "cell_type": "code",
   "execution_count": 4,
   "id": "d64ce5c2-24f2-4683-bd88-3557124430c9",
   "metadata": {},
   "outputs": [
    {
     "data": {
      "text/plain": [
       "[10, 22, 5, 4, 8, 32]"
      ]
     },
     "execution_count": 4,
     "metadata": {},
     "output_type": "execute_result"
    }
   ],
   "source": [
    "del L[3] # ou L.pop(3)\n",
    "L"
   ]
  },
  {
   "cell_type": "markdown",
   "id": "d57554bb-1aa1-4791-8152-2dc643679710",
   "metadata": {},
   "source": [
    "Concatenando com outra lista"
   ]
  },
  {
   "cell_type": "code",
   "execution_count": 5,
   "id": "e6fba288-e52a-4c09-b637-ca77c1436188",
   "metadata": {},
   "outputs": [
    {
     "data": {
      "text/plain": [
       "[10, 22, 5, 4, 8, 32, 1, 2, 3, 4, 5]"
      ]
     },
     "execution_count": 5,
     "metadata": {},
     "output_type": "execute_result"
    }
   ],
   "source": [
    "L = L + [1,2,3,4,5] \n",
    "L"
   ]
  },
  {
   "cell_type": "code",
   "execution_count": 6,
   "id": "ad9007df-7caf-4c27-b660-59cbcbf3eb65",
   "metadata": {},
   "outputs": [
    {
     "data": {
      "text/plain": [
       "[10, 22, 5, 4, 8, 32, 1, 2, 3, 4, 5, 11]"
      ]
     },
     "execution_count": 6,
     "metadata": {},
     "output_type": "execute_result"
    }
   ],
   "source": [
    "L += [11]\n",
    "L"
   ]
  },
  {
   "cell_type": "markdown",
   "id": "6a40031e-4bfb-4ba8-b835-874ebe9cd480",
   "metadata": {},
   "source": [
    "## Condicionais (if/else)"
   ]
  },
  {
   "cell_type": "code",
   "execution_count": 7,
   "id": "6cc68914-1415-40e4-918e-76e15749a7a3",
   "metadata": {},
   "outputs": [
    {
     "name": "stdout",
     "output_type": "stream",
     "text": [
      "O tamanho da lista não é 10\n"
     ]
    }
   ],
   "source": [
    "if len(L) == 10:\n",
    "    print('O tamanho da lista é 10')\n",
    "else:\n",
    "    print('O tamanho da lista não é 10')"
   ]
  },
  {
   "cell_type": "code",
   "execution_count": 8,
   "id": "c13551ba-8f1a-438e-bbdc-d0e03f75a582",
   "metadata": {},
   "outputs": [
    {
     "name": "stdout",
     "output_type": "stream",
     "text": [
      "Nenhum das anteriores\n"
     ]
    }
   ],
   "source": [
    "if len(L) == 10:\n",
    "    print('O tamanho da lista é 10')\n",
    "elif len(L) == 11:\n",
    "    print('O tamanho da lista é 11')\n",
    "else:\n",
    "    print('Nenhum das anteriores')"
   ]
  },
  {
   "cell_type": "markdown",
   "id": "4fb0b0ae-f2c7-4d8d-9b48-5b919f3a7d03",
   "metadata": {},
   "source": [
    "## Loop (for e while)"
   ]
  },
  {
   "cell_type": "code",
   "execution_count": 9,
   "id": "41323778-bd9d-4991-a691-cf59cb214009",
   "metadata": {},
   "outputs": [
    {
     "name": "stdout",
     "output_type": "stream",
     "text": [
      "[10, 22, 5, 4, 8, 32, 1, 2, 3, 4, 5, 11]\n"
     ]
    }
   ],
   "source": [
    "print(L)"
   ]
  },
  {
   "cell_type": "code",
   "execution_count": 10,
   "id": "3651f7ac-a56d-4db6-b60d-92ed6086ad23",
   "metadata": {},
   "outputs": [
    {
     "name": "stdout",
     "output_type": "stream",
     "text": [
      "22\n",
      "32\n",
      "11\n"
     ]
    }
   ],
   "source": [
    "for i in L:\n",
    "    if i > 10:\n",
    "        print(i) # atenção para a dupla indentação"
   ]
  },
  {
   "cell_type": "code",
   "execution_count": 11,
   "id": "090469e8-41ca-4ade-99cf-d578bc4df7ff",
   "metadata": {},
   "outputs": [
    {
     "name": "stdout",
     "output_type": "stream",
     "text": [
      "22\n",
      "32\n",
      "11\n"
     ]
    }
   ],
   "source": [
    "i = 0\n",
    "while i < len(L):\n",
    "    if L[i] > 10: # e se fosse i > 10\n",
    "        print(L[i])\n",
    "    i += 1"
   ]
  },
  {
   "cell_type": "code",
   "execution_count": 12,
   "id": "fff4dbac-a2cb-4a06-99be-0476f1865dba",
   "metadata": {},
   "outputs": [
    {
     "name": "stdout",
     "output_type": "stream",
     "text": [
      "Elemento: 10\n",
      "Resto da divisão por 8: 2 \n",
      "\n",
      "Elemento: 22\n",
      "Resto da divisão por 8: 6 \n",
      "\n",
      "Elemento: 8\n",
      "Resto da divisão por 8: 0 \n",
      "\n",
      "Elemento: 32\n",
      "Resto da divisão por 8: 0 \n",
      "\n",
      "Elemento: 11\n",
      "Resto da divisão por 8: 3 \n",
      "\n"
     ]
    }
   ],
   "source": [
    "for i in L:\n",
    "    if i >= 8:\n",
    "        print('Elemento:', i)\n",
    "        resto = i%8\n",
    "        print('Resto da divisão por 8:', resto, '\\n')"
   ]
  },
  {
   "cell_type": "code",
   "execution_count": 13,
   "id": "7e9679a1-cd1b-410e-bbc2-c2fda7b0a234",
   "metadata": {},
   "outputs": [],
   "source": [
    "string = 'Hello world'"
   ]
  },
  {
   "cell_type": "code",
   "execution_count": 14,
   "id": "ec3e1e24-0c7b-41e0-9546-1fc3b6bf0830",
   "metadata": {},
   "outputs": [
    {
     "name": "stdout",
     "output_type": "stream",
     "text": [
      "H\n",
      "e\n",
      "l\n",
      "l\n",
      "o\n",
      " \n",
      "w\n",
      "o\n",
      "r\n",
      "l\n",
      "d\n"
     ]
    }
   ],
   "source": [
    "for letra in string:\n",
    "    print(letra)"
   ]
  },
  {
   "cell_type": "markdown",
   "id": "3452d18f-15d3-43b9-9a38-c7f4245fc188",
   "metadata": {},
   "source": [
    "Index de um elemento em uma lista"
   ]
  },
  {
   "cell_type": "code",
   "execution_count": 15,
   "id": "ad8a6f74-71c7-465e-85da-1e92623e9fd2",
   "metadata": {},
   "outputs": [
    {
     "name": "stdout",
     "output_type": "stream",
     "text": [
      "w\n"
     ]
    }
   ],
   "source": [
    "for letra in string:\n",
    "    if letra == 'w':\n",
    "        print(letra)"
   ]
  },
  {
   "cell_type": "code",
   "execution_count": 16,
   "id": "b0be9353-fa15-460f-8c55-e14eaf3debbb",
   "metadata": {},
   "outputs": [
    {
     "name": "stdout",
     "output_type": "stream",
     "text": [
      "6\n"
     ]
    }
   ],
   "source": [
    "for i in range(len(string)):\n",
    "    if string[i] == 'w':\n",
    "        print(i)"
   ]
  },
  {
   "cell_type": "code",
   "execution_count": 17,
   "id": "d068ee09-2737-40cb-8d6e-0d2b1fa39ea6",
   "metadata": {},
   "outputs": [
    {
     "name": "stdout",
     "output_type": "stream",
     "text": [
      "6\n"
     ]
    }
   ],
   "source": [
    "i = 0\n",
    "while i < len(string):\n",
    "    if string[i] == 'w':\n",
    "        print(i)\n",
    "    i += 1"
   ]
  },
  {
   "cell_type": "markdown",
   "id": "2be6c65e-9e59-4feb-b572-a899efee9247",
   "metadata": {},
   "source": [
    "### Exercícios"
   ]
  },
  {
   "cell_type": "code",
   "execution_count": 18,
   "id": "3de7928a-a385-4341-b81b-bc73d25dba9e",
   "metadata": {},
   "outputs": [],
   "source": [
    "lista = [10, 22, 5, 75, 4, 8]"
   ]
  },
  {
   "cell_type": "markdown",
   "id": "93f59c63-4e13-4651-b50e-970aa5495a21",
   "metadata": {
    "jp-MarkdownHeadingCollapsed": true
   },
   "source": [
    "#### 1. Achar o máximo da lista"
   ]
  },
  {
   "cell_type": "code",
   "execution_count": 19,
   "id": "a0e9c61b-f1aa-40aa-8ec8-2338cb827433",
   "metadata": {},
   "outputs": [
    {
     "name": "stdout",
     "output_type": "stream",
     "text": [
      "O maior número da lista é: 75\n"
     ]
    }
   ],
   "source": [
    "maior = lista[0]\n",
    "for num in lista:\n",
    "    if num > maior:\n",
    "        maior = num\n",
    "print(\"O maior número da lista é:\", maior)"
   ]
  },
  {
   "cell_type": "markdown",
   "id": "3582bdae-21a9-44e0-bb52-5adacf282424",
   "metadata": {
    "jp-MarkdownHeadingCollapsed": true
   },
   "source": [
    "#### 2. Encontrar a soma de todos os elementos da lista"
   ]
  },
  {
   "cell_type": "code",
   "execution_count": 20,
   "id": "cb5b09fe-5219-4f3f-8b90-7f9937f9775f",
   "metadata": {},
   "outputs": [
    {
     "name": "stdout",
     "output_type": "stream",
     "text": [
      "A soma total é 124\n"
     ]
    }
   ],
   "source": [
    "soma = 0\n",
    "for num in lista:\n",
    "    soma += num\n",
    "print(f'A soma total é {soma}')"
   ]
  },
  {
   "cell_type": "markdown",
   "id": "4bbe884f-1150-403e-83a6-4a3dbbd65756",
   "metadata": {
    "jp-MarkdownHeadingCollapsed": true
   },
   "source": [
    "#### 3. Contar quantos números pares há na lista"
   ]
  },
  {
   "cell_type": "code",
   "execution_count": 21,
   "id": "6c2fd050-eb66-4375-a271-620ef538f32c",
   "metadata": {},
   "outputs": [
    {
     "name": "stdout",
     "output_type": "stream",
     "text": [
      "O total de números pares na lista é 4.\n"
     ]
    }
   ],
   "source": [
    "pares = 0\n",
    "for num in lista:\n",
    "    if num % 2 == 0:\n",
    "        pares += 1\n",
    "print(f'O total de números pares na lista é {pares}.')"
   ]
  },
  {
   "cell_type": "markdown",
   "id": "73d01b3c-4683-4260-8f06-bf9fe346752e",
   "metadata": {
    "jp-MarkdownHeadingCollapsed": true
   },
   "source": [
    "#### 4. Verificar se um número está em uma lista"
   ]
  },
  {
   "cell_type": "code",
   "execution_count": 22,
   "id": "5d0685c0-518f-4d17-84cb-7d3758b37ab6",
   "metadata": {},
   "outputs": [],
   "source": [
    "elem1 = 4\n",
    "elem2 = 7"
   ]
  },
  {
   "cell_type": "code",
   "execution_count": 23,
   "id": "9937db3d-0cc2-4eb2-b417-613f8ac0e65d",
   "metadata": {},
   "outputs": [
    {
     "name": "stdout",
     "output_type": "stream",
     "text": [
      "Encontrado\n"
     ]
    }
   ],
   "source": [
    "for i in lista:\n",
    "    if i == elem1:\n",
    "        print('Encontrado')\n",
    "\n",
    "# isso aqui funcionaria? como faria o \"não encontrado\"?"
   ]
  },
  {
   "cell_type": "code",
   "execution_count": 24,
   "id": "9401e584-a9ec-4b81-a1cb-98127fcfec0a",
   "metadata": {},
   "outputs": [
    {
     "name": "stdout",
     "output_type": "stream",
     "text": [
      "True\n"
     ]
    }
   ],
   "source": [
    "# Solucionando\n",
    "\n",
    "encontrado = False\n",
    "for i in lista:\n",
    "    if i == elem1:\n",
    "        encontrado = True\n",
    "\n",
    "print(encontrado)"
   ]
  },
  {
   "cell_type": "markdown",
   "id": "f650730f-3f22-4311-b3be-706adee53ccf",
   "metadata": {
    "jp-MarkdownHeadingCollapsed": true
   },
   "source": [
    "#### 5. Contar a frequência de um elemento em uma lista"
   ]
  },
  {
   "cell_type": "code",
   "execution_count": 25,
   "id": "56b0515d-4a11-42c8-9086-c8753a72551c",
   "metadata": {},
   "outputs": [],
   "source": [
    "lista_nova = [3, 5, 8, 3, 10, 8, 11, 5, 3, 3, 4, 8]"
   ]
  },
  {
   "cell_type": "code",
   "execution_count": 26,
   "id": "0c6069a5-776e-402b-8392-057f64e65797",
   "metadata": {},
   "outputs": [],
   "source": [
    "num = 3"
   ]
  },
  {
   "cell_type": "code",
   "execution_count": 27,
   "id": "cd3cbfec-2c32-482c-ba74-61fc7a80ff34",
   "metadata": {},
   "outputs": [
    {
     "name": "stdout",
     "output_type": "stream",
     "text": [
      "A quantidade de vezes que o número 3 aparece na lista é 4.\n"
     ]
    }
   ],
   "source": [
    "count = 0\n",
    "for i in lista_nova:\n",
    "    if i == num:\n",
    "        count += 1\n",
    "\n",
    "print(f'A quantidade de vezes que o número {num} aparece na lista é {count}.')"
   ]
  },
  {
   "cell_type": "markdown",
   "id": "54eed6ff-aa1b-400a-8441-cf1b4d7e4f51",
   "metadata": {},
   "source": [
    "#### Agora utilizando a string:"
   ]
  },
  {
   "cell_type": "code",
   "execution_count": 28,
   "id": "0c92463e-fc88-4af7-ac3e-6835daeedb9e",
   "metadata": {},
   "outputs": [],
   "source": [
    "string = 'Estes são exercícios introdutórios à linguagem python, então são bons para o aprendizado'"
   ]
  },
  {
   "cell_type": "markdown",
   "id": "e105e5c9-8ebd-44cc-926f-9e9755b49ac2",
   "metadata": {
    "jp-MarkdownHeadingCollapsed": true
   },
   "source": [
    "#### 6. Contar quantas palavras há na string"
   ]
  },
  {
   "cell_type": "code",
   "execution_count": 29,
   "id": "1022e8d3-445a-49c8-9e27-33c8bc473db9",
   "metadata": {},
   "outputs": [
    {
     "name": "stdout",
     "output_type": "stream",
     "text": [
      "13\n"
     ]
    }
   ],
   "source": [
    "print(len(string.split()))"
   ]
  },
  {
   "cell_type": "markdown",
   "id": "13f07d7a-ec62-48a4-a722-33f54beab68c",
   "metadata": {
    "jp-MarkdownHeadingCollapsed": true
   },
   "source": [
    "#### 7. Encontrar a palavra mais longa na string"
   ]
  },
  {
   "cell_type": "code",
   "execution_count": 30,
   "id": "b51251f5-56ad-4dd7-9080-0728cf971333",
   "metadata": {},
   "outputs": [
    {
     "name": "stdout",
     "output_type": "stream",
     "text": [
      "A palavra mais longa é: introdutórios\n"
     ]
    }
   ],
   "source": [
    "palavras = string.split()\n",
    "palavra_mais_longa = ''\n",
    "for palavra in palavras:\n",
    "    if len(palavra) > len(palavra_mais_longa):\n",
    "        palavra_mais_longa = palavra\n",
    "print(\"A palavra mais longa é:\", palavra_mais_longa)"
   ]
  },
  {
   "cell_type": "markdown",
   "id": "ea99bbe3-5663-4706-a485-5f384e9e1540",
   "metadata": {
    "jp-MarkdownHeadingCollapsed": true
   },
   "source": [
    "#### 8. Contar quantas vezes uma letra específica aparece na string (non-case sensitive)"
   ]
  },
  {
   "cell_type": "code",
   "execution_count": 31,
   "id": "4e228bd6-d20d-42af-9356-79f7a360d78d",
   "metadata": {},
   "outputs": [],
   "source": [
    "letra = 'e'"
   ]
  },
  {
   "cell_type": "code",
   "execution_count": 36,
   "id": "86620c9a-561b-4bc0-a26e-3fda4a5d41ed",
   "metadata": {},
   "outputs": [
    {
     "name": "stdout",
     "output_type": "stream",
     "text": [
      "A letra 'e' aparece 7 vezes na string.\n"
     ]
    }
   ],
   "source": [
    "contagem = 0\n",
    "for caractere in string:\n",
    "    if caractere.lower() == letra:\n",
    "        contagem += 1\n",
    "# print(f\"A letra '{letra}' aparece {contagem} vezes na string.\")\n",
    "print(\"A letra '{}' aparece {} vezes na string.\".format(letra, contagem))"
   ]
  },
  {
   "cell_type": "markdown",
   "id": "0169bd9f-ecfe-48ea-b82c-e3076f0689a6",
   "metadata": {
    "jp-MarkdownHeadingCollapsed": true
   },
   "source": [
    "#### 9. Contar o número de palavras com mais de 5 caracteres"
   ]
  },
  {
   "cell_type": "code",
   "execution_count": null,
   "id": "e40e8100-6395-43dd-9d10-1b1280bae414",
   "metadata": {},
   "outputs": [],
   "source": [
    "palavras = string.split()\n",
    "contagem = 0\n",
    "for palavra in palavras:\n",
    "    if len(palavra) > 5:\n",
    "        contagem += 1\n",
    "print(f\"{contagem} palavras têm mais de 5 caracteres.\")"
   ]
  },
  {
   "cell_type": "markdown",
   "id": "8345cf23-ca48-4f44-9095-a3d8a8159477",
   "metadata": {},
   "source": [
    "### EXTRA"
   ]
  },
  {
   "cell_type": "markdown",
   "id": "c4d0fc5b-fa76-410d-a0dc-e9b1ceff0795",
   "metadata": {
    "jp-MarkdownHeadingCollapsed": true
   },
   "source": [
    "#### 1. Encontrar o segundo maior número em uma lista"
   ]
  },
  {
   "cell_type": "code",
   "execution_count": 40,
   "id": "8e4e80a7-cdb3-451c-acf3-7e69eb09eee8",
   "metadata": {},
   "outputs": [
    {
     "name": "stdout",
     "output_type": "stream",
     "text": [
      "1\n",
      "[3, 1, 6, 2]\n",
      "O segundo maior número é 6.\n"
     ]
    }
   ],
   "source": [
    "lista = [3, 8, 1, 6, 2]\n",
    "\n",
    "maior = float('-inf')\n",
    "idx_maior = 0\n",
    "for idx, numero in enumerate(lista):\n",
    "    if numero > maior:\n",
    "        maior = numero\n",
    "        idx_maior = idx\n",
    "\n",
    "print(idx_maior)\n",
    "\n",
    "lista.pop(idx_maior)\n",
    "print(lista)\n",
    "\n",
    "\n",
    "maior = float('-inf')\n",
    "for numero in lista:\n",
    "    if numero > maior:\n",
    "        maior = numero\n",
    "\n",
    "print('O segundo maior número é {}.'.format(maior))"
   ]
  },
  {
   "cell_type": "code",
   "execution_count": 46,
   "id": "6e066618-cca1-411e-968b-de8bd1e21142",
   "metadata": {},
   "outputs": [
    {
     "name": "stdout",
     "output_type": "stream",
     "text": [
      "O 4º maior número é 2.\n"
     ]
    }
   ],
   "source": [
    "lista = [3, 8, 1, 6, 2]\n",
    "\n",
    "k = 4 # k-ésimo maior\n",
    "for i in range(k):\n",
    "    maior = float('-inf')\n",
    "    idx_maior = 0\n",
    "    for idx, numero in enumerate(lista):\n",
    "        if numero > maior:\n",
    "            maior = numero\n",
    "            idx_maior = idx\n",
    "    lista.pop(idx_maior)\n",
    "\n",
    "print('O {}º maior número é {}.'.format(k, maior))"
   ]
  },
  {
   "cell_type": "code",
   "execution_count": 56,
   "id": "786cb011-180f-4d8f-8f2e-f63f8c5a2964",
   "metadata": {},
   "outputs": [
    {
     "name": "stdout",
     "output_type": "stream",
     "text": [
      "O segundo maior elemento é: 6\n"
     ]
    }
   ],
   "source": [
    "lista = [3, 8, 1, 6, 2]\n",
    "\n",
    "maior = lista[0]\n",
    "segundo_maior = lista[0]\n",
    "for numero in lista:\n",
    "    # Se encontramos um novo maior\n",
    "    if numero > maior:\n",
    "        maior = numero  # Atualiza o maior\n",
    "        # segundo_maior = maior  # Atualiza o segundo maior\n",
    "\n",
    "    # elif maior > numero > segundo_maior:\n",
    "    elif (maior > numero) and (numero > segundo_maior):\n",
    "        segundo_maior = numero\n",
    "\n",
    "print(\"O segundo maior elemento é:\", segundo_maior)"
   ]
  },
  {
   "cell_type": "code",
   "execution_count": null,
   "id": "92e12a39-cfb4-4135-ba23-ffb54bb2fdbb",
   "metadata": {},
   "outputs": [],
   "source": []
  }
 ],
 "metadata": {
  "kernelspec": {
   "display_name": "Python 3 (ipykernel)",
   "language": "python",
   "name": "python3"
  },
  "language_info": {
   "codemirror_mode": {
    "name": "ipython",
    "version": 3
   },
   "file_extension": ".py",
   "mimetype": "text/x-python",
   "name": "python",
   "nbconvert_exporter": "python",
   "pygments_lexer": "ipython3",
   "version": "3.11.7"
  }
 },
 "nbformat": 4,
 "nbformat_minor": 5
}
