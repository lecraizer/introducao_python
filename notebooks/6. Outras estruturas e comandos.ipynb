{
 "cells": [
  {
   "cell_type": "markdown",
   "id": "6f6b0fad-f7f6-4845-975b-b448ddd5fe7a",
   "metadata": {},
   "source": [
    "### Try e except"
   ]
  },
  {
   "cell_type": "markdown",
   "id": "47b01a91-5fb3-484f-bd82-5c8051f97a5a",
   "metadata": {},
   "source": [
    "O `try` e `except` são usados em Python para tratar erros e exceções que podem ocorrer durante a execução de um programa. Eles ajudam a garantir que o código não falhe de forma inesperada quando algo dá errado, como tentar dividir por zero ou acessar um arquivo que não existe."
   ]
  },
  {
   "cell_type": "markdown",
   "id": "97b56c47-b51c-453f-be8d-94a212e991c5",
   "metadata": {},
   "source": [
    "### Como funciona:\n",
    "\n",
    "1. **Bloco `try`**: \n",
    "   - Dentro do bloco `try`, você coloca o código que pode causar um erro. Python tentará executá-lo normalmente.\n",
    "   \n",
    "2. **Bloco `except`**: \n",
    "   - Se um erro ocorrer no bloco `try`, a execução do programa é interrompida e passa imediatamente para o bloco `except`. Esse bloco lida com o erro, prevenindo que o programa \"quebre\" ou pare de funcionar. \n"
   ]
  },
  {
   "cell_type": "markdown",
   "id": "04bc574c-0517-4e4b-9c0b-8fb143e99bc3",
   "metadata": {},
   "source": [
    "#### Exemplos"
   ]
  },
  {
   "cell_type": "markdown",
   "id": "da85c17d-c989-4267-90b7-37dff069084c",
   "metadata": {},
   "source": [
    "##### Zero Division Error"
   ]
  },
  {
   "cell_type": "code",
   "execution_count": 75,
   "id": "0b122206-f3f5-406e-870e-ee847796b611",
   "metadata": {},
   "outputs": [
    {
     "name": "stdin",
     "output_type": "stream",
     "text": [
      "Digite o numerador:  5\n",
      "Digite o denominador:  0\n"
     ]
    },
    {
     "name": "stdout",
     "output_type": "stream",
     "text": [
      "Erro: Divisão por zero não é permitida.\n"
     ]
    }
   ],
   "source": [
    "try:\n",
    "    numerador = int(input(\"Digite o numerador: \"))\n",
    "    denominador = int(input(\"Digite o denominador: \"))\n",
    "    resultado = numerador / denominador\n",
    "    print(f\"O resultado da divisão é: {resultado}\")\n",
    "except ZeroDivisionError:\n",
    "    print(\"Erro: Divisão por zero não é permitida.\")"
   ]
  },
  {
   "cell_type": "code",
   "execution_count": 80,
   "id": "bf212017-f34e-40a7-b946-a2905232efb4",
   "metadata": {},
   "outputs": [
    {
     "name": "stdin",
     "output_type": "stream",
     "text": [
      "Digite o numerador:  5\n",
      "Digite o denominador:  5\n"
     ]
    },
    {
     "name": "stdout",
     "output_type": "stream",
     "text": [
      "O resultado da divisão é: 1.0\n"
     ]
    }
   ],
   "source": [
    "try:\n",
    "    numerador = int(input(\"Digite o numerador: \"))\n",
    "    denominador = int(input(\"Digite o denominador: \"))\n",
    "    resultado = numerador / denominador\n",
    "    print(f\"O resultado da divisão é: {resultado}\")\n",
    "except ZeroDivisionError:\n",
    "    print(\"Erro: Divisão por zero não é permitida.\")\n",
    "    print(f\"A soma é {numerador+denominador}.\")"
   ]
  },
  {
   "cell_type": "markdown",
   "id": "7a082e0c-a123-4333-9873-df857f1ff88b",
   "metadata": {},
   "source": [
    "##### Value Error"
   ]
  },
  {
   "cell_type": "code",
   "execution_count": 86,
   "id": "a7eeb2c9-9272-4ad3-8d4e-df505b60e69e",
   "metadata": {},
   "outputs": [
    {
     "name": "stdin",
     "output_type": "stream",
     "text": [
      "Digite um número inteiro:  5\n"
     ]
    },
    {
     "name": "stdout",
     "output_type": "stream",
     "text": [
      "Você digitou o número: 5\n"
     ]
    }
   ],
   "source": [
    "try:\n",
    "    numero = int(input(\"Digite um número inteiro: \"))\n",
    "    print(f\"Você digitou o número: {numero}\")\n",
    "except ValueError:\n",
    "    print(\"Erro: Isso não é um número inteiro válido.\")"
   ]
  },
  {
   "cell_type": "code",
   "execution_count": 1,
   "id": "e790d419-0bf8-4d0f-ae24-d9f7181487d5",
   "metadata": {},
   "outputs": [
    {
     "name": "stdout",
     "output_type": "stream",
     "text": [
      "Erro: valor inválido!\n"
     ]
    }
   ],
   "source": [
    "try:\n",
    "    int('abc')  # Tenta converter uma string inválida em inteiro\n",
    "except ValueError:\n",
    "    print(\"Erro: valor inválido!\")"
   ]
  },
  {
   "cell_type": "markdown",
   "id": "2478caeb-85c6-468c-bcb4-7b9455319845",
   "metadata": {},
   "source": [
    "##### Type Error"
   ]
  },
  {
   "cell_type": "code",
   "execution_count": 2,
   "id": "b996416b-a8da-4433-a4a5-711c9589d5e4",
   "metadata": {},
   "outputs": [
    {
     "name": "stdout",
     "output_type": "stream",
     "text": [
      "Erro: tipos incompatíveis!\n"
     ]
    }
   ],
   "source": [
    "try:\n",
    "    '2' + 2  # Tentativa de concatenar string com número\n",
    "except TypeError:\n",
    "    print(\"Erro: tipos incompatíveis!\")"
   ]
  },
  {
   "cell_type": "markdown",
   "id": "39244128-644a-4cb6-8c16-3a58b98cd95f",
   "metadata": {},
   "source": [
    "##### Index Error"
   ]
  },
  {
   "cell_type": "code",
   "execution_count": 3,
   "id": "b233414d-8f51-4e1b-b9a7-53c4facff27f",
   "metadata": {},
   "outputs": [
    {
     "name": "stdout",
     "output_type": "stream",
     "text": [
      "Erro: índice fora do alcance!\n"
     ]
    }
   ],
   "source": [
    "try:\n",
    "    lista = [1, 2, 3]\n",
    "    print(lista[5])  # Índice fora do intervalo\n",
    "except IndexError:\n",
    "    print(\"Erro: índice fora do alcance!\")"
   ]
  },
  {
   "cell_type": "markdown",
   "id": "cad0b6cb-f607-49ba-9bea-7417d214fe81",
   "metadata": {},
   "source": [
    "##### Key Error"
   ]
  },
  {
   "cell_type": "code",
   "execution_count": 4,
   "id": "c3847c0e-7410-4e0e-9689-957b467a3d8e",
   "metadata": {},
   "outputs": [
    {
     "name": "stdout",
     "output_type": "stream",
     "text": [
      "Erro: chave não encontrada!\n"
     ]
    }
   ],
   "source": [
    "try:\n",
    "    dicionario = {'a': 1, 'b': 2}\n",
    "    print(dicionario['c'])  # Tentativa de acessar chave inexistente\n",
    "except KeyError:\n",
    "    print(\"Erro: chave não encontrada!\")"
   ]
  },
  {
   "cell_type": "markdown",
   "id": "bc60e516-0605-481b-940b-5ed8c6c9e192",
   "metadata": {},
   "source": [
    "#### Gambiarra - somar dois números consecutivos em uma lista"
   ]
  },
  {
   "cell_type": "code",
   "execution_count": 89,
   "id": "bac75464-5dd2-4085-8312-587f45b13b0c",
   "metadata": {},
   "outputs": [
    {
     "name": "stdout",
     "output_type": "stream",
     "text": [
      "30\n",
      "50\n",
      "70\n",
      "90\n",
      "Lista chegou ao fim\n"
     ]
    }
   ],
   "source": [
    "lista = [10, 20, 30, 40, 50]\n",
    "for i in range(len(lista)):\n",
    "    try:\n",
    "        print(lista[i] + lista[i+1])\n",
    "    except:\n",
    "        print('Lista chegou ao fim')"
   ]
  },
  {
   "cell_type": "markdown",
   "id": "3921372e-6d28-463c-aa90-70d437eede0c",
   "metadata": {},
   "source": [
    "### List comprehension"
   ]
  },
  {
   "cell_type": "code",
   "execution_count": 16,
   "id": "852f7c1f-71cc-4abe-97b6-354cfae060eb",
   "metadata": {},
   "outputs": [],
   "source": [
    "numeros = [1, 2, 3, 4, 5]"
   ]
  },
  {
   "cell_type": "code",
   "execution_count": 17,
   "id": "ab63ddb9-cbe7-4329-b504-9b8ccfe70a4b",
   "metadata": {},
   "outputs": [
    {
     "data": {
      "text/plain": [
       "[2, 3, 4, 5, 6]"
      ]
     },
     "execution_count": 17,
     "metadata": {},
     "output_type": "execute_result"
    }
   ],
   "source": [
    "# for i in range(len(numeros)):\n",
    "#     numeros[i] += 1\n",
    "\n",
    "# ou\n",
    "\n",
    "# numeros = [i for i in numeros]\n",
    "numeros = [i+1 for i in numeros]\n",
    "numeros"
   ]
  },
  {
   "cell_type": "code",
   "execution_count": 18,
   "id": "20ea558a-d08f-4736-9349-7cf7904921af",
   "metadata": {},
   "outputs": [
    {
     "name": "stdout",
     "output_type": "stream",
     "text": [
      "['par', 'ímpar', 'par', 'ímpar', 'par']\n"
     ]
    }
   ],
   "source": [
    "par_ou_impar = ['par' if n % 2 == 0 else 'ímpar' for n in numeros]\n",
    "print(par_ou_impar)"
   ]
  },
  {
   "cell_type": "code",
   "execution_count": 19,
   "id": "b803a103-6a0f-4ed4-91ee-17519edb6d7b",
   "metadata": {},
   "outputs": [
    {
     "name": "stdout",
     "output_type": "stream",
     "text": [
      "['B', 'A', 'C', 'A', 'B']\n"
     ]
    }
   ],
   "source": [
    "notas = [7.5, 8.0, 5.5, 9.0, 6.0]\n",
    "conceitos = ['A' if nota >= 8 else 'B' if nota >= 6 else 'C' for nota in notas]\n",
    "print(conceitos)"
   ]
  },
  {
   "cell_type": "markdown",
   "id": "737c3c83-538b-49c0-a726-ac81098a1308",
   "metadata": {},
   "source": [
    "Em strings"
   ]
  },
  {
   "cell_type": "code",
   "execution_count": 20,
   "id": "c832ed6c-fffa-4ce9-a086-1a17cdddfbee",
   "metadata": {},
   "outputs": [
    {
     "name": "stdout",
     "output_type": "stream",
     "text": [
      "['python', 'PROGRAMAÇÃO', 'list', 'COMPREHENSION']\n"
     ]
    }
   ],
   "source": [
    "palavras = ['Python', 'programação', 'LIST', 'Comprehension']\n",
    "transformadas = [p.upper() if len(p) > 6 else p.lower() for p in palavras]\n",
    "print(transformadas) "
   ]
  },
  {
   "cell_type": "markdown",
   "id": "f74901d2-ec59-4be8-964d-5cc41c731954",
   "metadata": {},
   "source": [
    "### Exercícios - try e except"
   ]
  },
  {
   "cell_type": "markdown",
   "id": "62aeed01-792f-4e20-8584-f12948fc11af",
   "metadata": {},
   "source": [
    "##### 1. Escreva um programa que receba notas do usuário até que o mesmo digite \"fim\". Neste momento o programa imprime a média destas notas.\n",
    "OBS: Caso o usuário digite algo que não seja um número, o programa deve printar o error e continuar o programa"
   ]
  },
  {
   "cell_type": "code",
   "execution_count": 7,
   "id": "72e38a70-87af-4f2b-87ca-2716ab4850d5",
   "metadata": {},
   "outputs": [
    {
     "name": "stdin",
     "output_type": "stream",
     "text": [
      "Digite uma nota (ou 'fim' para encerrar):  asdas\n"
     ]
    },
    {
     "name": "stdout",
     "output_type": "stream",
     "text": [
      "Por favor, insira um número válido.\n"
     ]
    },
    {
     "name": "stdin",
     "output_type": "stream",
     "text": [
      "Digite uma nota (ou 'fim' para encerrar):  5\n",
      "Digite uma nota (ou 'fim' para encerrar):  9.5\n",
      "Digite uma nota (ou 'fim' para encerrar):  fim\n"
     ]
    },
    {
     "name": "stdout",
     "output_type": "stream",
     "text": [
      "A média das notas é: 7.25\n"
     ]
    }
   ],
   "source": [
    "notas = []\n",
    "while True:\n",
    "    entrada = input(\"Digite uma nota (ou 'fim' para encerrar): \")\n",
    "    if entrada.lower() == 'fim':\n",
    "        break\n",
    "    try:\n",
    "        nota = float(entrada)\n",
    "        notas.append(nota)\n",
    "    except ValueError:\n",
    "        print(\"Por favor, insira um número válido.\")\n",
    "\n",
    "if notas:\n",
    "    media = sum(notas) / len(notas)\n",
    "    print(f\"A média das notas é: {media:.2f}\")\n",
    "else:\n",
    "    print(\"Nenhuma nota foi inserida.\")"
   ]
  },
  {
   "cell_type": "markdown",
   "id": "a1aaa246-5348-4d3f-a3c0-54be9fb3d54f",
   "metadata": {},
   "source": [
    "##### 2. Escreva um programa que receba uma lista de nomes separados por vírgula. Em seguida, o usuário digita um índice. O programa deve imprimir o nome referente a esse índica ou então \"-1\" para sair do programa. Ex: usuário digitou a lista de nomes \"Alberto, Laura, José, Pedro, Sabrina, Ana\" e em seguida digitou \"3\", então o programa deve imprimir o nome \"Pedro\". \n",
    "OBS: Caso o usuário digite um índice maior do que o tamanho da lista, o programa deve imprimir que o índice está fora do intervalo."
   ]
  },
  {
   "cell_type": "code",
   "execution_count": 8,
   "id": "ce4a85da-b099-47c6-9399-f9476ce40555",
   "metadata": {},
   "outputs": [
    {
     "name": "stdin",
     "output_type": "stream",
     "text": [
      "Digite uma lista de nomes separados por vírgula:  alberto, carlos, laura, paulo, jessica\n",
      "Digite um índice para acessar o nome (ou -1 para sair):  2\n"
     ]
    },
    {
     "name": "stdout",
     "output_type": "stream",
     "text": [
      "Nome no índice 2: laura\n"
     ]
    },
    {
     "name": "stdin",
     "output_type": "stream",
     "text": [
      "Digite um índice para acessar o nome (ou -1 para sair):  7\n"
     ]
    },
    {
     "name": "stdout",
     "output_type": "stream",
     "text": [
      "Erro: Índice fora do intervalo. Tente novamente.\n"
     ]
    },
    {
     "name": "stdin",
     "output_type": "stream",
     "text": [
      "Digite um índice para acessar o nome (ou -1 para sair):  -1\n"
     ]
    },
    {
     "name": "stdout",
     "output_type": "stream",
     "text": [
      "Saindo...\n"
     ]
    }
   ],
   "source": [
    "nomes = input(\"Digite uma lista de nomes separados por vírgula: \").split(',')\n",
    "\n",
    "while True:\n",
    "    try:\n",
    "        indice = int(input(\"Digite um índice para acessar o nome (ou -1 para sair): \"))\n",
    "        if indice == -1:\n",
    "            print(\"Saindo...\")\n",
    "            break\n",
    "        print(f\"Nome no índice {indice}: {nomes[indice].strip()}\")\n",
    "    except IndexError:\n",
    "        print(\"Erro: Índice fora do intervalo. Tente novamente.\")\n",
    "    except ValueError:\n",
    "        print(\"Erro: Insira um número válido.\")\n"
   ]
  },
  {
   "cell_type": "code",
   "execution_count": null,
   "id": "bd9fc150-db62-4ee1-ba3a-575ce9379028",
   "metadata": {},
   "outputs": [],
   "source": []
  }
 ],
 "metadata": {
  "kernelspec": {
   "display_name": "Python 3 (ipykernel)",
   "language": "python",
   "name": "python3"
  },
  "language_info": {
   "codemirror_mode": {
    "name": "ipython",
    "version": 3
   },
   "file_extension": ".py",
   "mimetype": "text/x-python",
   "name": "python",
   "nbconvert_exporter": "python",
   "pygments_lexer": "ipython3",
   "version": "3.11.7"
  }
 },
 "nbformat": 4,
 "nbformat_minor": 5
}
