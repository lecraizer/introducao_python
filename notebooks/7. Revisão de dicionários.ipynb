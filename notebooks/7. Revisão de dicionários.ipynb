{
 "cells": [
  {
   "cell_type": "markdown",
   "id": "82af2429-d778-4870-b9ca-08f15fff1370",
   "metadata": {},
   "source": [
    "# Dicionários em Python\n",
    "\n",
    "Os **dicionários** são estruturas de dados em Python que permitem armazenar pares de **chave-valor**. Eles são úteis para representar coleções de dados onde cada valor tem uma chave única associada, proporcionando acesso rápido aos dados.\n",
    "\n",
    "## 🔹 Estrutura de um Dicionário\n",
    "\n",
    "- Um dicionário é definido entre chaves `{}`.\n",
    "- Cada item é composto por uma **chave** e um **valor**, separados por dois pontos `:`.\n",
    "- As chaves devem ser únicas e podem ser de tipos imutáveis, como strings, números ou tuplas.\n",
    "- Os valores podem ser de qualquer tipo.\n",
    "\n",
    "### Exemplo:\n",
    "```python\n",
    "# Criando um dicionário\n",
    "meu_dict = {\n",
    "    \"nome\": \"Ana\",\n",
    "    \"idade\": 25,\n",
    "    \"cidade\": \"São Paulo\"\n",
    "}\n",
    "\n",
    "print(meu_dict)  # Saída: {'nome': 'Ana', 'idade': 25, 'cidade': 'São Paulo'}\n"
   ]
  },
  {
   "cell_type": "code",
   "execution_count": 2,
   "id": "8115038f-4382-4ff7-a019-217a92156ff2",
   "metadata": {},
   "outputs": [
    {
     "data": {
      "text/plain": [
       "{1: 'a', 2: 'b'}"
      ]
     },
     "execution_count": 2,
     "metadata": {},
     "output_type": "execute_result"
    }
   ],
   "source": [
    "{1: 'a', 2: 'b'}"
   ]
  },
  {
   "cell_type": "code",
   "execution_count": 5,
   "id": "6209401c-07f4-49db-ba8e-00294b54dbdc",
   "metadata": {},
   "outputs": [
    {
     "data": {
      "text/plain": [
       "{'Chave de acesso': 51283123812, 'http do servidor': 'localhost'}"
      ]
     },
     "execution_count": 5,
     "metadata": {},
     "output_type": "execute_result"
    }
   ],
   "source": [
    "{'Chave de acesso': 51283123812, 'http do servidor': 'localhost'}"
   ]
  },
  {
   "cell_type": "markdown",
   "id": "bb96348c-740f-44ef-8379-937af0f64e91",
   "metadata": {},
   "source": [
    "## 🔹 Acessando Valores\n",
    "- Acesse o valor associado à chave \"nome\" e imprima-o.\n",
    "- Tente acessar uma chave que não existe usando o método `.get()` e defina um valor padrão para ser exibido caso a chave não esteja presente.\n"
   ]
  },
  {
   "cell_type": "code",
   "execution_count": 7,
   "id": "b12ea357-6474-4ddf-b384-f4dc11267901",
   "metadata": {},
   "outputs": [
    {
     "name": "stdout",
     "output_type": "stream",
     "text": [
      "{'nome': 'Ana', 'idade': 25, 'cidade': 'São Paulo'}\n",
      "Ana\n",
      "Não especificado\n"
     ]
    }
   ],
   "source": [
    "meu_dict = {\n",
    "    \"nome\": \"Ana\",\n",
    "    \"idade\": 25,\n",
    "    \"cidade\": \"São Paulo\"\n",
    "}\n",
    "\n",
    "print(meu_dict)\n",
    "\n",
    "# Acessando valores\n",
    "print(meu_dict[\"nome\"])  # Saída: 'Ana'\n",
    "\n",
    "# Usando .get() para evitar erros\n",
    "print(meu_dict.get(\"profissão\", \"Não especificado\"))  # Saída: 'Não especificado'"
   ]
  },
  {
   "cell_type": "markdown",
   "id": "bcf457c6-c1fd-4adb-9a6d-098bc91361b5",
   "metadata": {},
   "source": [
    "## 🔹 Modificando um Dicionário\n",
    "- Adicione um novo par chave-valor ao dicionário `meu_dict` com a chave \"profissão\" e um valor à sua escolha. Em seguida, imprima o dicionário.\n",
    "- Remova a chave \"cidade\" do dicionário e imprima o resultado.\n",
    "- Use o método `.pop()` para remover a chave \"idade\" e armazene o valor removido em uma variável. Imprima o valor e o dicionário resultante.\n"
   ]
  },
  {
   "cell_type": "code",
   "execution_count": 21,
   "id": "22df8e0c-67d5-47d4-ad12-ba6a2e6636a7",
   "metadata": {},
   "outputs": [
    {
     "name": "stdout",
     "output_type": "stream",
     "text": [
      "{'nome': 'Ana', 'idade': 25, 'cidade': 'São Paulo', 'profissão': 'Engenheira'}\n",
      "{'nome': 'Ana', 'idade': 25, 'profissão': 'Engenheira'}\n",
      "25\n",
      "{'nome': 'Ana', 'profissão': 'Engenheira'}\n"
     ]
    }
   ],
   "source": [
    "meu_dict = {\n",
    "    \"nome\": \"Ana\",\n",
    "    \"idade\": 25,\n",
    "    \"cidade\": \"São Paulo\"\n",
    "}\n",
    "\n",
    "# Adicionando ou atualizando uma chave\n",
    "meu_dict[\"profissão\"] = \"Engenheira\"\n",
    "print(meu_dict) \n",
    "\n",
    "# Removendo um elemento\n",
    "del meu_dict[\"cidade\"]\n",
    "print(meu_dict) \n",
    "\n",
    "# Usando .pop() para remover e retornar o valor removido\n",
    "idade = meu_dict.pop(\"idade\")\n",
    "print(idade)\n",
    "print(meu_dict)"
   ]
  },
  {
   "cell_type": "markdown",
   "id": "18af6df8-dd03-4420-835a-269e737ef4dd",
   "metadata": {},
   "source": [
    "## 🔹 Iterando em um Dicionário\n",
    "- Percorra o dicionário `meu_dict` e imprima todas as chaves.\n",
    "- Percorra e imprima todos os valores do dicionário.\n",
    "- Use um loop `for` para imprimir as chaves e os valores em pares formatados como \"chave : valor\".\n"
   ]
  },
  {
   "cell_type": "code",
   "execution_count": 28,
   "id": "a22ea029-ddf5-429b-b012-ceb9f2d9fc38",
   "metadata": {},
   "outputs": [
    {
     "name": "stdout",
     "output_type": "stream",
     "text": [
      "nome\n",
      "idade\n",
      "cidade\n",
      "\n",
      "\n",
      "nome\n",
      "idade\n",
      "cidade\n",
      "\n",
      "\n",
      "Ana\n",
      "25\n",
      "São Paulo\n",
      "\n",
      "\n",
      "nome : Ana\n",
      "idade : 25\n",
      "cidade : São Paulo\n"
     ]
    }
   ],
   "source": [
    "meu_dict = {\n",
    "    \"nome\": \"Ana\",\n",
    "    \"idade\": 25,\n",
    "    \"cidade\": \"São Paulo\"\n",
    "}\n",
    "\n",
    "# Iterando sobre as chaves\n",
    "for k in meu_dict:\n",
    "    print(k)\n",
    "\n",
    "print('\\n')\n",
    "# Outra maneira\n",
    "for chave in meu_dict.keys():\n",
    "    print(chave)\n",
    "\n",
    "print('\\n')\n",
    "# Iterando sobre os valores\n",
    "for valor in meu_dict.values():\n",
    "    print(valor)\n",
    "\n",
    "print('\\n')\n",
    "# Iterando sobre chaves e valores\n",
    "for chave, valor in meu_dict.items():\n",
    "    print(chave, \":\", valor)"
   ]
  },
  {
   "cell_type": "markdown",
   "id": "5c7117ef-be7e-4a64-b517-0c7d6b671d4a",
   "metadata": {},
   "source": [
    "## 🔹 Métodos Úteis de Dicionários\n",
    "- Use os métodos `.keys()`, `.values()`, e `.items()` para imprimir as chaves, valores e pares de chave-valor de `meu_dict`.\n",
    "- Crie um segundo dicionário `outro_dict` com pelo menos um par chave-valor e use o método `.update()` para combinar com `meu_dict`.\n",
    "- Limpe todos os elementos do dicionário `meu_dict` usando o método `.clear()` e imprima o resultado.\n"
   ]
  },
  {
   "cell_type": "code",
   "execution_count": 34,
   "id": "b4002d00-ec05-4592-9d0e-39cfa30c1167",
   "metadata": {},
   "outputs": [
    {
     "data": {
      "text/plain": [
       "[1, 2, 3, 4, 5, 6]"
      ]
     },
     "execution_count": 34,
     "metadata": {},
     "output_type": "execute_result"
    }
   ],
   "source": [
    "lista1 = [1,2,3]\n",
    "lista2 = [4,5,6]\n",
    "lista1.extend(lista2)\n",
    "lista1"
   ]
  },
  {
   "cell_type": "code",
   "execution_count": 36,
   "id": "a9740e3c-b557-4bbe-96ca-89606d7fb4ca",
   "metadata": {},
   "outputs": [],
   "source": [
    "# meu_dict['hobby'] = 'pintura'"
   ]
  },
  {
   "cell_type": "code",
   "execution_count": 38,
   "id": "cc61296a-a001-4ec7-a876-fad5e6d247bd",
   "metadata": {},
   "outputs": [
    {
     "name": "stdout",
     "output_type": "stream",
     "text": [
      "{'nome': 'Ana', 'idade': 25, 'cidade': 'São Paulo'}\n",
      "dict_keys(['nome', 'idade', 'cidade'])\n",
      "dict_values(['Ana', 25, 'São Paulo'])\n",
      "dict_items([('nome', 'Ana'), ('idade', 25), ('cidade', 'São Paulo')])\n",
      "{'nome': 'Ana', 'idade': 25, 'cidade': 'São Paulo', 'hobby': 'pintura'}\n",
      "{}\n"
     ]
    }
   ],
   "source": [
    "meu_dict = {\n",
    "    \"nome\": \"Ana\",\n",
    "    \"idade\": 25,\n",
    "    \"cidade\": \"São Paulo\"\n",
    "}\n",
    "\n",
    "print(meu_dict)\n",
    "print(meu_dict.keys())\n",
    "print(meu_dict.values())\n",
    "print(meu_dict.items())\n",
    "\n",
    "# # Atualizando um dicionário\n",
    "outro_dict = {\"hobby\": \"pintura\"}\n",
    "meu_dict.update(outro_dict)\n",
    "# meu_dict.update({'qto filhos': 3})\n",
    "print(meu_dict)\n",
    "\n",
    "# Limpando o dicionário\n",
    "meu_dict.clear()\n",
    "print(meu_dict)"
   ]
  },
  {
   "cell_type": "markdown",
   "id": "83c2a4e6-a1bb-4b6e-aa37-b30cc647829d",
   "metadata": {},
   "source": [
    "## 🔹 Dicionários vs. Listas\n",
    "- Crie uma lista chamada `minha_lista` com três elementos numéricos e imprima o segundo elemento.\n",
    "- Crie um dicionário chamado `meu_dict` com três chaves numéricas e valores associados. Imprima o valor associado à segunda chave.\n"
   ]
  },
  {
   "cell_type": "code",
   "execution_count": 10,
   "id": "fbe12bed-06a2-4c16-8a08-720fc7b7f743",
   "metadata": {},
   "outputs": [
    {
     "name": "stdout",
     "output_type": "stream",
     "text": [
      "20\n",
      "20\n"
     ]
    }
   ],
   "source": [
    "# Lista\n",
    "minha_lista = [10, 20, 30]\n",
    "print(minha_lista[1])  # Acesso pelo índice - Saída: 20\n",
    "\n",
    "# Dicionário\n",
    "meu_dict = {\"primeiro\": 10, \"segundo\": 20, \"terceiro\": 30}\n",
    "print(meu_dict[\"segundo\"])  # Acesso pela chave - Saída: 20"
   ]
  },
  {
   "cell_type": "markdown",
   "id": "d8bf4180-b63c-4d1b-bd38-cbb86db88158",
   "metadata": {},
   "source": [
    "# Quando é Melhor Usar Dicionários em vez de Listas?\n",
    "\n",
    "## 🔹 1. Acesso Rápido por Chave\n",
    "- **Dicionários** permitem acesso direto a elementos usando chaves, o que é útil quando precisamos buscar valores de forma rápida e eficiente com base em um identificador específico. \n",
    "- **Listas**, por outro lado, só oferecem acesso através de índices numéricos, o que pode tornar a busca por elementos mais lenta em conjuntos de dados grandes."
   ]
  },
  {
   "cell_type": "code",
   "execution_count": 47,
   "id": "95ff7389-7de0-4027-bd84-71615b7b2408",
   "metadata": {},
   "outputs": [
    {
     "name": "stdout",
     "output_type": "stream",
     "text": [
      "50\n",
      "50\n"
     ]
    }
   ],
   "source": [
    "# Usando dicionário\n",
    "estoque = {'maçã': 50, 'banana': 30}\n",
    "print(estoque['maçã'])  # Saída: 50\n",
    "\n",
    "# Usando lista\n",
    "estoque_lista = [('maçã', 50), ('banana', 30)]\n",
    "print(estoque_lista[0][1])  # Saída: 50 (acesso menos intuitivo)"
   ]
  },
  {
   "cell_type": "markdown",
   "id": "a69d7314-f71c-46db-bdb4-b5e7c194e8f7",
   "metadata": {},
   "source": [
    "## 🔹 2. Dados Estruturados com Chaves Significativas\n",
    "- Use **dicionários** quando quiser representar dados com mais clareza, associando cada valor a uma chave descritiva.\n",
    "- **Listas** são mais adequadas para dados que seguem uma sequência numérica, como uma série de números ou itens ordenados."
   ]
  },
  {
   "cell_type": "code",
   "execution_count": 48,
   "id": "f323f813-4321-4e4b-90cc-f3f70affdf11",
   "metadata": {},
   "outputs": [
    {
     "name": "stdout",
     "output_type": "stream",
     "text": [
      "João\n",
      "João\n"
     ]
    }
   ],
   "source": [
    "# Usando dicionário para representar um aluno\n",
    "aluno = {'nome': 'João', 'idade': 20, 'curso': 'Matemática'}\n",
    "print(aluno['nome'])  # Saída: João\n",
    "\n",
    "# Usando lista para representar um aluno\n",
    "aluno_lista = ['João', 20, 'Matemática']\n",
    "print(aluno_lista[0])  # Saída: João (menos claro sobre o que é cada elemento)"
   ]
  },
  {
   "cell_type": "markdown",
   "id": "bc50e458-bd8f-4e18-8438-14b6ec6ddeaf",
   "metadata": {},
   "source": [
    "## Exemplo: Contagem de Palavras em um Texto\n",
    "\n",
    "Crie uma função chamada `contar_palavras` que recebe uma string como argumento e retorna um dicionário onde as chaves são palavras únicas do texto, e os valores são o número de vezes que cada palavra aparece. Ignore a diferenciação entre maiúsculas e minúsculas.\n",
    "\n",
    "### Resolução:"
   ]
  },
  {
   "cell_type": "code",
   "execution_count": 43,
   "id": "d86ba211-9b27-4d4b-8738-f0fe45d2fd91",
   "metadata": {},
   "outputs": [
    {
     "name": "stdout",
     "output_type": "stream",
     "text": [
      "{'python': 2, 'é': 2, 'incrível!': 1, 'uma': 1, 'linguagem': 1, 'incrível': 1, 'poderosa': 1, 'e': 1, 'fácil': 1, 'de': 1, 'aprender.': 1}\n"
     ]
    }
   ],
   "source": [
    "def contar_palavras(texto):\n",
    "    # Converte o texto para minúsculas e remove pontuações básicas\n",
    "    texto = texto.lower().replace('.', '').replace(',', '').replace('!', '').replace('?', '').replace(':','')\n",
    "    \n",
    "    # Divide o texto em palavras\n",
    "    palavras = texto.split()\n",
    "    \n",
    "    # Cria um dicionário para contar as palavras\n",
    "    contagem = {}\n",
    "    \n",
    "    for palavra in palavras:\n",
    "        if palavra in contagem:\n",
    "            contagem[palavra] += 1\n",
    "        else:\n",
    "            contagem[palavra] = 1\n",
    "            \n",
    "    return contagem\n",
    "\n",
    "# Teste a função\n",
    "texto_exemplo = \"Python é incrível! Python é uma linguagem incrível poderosa e fácil de aprender.\"\n",
    "resultado = contar_palavras(texto_exemplo)\n",
    "print(resultado)"
   ]
  },
  {
   "cell_type": "code",
   "execution_count": null,
   "id": "8f7f4384-dec7-4bd8-acea-8c5aac1498b0",
   "metadata": {},
   "outputs": [],
   "source": []
  }
 ],
 "metadata": {
  "kernelspec": {
   "display_name": "Python 3 (ipykernel)",
   "language": "python",
   "name": "python3"
  },
  "language_info": {
   "codemirror_mode": {
    "name": "ipython",
    "version": 3
   },
   "file_extension": ".py",
   "mimetype": "text/x-python",
   "name": "python",
   "nbconvert_exporter": "python",
   "pygments_lexer": "ipython3",
   "version": "3.11.7"
  }
 },
 "nbformat": 4,
 "nbformat_minor": 5
}
