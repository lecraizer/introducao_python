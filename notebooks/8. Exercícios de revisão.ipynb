{
 "cells": [
  {
   "cell_type": "markdown",
   "id": "db8bfd80",
   "metadata": {},
   "source": [
    "## Exercício 1 – Detectar Anagramas na Lista"
   ]
  },
  {
   "cell_type": "code",
   "execution_count": null,
   "id": "00a9fedc",
   "metadata": {},
   "outputs": [],
   "source": [
    "palavras = [\"amor\", \"roma\", \"carro\", \"arco\", \"mar\", \"ram\", \"corra\"]\n",
    "anagramas = []\n",
    "\n",
    "for i in range(len(palavras)):\n",
    "    for j in range(i+1, len(palavras)):\n",
    "        if sorted(palavras[i]) == sorted(palavras[j]):\n",
    "            anagramas.append((palavras[i], palavras[j]))\n",
    "\n",
    "for par in anagramas:\n",
    "    print(par)"
   ]
  },
  {
   "cell_type": "markdown",
   "id": "43a8040d",
   "metadata": {},
   "source": [
    "## Exercício 2 – Agrupar por Primeira Letra"
   ]
  },
  {
   "cell_type": "code",
   "execution_count": null,
   "id": "41190744",
   "metadata": {},
   "outputs": [],
   "source": [
    "nomes = [\"Ana\", \"Amanda\", \"Bruno\", \"Beto\", \"Carlos\", \"Caio\", \"Catarina\"]\n",
    "agrupados = {}\n",
    "\n",
    "for nome in nomes:\n",
    "    inicial = nome[0].upper()\n",
    "    if inicial not in agrupados:\n",
    "        agrupados[inicial] = []\n",
    "    agrupados[inicial].append(nome)\n",
    "\n",
    "print(agrupados)"
   ]
  },
  {
   "cell_type": "markdown",
   "id": "6f0ada05",
   "metadata": {},
   "source": [
    "## Exercício 3 – Compactar Lista de Repetições Consecutivas"
   ]
  },
  {
   "cell_type": "code",
   "execution_count": null,
   "id": "dd833d30",
   "metadata": {},
   "outputs": [],
   "source": [
    "entrada = ['a', 'a', 'a', 'b', 'b', 'a', 'c', 'c', 'c', 'c']\n",
    "compactado = []\n",
    "\n",
    "atual = entrada[0]\n",
    "cont = 1\n",
    "\n",
    "for elem in entrada[1:]:\n",
    "    if elem == atual:\n",
    "        cont += 1\n",
    "    else:\n",
    "        compactado.append((atual, cont))\n",
    "        atual = elem\n",
    "        cont = 1\n",
    "compactado.append((atual, cont))\n",
    "\n",
    "print(compactado)"
   ]
  },
  {
   "cell_type": "markdown",
   "id": "fc108bee",
   "metadata": {},
   "source": [
    "## Exercício 4 – Todas as Duplas Possíveis (Ordem Não Importa)"
   ]
  },
  {
   "cell_type": "code",
   "execution_count": null,
   "id": "649329b4",
   "metadata": {},
   "outputs": [],
   "source": [
    "nomes = [\"João\", \"Maria\", \"Carlos\", \"Ana\"]\n",
    "duplas = []\n",
    "\n",
    "for i in range(len(nomes)):\n",
    "    for j in range(i+1, len(nomes)):\n",
    "        duplas.append((nomes[i], nomes[j]))\n",
    "\n",
    "for dupla in duplas:\n",
    "    print(dupla)"
   ]
  },
  {
   "cell_type": "markdown",
   "id": "1d9ef53e",
   "metadata": {},
   "source": [
    "## Exercício 5 – Estoque de Produtos com Consulta e Atualização"
   ]
  },
  {
   "cell_type": "code",
   "execution_count": null,
   "id": "057ed782",
   "metadata": {},
   "outputs": [],
   "source": [
    "estoque = {\n",
    "    'banana': (10, 2.0),\n",
    "    'maçã': (5, 3.5),\n",
    "    'laranja': (8, 2.5)\n",
    "}\n",
    "\n",
    "produto = input(\"Produto vendido: \").lower()\n",
    "qtd_vendida = int(input(\"Quantidade vendida: \"))\n",
    "\n",
    "if produto in estoque:\n",
    "    qtd, preco = estoque[produto]\n",
    "    if qtd_vendida <= qtd:\n",
    "        estoque[produto] = (qtd - qtd_vendida, preco)\n",
    "        print(f\"Venda realizada: R$ {qtd_vendida * preco:.2f}\")\n",
    "    else:\n",
    "        print(\"Erro: quantidade insuficiente em estoque.\")\n",
    "else:\n",
    "    print(\"Produto não encontrado.\")"
   ]
  },
  {
   "cell_type": "markdown",
   "id": "6cdfb4ff",
   "metadata": {},
   "source": [
    "## Exercício 6 – Índice Remissivo de Palavras"
   ]
  },
  {
   "cell_type": "code",
   "execution_count": null,
   "id": "b29532fd",
   "metadata": {},
   "outputs": [],
   "source": [
    "texto = \"o gato pulou o muro e o cachorro latiu para o gato\"\n",
    "palavras = texto.split()\n",
    "indice = {}\n",
    "\n",
    "for i, palavra in enumerate(palavras):\n",
    "    if palavra not in indice:\n",
    "        indice[palavra] = []\n",
    "    indice[palavra].append(i)\n",
    "\n",
    "print(indice)"
   ]
  },
  {
   "cell_type": "markdown",
   "id": "eaa6bb0f",
   "metadata": {},
   "source": [
    "## Exercício 7 – Tabela Cruzada de Notas por Disciplina"
   ]
  },
  {
   "cell_type": "code",
   "execution_count": null,
   "id": "8bcab4b6",
   "metadata": {},
   "outputs": [],
   "source": [
    "dados = [\n",
    "    (\"Ana\", \"Matemática\", 8.5),\n",
    "    (\"João\", \"Matemática\", 7.0),\n",
    "    (\"Ana\", \"História\", 9.0),\n",
    "    (\"João\", \"História\", 6.5),\n",
    "    (\"Pedro\", \"Matemática\", 6.0),\n",
    "    (\"Pedro\", \"História\", 7.5),\n",
    "]\n",
    "\n",
    "tabela = {}\n",
    "\n",
    "for aluno, disciplina, nota in dados:\n",
    "    if aluno not in tabela:\n",
    "        tabela[aluno] = {}\n",
    "    tabela[aluno][disciplina] = nota\n",
    "\n",
    "for aluno, notas in tabela.items():\n",
    "    media = sum(notas.values()) / len(notas)\n",
    "    print(f\"{aluno}: {notas} | Média: {media:.2f}\")"
   ]
  },
  {
   "cell_type": "markdown",
   "id": "703b83e0",
   "metadata": {},
   "source": [
    "## Exercício 8 – Detectar Palíndromos Compostos"
   ]
  },
  {
   "cell_type": "code",
   "execution_count": null,
   "id": "bcc17451",
   "metadata": {},
   "outputs": [],
   "source": [
    "palavras = [\"ovo\", \"arara\", \"omissíssimo\", \"sim\", \"si\", \"rom\", \"amor\", \"roma\"]\n",
    "\n",
    "for i in range(len(palavras)):\n",
    "    for j in range(len(palavras)):\n",
    "        if i != j:\n",
    "            combinada = palavras[i] + palavras[j]\n",
    "            if combinada == combinada[::-1]:\n",
    "                print(f\"({palavras[i]}, {palavras[j]}) → {combinada}\")"
   ]
  }
 ],
 "metadata": {
  "kernelspec": {
   "display_name": "Python 3 (ipykernel)",
   "language": "python",
   "name": "python3"
  },
  "language_info": {
   "codemirror_mode": {
    "name": "ipython",
    "version": 3
   },
   "file_extension": ".py",
   "mimetype": "text/x-python",
   "name": "python",
   "nbconvert_exporter": "python",
   "pygments_lexer": "ipython3",
   "version": "3.11.7"
  }
 },
 "nbformat": 4,
 "nbformat_minor": 5
}
